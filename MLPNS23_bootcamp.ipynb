{
  "nbformat": 4,
  "nbformat_minor": 0,
  "metadata": {
    "colab": {
      "provenance": [],
      "toc_visible": true,
      "authorship_tag": "ABX9TyO13T47kr5woXzEcGPKQtHR",
      "include_colab_link": true
    },
    "kernelspec": {
      "name": "python3",
      "display_name": "Python 3"
    },
    "language_info": {
      "name": "python"
    }
  },
  "cells": [
    {
      "cell_type": "markdown",
      "metadata": {
        "id": "view-in-github",
        "colab_type": "text"
      },
      "source": [
        "<a href=\"https://colab.research.google.com/github/savimhl/MLPNS_MSavi/blob/main/MLPNS23_bootcamp.ipynb\" target=\"_parent\"><img src=\"https://colab.research.google.com/assets/colab-badge.svg\" alt=\"Open In Colab\"/></a>"
      ]
    },
    {
      "cell_type": "code",
      "source": [
        "2*2\n"
      ],
      "metadata": {
        "colab": {
          "base_uri": "https://localhost:8080/"
        },
        "id": "xEN5Yz0y0EO8",
        "outputId": "65663c49-6d33-4ed1-96ae-7d457804fbea"
      },
      "execution_count": null,
      "outputs": [
        {
          "output_type": "execute_result",
          "data": {
            "text/plain": [
              "4"
            ]
          },
          "metadata": {},
          "execution_count": 1
        }
      ]
    },
    {
      "cell_type": "code",
      "source": [
        "2*3"
      ],
      "metadata": {
        "colab": {
          "base_uri": "https://localhost:8080/"
        },
        "id": "u3SxEAQi1c2y",
        "outputId": "85e912fa-972b-492f-b07d-f28a1b9c393f"
      },
      "execution_count": null,
      "outputs": [
        {
          "output_type": "execute_result",
          "data": {
            "text/plain": [
              "6"
            ]
          },
          "metadata": {},
          "execution_count": 2
        }
      ]
    },
    {
      "cell_type": "markdown",
      "source": [
        "# First markdown cell\n",
        "This is a text cell in markdown syntax,\n",
        "  tipo LateX"
      ],
      "metadata": {
        "id": "CMuFiWFr1lVp"
      }
    },
    {
      "cell_type": "markdown",
      "source": [
        "# Here we start coding"
      ],
      "metadata": {
        "id": "qIaXEsvH2byp"
      }
    },
    {
      "cell_type": "markdown",
      "source": [
        "# Native variables and variable types"
      ],
      "metadata": {
        "id": "zeK27DA224GB"
      }
    },
    {
      "cell_type": "markdown",
      "source": [
        "## Integers"
      ],
      "metadata": {
        "id": "Mn4Y7ewh7B3I"
      }
    },
    {
      "cell_type": "code",
      "source": [
        "intVar = 3"
      ],
      "metadata": {
        "id": "V7NV5vBa2gLi"
      },
      "execution_count": null,
      "outputs": []
    },
    {
      "cell_type": "code",
      "source": [
        "type(intVar)"
      ],
      "metadata": {
        "colab": {
          "base_uri": "https://localhost:8080/"
        },
        "id": "a4spzBNc3cRE",
        "outputId": "488f3f5f-d03b-462e-ecd5-eb39ca6ad639"
      },
      "execution_count": null,
      "outputs": [
        {
          "output_type": "execute_result",
          "data": {
            "text/plain": [
              "int"
            ]
          },
          "metadata": {},
          "execution_count": 4
        }
      ]
    },
    {
      "cell_type": "markdown",
      "source": [
        "## Floats"
      ],
      "metadata": {
        "id": "8AuvqgxE7IpR"
      }
    },
    {
      "cell_type": "code",
      "source": [
        "floatVar = 3.0"
      ],
      "metadata": {
        "id": "LRu6EW6_3f2O"
      },
      "execution_count": null,
      "outputs": []
    },
    {
      "cell_type": "code",
      "source": [
        "type(floatVar)"
      ],
      "metadata": {
        "colab": {
          "base_uri": "https://localhost:8080/"
        },
        "id": "fU-4ycQ93oCE",
        "outputId": "4170da71-6ab9-45e4-9cca-3185b31c26e7"
      },
      "execution_count": null,
      "outputs": [
        {
          "output_type": "execute_result",
          "data": {
            "text/plain": [
              "float"
            ]
          },
          "metadata": {},
          "execution_count": 6
        }
      ]
    },
    {
      "cell_type": "code",
      "source": [
        "float(intVar)"
      ],
      "metadata": {
        "colab": {
          "base_uri": "https://localhost:8080/"
        },
        "id": "kP5FZuB03sQZ",
        "outputId": "d4b7eab7-75b0-4c89-ad2d-e0276761d1da"
      },
      "execution_count": null,
      "outputs": [
        {
          "output_type": "execute_result",
          "data": {
            "text/plain": [
              "3.0"
            ]
          },
          "metadata": {},
          "execution_count": 7
        }
      ]
    },
    {
      "cell_type": "code",
      "source": [
        "type(intVar)"
      ],
      "metadata": {
        "colab": {
          "base_uri": "https://localhost:8080/"
        },
        "id": "-zc48Ay-30LX",
        "outputId": "ac74a9e6-fc07-4d5c-ce3a-7323f5277124"
      },
      "execution_count": null,
      "outputs": [
        {
          "output_type": "execute_result",
          "data": {
            "text/plain": [
              "int"
            ]
          },
          "metadata": {},
          "execution_count": 8
        }
      ]
    },
    {
      "cell_type": "code",
      "source": [
        "float2Var = float(intVar)"
      ],
      "metadata": {
        "id": "gaNYnkPk36tq"
      },
      "execution_count": null,
      "outputs": []
    },
    {
      "cell_type": "code",
      "source": [
        "type(float2Var)"
      ],
      "metadata": {
        "colab": {
          "base_uri": "https://localhost:8080/"
        },
        "id": "eYqOJkxD3_xf",
        "outputId": "57bfa5af-e0e0-468e-e744-2671202a97c5"
      },
      "execution_count": null,
      "outputs": [
        {
          "output_type": "execute_result",
          "data": {
            "text/plain": [
              "float"
            ]
          },
          "metadata": {},
          "execution_count": 10
        }
      ]
    },
    {
      "cell_type": "code",
      "source": [
        "intVar * floatVar"
      ],
      "metadata": {
        "colab": {
          "base_uri": "https://localhost:8080/"
        },
        "id": "Xbzkbqvp4EaW",
        "outputId": "a42edeae-a632-445d-bcb3-0a40b398b8c0"
      },
      "execution_count": null,
      "outputs": [
        {
          "output_type": "execute_result",
          "data": {
            "text/plain": [
              "9.0"
            ]
          },
          "metadata": {},
          "execution_count": 11
        }
      ]
    },
    {
      "cell_type": "code",
      "source": [
        "intVar / 2"
      ],
      "metadata": {
        "colab": {
          "base_uri": "https://localhost:8080/"
        },
        "id": "GXFE91Hm4d8G",
        "outputId": "83751ee9-9ac9-4a05-d2e4-9f05fa1618cd"
      },
      "execution_count": null,
      "outputs": [
        {
          "output_type": "execute_result",
          "data": {
            "text/plain": [
              "1.5"
            ]
          },
          "metadata": {},
          "execution_count": 12
        }
      ]
    },
    {
      "cell_type": "code",
      "source": [
        "intVar + floatVar - intVar / 2"
      ],
      "metadata": {
        "colab": {
          "base_uri": "https://localhost:8080/"
        },
        "id": "JTPOw_DT4oDg",
        "outputId": "09e9d7e8-7935-4fa1-8b79-1229734ca597"
      },
      "execution_count": null,
      "outputs": [
        {
          "output_type": "execute_result",
          "data": {
            "text/plain": [
              "4.5"
            ]
          },
          "metadata": {},
          "execution_count": 13
        }
      ]
    },
    {
      "cell_type": "code",
      "source": [
        "type(intVar + floatVar - intVar / 2)"
      ],
      "metadata": {
        "colab": {
          "base_uri": "https://localhost:8080/"
        },
        "id": "nEUqOFvv5B0Z",
        "outputId": "c9b00b36-f28d-4b1e-de9d-963b3ad6f834"
      },
      "execution_count": null,
      "outputs": [
        {
          "output_type": "execute_result",
          "data": {
            "text/plain": [
              "float"
            ]
          },
          "metadata": {},
          "execution_count": 14
        }
      ]
    },
    {
      "cell_type": "markdown",
      "source": [
        "## Strings"
      ],
      "metadata": {
        "id": "tX4O2GmJ7MmI"
      }
    },
    {
      "cell_type": "code",
      "source": [
        "stringVar = \"Hello World\""
      ],
      "metadata": {
        "id": "X15K3en-5Uq-"
      },
      "execution_count": null,
      "outputs": []
    },
    {
      "cell_type": "code",
      "source": [
        "print(stringVar)"
      ],
      "metadata": {
        "colab": {
          "base_uri": "https://localhost:8080/"
        },
        "id": "U-bMaw695fP7",
        "outputId": "9f0f6542-ac8a-493a-fccc-cce69fd85598"
      },
      "execution_count": null,
      "outputs": [
        {
          "output_type": "stream",
          "name": "stdout",
          "text": [
            "Hello World\n"
          ]
        }
      ]
    },
    {
      "cell_type": "code",
      "source": [
        "print(\"\"\"Hello \n",
        "world\"\"\")"
      ],
      "metadata": {
        "colab": {
          "base_uri": "https://localhost:8080/"
        },
        "id": "zojq2iAc5pGw",
        "outputId": "50d86178-76d4-4b7b-9019-9b2463daf770"
      },
      "execution_count": null,
      "outputs": [
        {
          "output_type": "stream",
          "name": "stdout",
          "text": [
            "Hello \n",
            "world\n"
          ]
        }
      ]
    },
    {
      "cell_type": "markdown",
      "source": [
        "## Boolean"
      ],
      "metadata": {
        "id": "yup7pbmI7Oo1"
      }
    },
    {
      "cell_type": "code",
      "source": [
        "False"
      ],
      "metadata": {
        "colab": {
          "base_uri": "https://localhost:8080/"
        },
        "id": "JzCXVneO7h2A",
        "outputId": "cc1a01be-a604-45bb-d873-dae4fc473f00"
      },
      "execution_count": null,
      "outputs": [
        {
          "output_type": "execute_result",
          "data": {
            "text/plain": [
              "False"
            ]
          },
          "metadata": {},
          "execution_count": 18
        }
      ]
    },
    {
      "cell_type": "code",
      "source": [
        "True"
      ],
      "metadata": {
        "colab": {
          "base_uri": "https://localhost:8080/"
        },
        "id": "HR7-OcXf7lsP",
        "outputId": "bca9f6d4-a281-491b-dd0d-0f747da230f4"
      },
      "execution_count": null,
      "outputs": [
        {
          "output_type": "execute_result",
          "data": {
            "text/plain": [
              "True"
            ]
          },
          "metadata": {},
          "execution_count": 19
        }
      ]
    },
    {
      "cell_type": "code",
      "source": [
        "if True :\n",
        "  print(\"This is True!\")"
      ],
      "metadata": {
        "colab": {
          "base_uri": "https://localhost:8080/"
        },
        "id": "xlWExgjt7pzx",
        "outputId": "99020f43-cae2-4536-9699-b46978336d8a"
      },
      "execution_count": null,
      "outputs": [
        {
          "output_type": "stream",
          "name": "stdout",
          "text": [
            "This is True!\n"
          ]
        }
      ]
    },
    {
      "cell_type": "code",
      "source": [
        "if False:\n",
        "  print(\"This is true.........\")\n",
        "else: print(\"cond was false\")"
      ],
      "metadata": {
        "colab": {
          "base_uri": "https://localhost:8080/"
        },
        "id": "VPRVhPoq7zns",
        "outputId": "a05e22c6-7f1b-4880-de0e-2166ef9d968b"
      },
      "execution_count": null,
      "outputs": [
        {
          "output_type": "stream",
          "name": "stdout",
          "text": [
            "cond was false\n"
          ]
        }
      ]
    },
    {
      "cell_type": "code",
      "source": [
        "intVar == floatVar"
      ],
      "metadata": {
        "colab": {
          "base_uri": "https://localhost:8080/"
        },
        "id": "QKrZSSpo9a6d",
        "outputId": "a4252f73-4a24-4f5c-e789-1cb79db60705"
      },
      "execution_count": null,
      "outputs": [
        {
          "output_type": "execute_result",
          "data": {
            "text/plain": [
              "True"
            ]
          },
          "metadata": {},
          "execution_count": 22
        }
      ]
    },
    {
      "cell_type": "code",
      "source": [
        "False == 0"
      ],
      "metadata": {
        "colab": {
          "base_uri": "https://localhost:8080/"
        },
        "id": "LJnRXc-P-jBC",
        "outputId": "4697d5d8-aca1-4534-f82b-20fae0bb37db"
      },
      "execution_count": null,
      "outputs": [
        {
          "output_type": "execute_result",
          "data": {
            "text/plain": [
              "True"
            ]
          },
          "metadata": {},
          "execution_count": 23
        }
      ]
    },
    {
      "cell_type": "code",
      "source": [
        "True == 1"
      ],
      "metadata": {
        "colab": {
          "base_uri": "https://localhost:8080/"
        },
        "id": "rwBygnt6-m8n",
        "outputId": "a4636d69-412c-45f1-dc9e-23bd91ee9c47"
      },
      "execution_count": null,
      "outputs": [
        {
          "output_type": "execute_result",
          "data": {
            "text/plain": [
              "True"
            ]
          },
          "metadata": {},
          "execution_count": 24
        }
      ]
    },
    {
      "cell_type": "code",
      "source": [
        "# + is logical OR, * is logical AND\n",
        "True * False "
      ],
      "metadata": {
        "colab": {
          "base_uri": "https://localhost:8080/"
        },
        "id": "-CpbkVM9_BzX",
        "outputId": "3503a468-de2a-4a08-fa9b-2f8607d71d97"
      },
      "execution_count": null,
      "outputs": [
        {
          "output_type": "execute_result",
          "data": {
            "text/plain": [
              "0"
            ]
          },
          "metadata": {},
          "execution_count": 25
        }
      ]
    },
    {
      "cell_type": "code",
      "source": [
        "for i in range(10):\n",
        "  print(i)"
      ],
      "metadata": {
        "id": "ugmL4yGsBZLr",
        "colab": {
          "base_uri": "https://localhost:8080/"
        },
        "outputId": "f0801af6-8208-4457-df06-4d8724df809f"
      },
      "execution_count": null,
      "outputs": [
        {
          "output_type": "stream",
          "name": "stdout",
          "text": [
            "0\n",
            "1\n",
            "2\n",
            "3\n",
            "4\n",
            "5\n",
            "6\n",
            "7\n",
            "8\n",
            "9\n"
          ]
        }
      ]
    },
    {
      "cell_type": "markdown",
      "source": [
        "# Variables as objects"
      ],
      "metadata": {
        "id": "DFPYE8yt6iaQ"
      }
    },
    {
      "cell_type": "code",
      "source": [
        "stringVar"
      ],
      "metadata": {
        "id": "FD3fY_gK67Xp",
        "colab": {
          "base_uri": "https://localhost:8080/",
          "height": 35
        },
        "outputId": "9c1c6941-03cd-4dbf-d81f-d854d7b3fc86"
      },
      "execution_count": null,
      "outputs": [
        {
          "output_type": "execute_result",
          "data": {
            "text/plain": [
              "'Hello World'"
            ],
            "application/vnd.google.colaboratory.intrinsic+json": {
              "type": "string"
            }
          },
          "metadata": {},
          "execution_count": 27
        }
      ]
    },
    {
      "cell_type": "code",
      "source": [
        "stringVar.capitalize()"
      ],
      "metadata": {
        "colab": {
          "base_uri": "https://localhost:8080/",
          "height": 35
        },
        "id": "VXrmrOhrCxTO",
        "outputId": "03e567b5-f5a4-49c6-c1b2-f45163ddc83f"
      },
      "execution_count": null,
      "outputs": [
        {
          "output_type": "execute_result",
          "data": {
            "text/plain": [
              "'Hello world'"
            ],
            "application/vnd.google.colaboratory.intrinsic+json": {
              "type": "string"
            }
          },
          "metadata": {},
          "execution_count": 28
        }
      ]
    },
    {
      "cell_type": "code",
      "source": [
        "stringVar.lower()"
      ],
      "metadata": {
        "colab": {
          "base_uri": "https://localhost:8080/",
          "height": 35
        },
        "id": "qdwxh9hpDDo0",
        "outputId": "a48c4c93-0096-444a-f45f-fb7343264bf0"
      },
      "execution_count": null,
      "outputs": [
        {
          "output_type": "execute_result",
          "data": {
            "text/plain": [
              "'hello world'"
            ],
            "application/vnd.google.colaboratory.intrinsic+json": {
              "type": "string"
            }
          },
          "metadata": {},
          "execution_count": 29
        }
      ]
    },
    {
      "cell_type": "code",
      "source": [
        "\"3\".isdigit()"
      ],
      "metadata": {
        "colab": {
          "base_uri": "https://localhost:8080/"
        },
        "id": "XMTvVwRjDVxe",
        "outputId": "6bb37f6c-e259-4736-9288-7587f60e9870"
      },
      "execution_count": null,
      "outputs": [
        {
          "output_type": "execute_result",
          "data": {
            "text/plain": [
              "True"
            ]
          },
          "metadata": {},
          "execution_count": 30
        }
      ]
    },
    {
      "cell_type": "markdown",
      "source": [
        "## list"
      ],
      "metadata": {
        "id": "uszYV3lTDXrI"
      }
    },
    {
      "cell_type": "code",
      "source": [
        "strVar = stringVar"
      ],
      "metadata": {
        "id": "ihom8xC1Ez9e"
      },
      "execution_count": null,
      "outputs": []
    },
    {
      "cell_type": "code",
      "source": [
        "listVar = [intVar, floatVar, strVar, 0, True]\n",
        "listVar"
      ],
      "metadata": {
        "colab": {
          "base_uri": "https://localhost:8080/"
        },
        "id": "h6BGlsrzEsyO",
        "outputId": "8c2c5d5b-7558-49e3-a581-194cad261567"
      },
      "execution_count": null,
      "outputs": [
        {
          "output_type": "execute_result",
          "data": {
            "text/plain": [
              "[3, 3.0, 'Hello World', 0, True]"
            ]
          },
          "metadata": {},
          "execution_count": 32
        }
      ]
    },
    {
      "cell_type": "code",
      "source": [
        "listVar.append(11)\n",
        "listVar"
      ],
      "metadata": {
        "colab": {
          "base_uri": "https://localhost:8080/"
        },
        "id": "QxFPQPaAE3Cv",
        "outputId": "e81033e6-4757-44f5-fda5-7c7201c82976"
      },
      "execution_count": null,
      "outputs": [
        {
          "output_type": "execute_result",
          "data": {
            "text/plain": [
              "[3, 3.0, 'Hello World', 0, True, 11]"
            ]
          },
          "metadata": {},
          "execution_count": 33
        }
      ]
    },
    {
      "cell_type": "code",
      "source": [
        "listVar[0]"
      ],
      "metadata": {
        "colab": {
          "base_uri": "https://localhost:8080/"
        },
        "id": "qEOaZ5MyFVDU",
        "outputId": "cda94ef5-6851-4838-db28-b6f8b57da1f7"
      },
      "execution_count": null,
      "outputs": [
        {
          "output_type": "execute_result",
          "data": {
            "text/plain": [
              "3"
            ]
          },
          "metadata": {},
          "execution_count": 34
        }
      ]
    },
    {
      "cell_type": "code",
      "source": [
        "def check(target, guess):\n",
        "  strVar = \" \"\n",
        "  if len(guess) != len(target):\n",
        "    print(\"No\")\n",
        "    return\n",
        "  if target == guess:\n",
        "    print(\"You win!\")\n",
        "    print(target)\n",
        "  else:\n",
        "    for i in range(len(target)):\n",
        "      if target[i] == guess[i]:\n",
        "        strVar += guess[i]\n",
        "      elif guess[i] in target:\n",
        "        strVar += \"*\"\n",
        "      else:\n",
        "        strVar += \"_\"\n",
        "    print(strVar)\n",
        "\n",
        "target = \"terror\"\n",
        "guess = \"perro\"\n",
        "check(target.upper(), guess.upper())"
      ],
      "metadata": {
        "colab": {
          "base_uri": "https://localhost:8080/"
        },
        "id": "hi0BUQhxGgYi",
        "outputId": "6bdcca50-de2d-479f-b316-666b489de3ac"
      },
      "execution_count": null,
      "outputs": [
        {
          "output_type": "stream",
          "name": "stdout",
          "text": [
            "No\n"
          ]
        }
      ]
    },
    {
      "cell_type": "code",
      "source": [
        "str = \"\"\n",
        "str = str + \"c\"\n",
        "print(str)"
      ],
      "metadata": {
        "colab": {
          "base_uri": "https://localhost:8080/"
        },
        "id": "o5LTSR5fJnS9",
        "outputId": "8eda6e9a-ef8a-43fb-dd78-60e54f925f09"
      },
      "execution_count": null,
      "outputs": [
        {
          "output_type": "stream",
          "name": "stdout",
          "text": [
            "c\n"
          ]
        }
      ]
    },
    {
      "cell_type": "code",
      "source": [],
      "metadata": {
        "id": "n3psrlKzOi-6"
      },
      "execution_count": null,
      "outputs": []
    },
    {
      "cell_type": "markdown",
      "source": [
        "# Functions"
      ],
      "metadata": {
        "id": "uiutP1GHO94U"
      }
    },
    {
      "cell_type": "code",
      "source": [
        "def wordle(guess):\n",
        "  \"\"\"\n",
        "  a function that checks a word guess against a target...\n",
        "  \"\"\""
      ],
      "metadata": {
        "id": "tXcF20VcPCfs"
      },
      "execution_count": null,
      "outputs": []
    },
    {
      "cell_type": "code",
      "source": [
        "wordle?"
      ],
      "metadata": {
        "id": "zMPUlvvPPoSn"
      },
      "execution_count": null,
      "outputs": []
    },
    {
      "cell_type": "markdown",
      "source": [
        ".join è proprietà di una stringa, unisce elementi della lista che gli passo alla stringa prima del punto"
      ],
      "metadata": {
        "id": "A7IYu0a7QBQI"
      }
    },
    {
      "cell_type": "code",
      "source": [
        "list_st_var = [\"H\", \"E\", \"L\", \"L\", \"O\"]\n",
        "\" \".join(list_st_var) "
      ],
      "metadata": {
        "colab": {
          "base_uri": "https://localhost:8080/",
          "height": 35
        },
        "id": "QYohTs5XQMgF",
        "outputId": "f44de4ae-a245-43bd-b67b-e37a9680aa07"
      },
      "execution_count": null,
      "outputs": [
        {
          "output_type": "execute_result",
          "data": {
            "text/plain": [
              "'H E L L O'"
            ],
            "application/vnd.google.colaboratory.intrinsic+json": {
              "type": "string"
            }
          },
          "metadata": {},
          "execution_count": 39
        }
      ]
    },
    {
      "cell_type": "markdown",
      "source": [
        "# importing packages"
      ],
      "metadata": {
        "id": "sVsO6qjjSDlc"
      }
    },
    {
      "cell_type": "markdown",
      "source": [
        "I tipici pacchetti che useremo sono \n",
        "### pandas\n",
        "per dati tabulari\n",
        "### numpy \n",
        "per roba numerica\n",
        "### scipy\n",
        "per statistica\n",
        "### matplotlib\n",
        "per plot\n",
        "### sklearn (scikitlearn)\n",
        "per machine learning\n",
        "### tensorflow\n",
        "per neural networks"
      ],
      "metadata": {
        "id": "QW5JYp1WSGZz"
      }
    },
    {
      "cell_type": "code",
      "source": [
        "import pandas as pd\n",
        "#from pandas import read_csv"
      ],
      "metadata": {
        "id": "3hQOt8OlS6ur"
      },
      "execution_count": null,
      "outputs": []
    },
    {
      "cell_type": "code",
      "source": [
        "url = \"https://raw.githubusercontent.com/fedhere/PyBOOT/master/311_Service_Requests_from_2010_to_Present.csv\""
      ],
      "metadata": {
        "id": "4AjeJQvATDng"
      },
      "execution_count": null,
      "outputs": []
    },
    {
      "cell_type": "code",
      "source": [
        "df = pd.read_csv(url)"
      ],
      "metadata": {
        "id": "DbjIzqLGVKuP"
      },
      "execution_count": null,
      "outputs": []
    },
    {
      "cell_type": "code",
      "source": [
        "df.shape"
      ],
      "metadata": {
        "colab": {
          "base_uri": "https://localhost:8080/"
        },
        "id": "TYSuooECVvWe",
        "outputId": "d5e4cae7-68af-4c1e-c436-40520862c2ba"
      },
      "execution_count": null,
      "outputs": [
        {
          "output_type": "execute_result",
          "data": {
            "text/plain": [
              "(924, 41)"
            ]
          },
          "metadata": {},
          "execution_count": 43
        }
      ]
    },
    {
      "cell_type": "code",
      "source": [
        "df.columns"
      ],
      "metadata": {
        "colab": {
          "base_uri": "https://localhost:8080/"
        },
        "id": "4_0oBKFAV46X",
        "outputId": "1972882d-49dc-4a22-df67-70cc61075caa"
      },
      "execution_count": null,
      "outputs": [
        {
          "output_type": "execute_result",
          "data": {
            "text/plain": [
              "Index(['Unique Key', 'Created Date', 'Closed Date', 'Agency', 'Agency Name',\n",
              "       'Complaint Type', 'Descriptor', 'Location Type', 'Incident Zip',\n",
              "       'Incident Address', 'Street Name', 'Cross Street 1', 'Cross Street 2',\n",
              "       'Intersection Street 1', 'Intersection Street 2', 'Address Type',\n",
              "       'City', 'Landmark', 'Facility Type', 'Status', 'Due Date',\n",
              "       'Resolution Description', 'Resolution Action Updated Date',\n",
              "       'Community Board', 'BBL', 'Borough', 'X Coordinate (State Plane)',\n",
              "       'Y Coordinate (State Plane)', 'Open Data Channel Type',\n",
              "       'Park Facility Name', 'Park Borough', 'Vehicle Type',\n",
              "       'Taxi Company Borough', 'Taxi Pick Up Location', 'Bridge Highway Name',\n",
              "       'Bridge Highway Direction', 'Road Ramp', 'Bridge Highway Segment',\n",
              "       'Latitude', 'Longitude', 'Location'],\n",
              "      dtype='object')"
            ]
          },
          "metadata": {},
          "execution_count": 44
        }
      ]
    },
    {
      "cell_type": "code",
      "source": [
        "df.iloc[0]\n",
        "# ritorna la riga 0, oggetto di tipo pandas series.\n"
      ],
      "metadata": {
        "id": "Sb3IvvyLWKYv",
        "colab": {
          "base_uri": "https://localhost:8080/"
        },
        "outputId": "a10da907-bc5d-4e7d-ce63-0f64660078f4"
      },
      "execution_count": null,
      "outputs": [
        {
          "output_type": "execute_result",
          "data": {
            "text/plain": [
              "Unique Key                                                       54049402\n",
              "Created Date                                       05/01/2022 12:00:03 AM\n",
              "Closed Date                                                           NaN\n",
              "Agency                                                               NYPD\n",
              "Agency Name                               New York City Police Department\n",
              "Complaint Type                                        Noise - Residential\n",
              "Descriptor                                               Loud Music/Party\n",
              "Location Type                                  Residential Building/House\n",
              "Incident Zip                                                      10452.0\n",
              "Incident Address                                       1006 GERARD AVENUE\n",
              "Street Name                                                 GERARD AVENUE\n",
              "Cross Street 1                                           EAST  164 STREET\n",
              "Cross Street 2                                           EAST  165 STREET\n",
              "Intersection Street 1                                    EAST  164 STREET\n",
              "Intersection Street 2                                    EAST  165 STREET\n",
              "Address Type                                                      ADDRESS\n",
              "City                                                                BRONX\n",
              "Landmark                                                    GERARD AVENUE\n",
              "Facility Type                                                         NaN\n",
              "Status                                                        In Progress\n",
              "Due Date                                                              NaN\n",
              "Resolution Description                                                NaN\n",
              "Resolution Action Updated Date                                        NaN\n",
              "Community Board                                                  04 BRONX\n",
              "BBL                                                          2024770001.0\n",
              "Borough                                                             BRONX\n",
              "X Coordinate (State Plane)                                      1005536.0\n",
              "Y Coordinate (State Plane)                                       241916.0\n",
              "Open Data Channel Type                                             ONLINE\n",
              "Park Facility Name                                            Unspecified\n",
              "Park Borough                                                        BRONX\n",
              "Vehicle Type                                                          NaN\n",
              "Taxi Company Borough                                                  NaN\n",
              "Taxi Pick Up Location                                                 NaN\n",
              "Bridge Highway Name                                                   NaN\n",
              "Bridge Highway Direction                                              NaN\n",
              "Road Ramp                                                             NaN\n",
              "Bridge Highway Segment                                                NaN\n",
              "Latitude                                                        40.830653\n",
              "Longitude                                                      -73.923082\n",
              "Location                          (40.83065331987539, -73.92308231033165)\n",
              "Name: 0, dtype: object"
            ]
          },
          "metadata": {},
          "execution_count": 45
        }
      ]
    },
    {
      "cell_type": "code",
      "source": [
        "df.iloc[:, 1] "
      ],
      "metadata": {
        "colab": {
          "base_uri": "https://localhost:8080/"
        },
        "id": "OzypqPjwW7MR",
        "outputId": "6ab735f5-2827-401b-a4f2-163de87d5b02"
      },
      "execution_count": null,
      "outputs": [
        {
          "output_type": "execute_result",
          "data": {
            "text/plain": [
              "0      05/01/2022 12:00:03 AM\n",
              "1      05/01/2022 12:00:09 AM\n",
              "2      05/01/2022 12:00:17 AM\n",
              "3      05/01/2022 12:00:21 AM\n",
              "4      05/01/2022 12:00:25 AM\n",
              "                ...          \n",
              "919    05/01/2022 02:04:45 AM\n",
              "920    05/01/2022 02:05:35 AM\n",
              "921    05/01/2022 02:05:38 AM\n",
              "922    05/01/2022 02:06:13 AM\n",
              "923    05/01/2022 02:06:26 AM\n",
              "Name: Created Date, Length: 924, dtype: object"
            ]
          },
          "metadata": {},
          "execution_count": 46
        }
      ]
    },
    {
      "cell_type": "code",
      "source": [
        "url2 = \"https://raw.githubusercontent.com/fedhere/UInotebooks/master/dataWrangling/movies.dat\""
      ],
      "metadata": {
        "id": "sLsAFkmpXE_O"
      },
      "execution_count": null,
      "outputs": []
    },
    {
      "cell_type": "code",
      "source": [
        "colnames=(\"title\", \"genre\")\n",
        "df2 = pd.read_csv(url2, sep=\"::\", index_col=0, header = None, names = colnames) # per usare la colonna degli indici del file come nostri indici"
      ],
      "metadata": {
        "colab": {
          "base_uri": "https://localhost:8080/"
        },
        "id": "nQV8pLQqX-FM",
        "outputId": "b97b2bc1-7260-4ec8-9f75-2d3629a24afc"
      },
      "execution_count": null,
      "outputs": [
        {
          "output_type": "stream",
          "name": "stderr",
          "text": [
            "/usr/local/lib/python3.9/dist-packages/pandas/util/_decorators.py:311: ParserWarning: Falling back to the 'python' engine because the 'c' engine does not support regex separators (separators > 1 char and different from '\\s+' are interpreted as regex); you can avoid this warning by specifying engine='python'.\n",
            "  return func(*args, **kwargs)\n"
          ]
        }
      ]
    },
    {
      "cell_type": "code",
      "source": [
        "genre = df2.iloc[:,1]"
      ],
      "metadata": {
        "id": "Dp3P5wCC-Ipw"
      },
      "execution_count": null,
      "outputs": []
    },
    {
      "cell_type": "code",
      "source": [
        "len(genre)"
      ],
      "metadata": {
        "colab": {
          "base_uri": "https://localhost:8080/"
        },
        "id": "5DJm6GOm-yut",
        "outputId": "19351984-d94a-4d97-beba-c59b16d2074d"
      },
      "execution_count": null,
      "outputs": [
        {
          "output_type": "execute_result",
          "data": {
            "text/plain": [
              "3883"
            ]
          },
          "metadata": {},
          "execution_count": 50
        }
      ]
    },
    {
      "cell_type": "code",
      "source": [
        "\n",
        "genre = df2.iloc[:,1]\n",
        "counter = 0\n",
        "movies = []\n",
        "\n",
        "for i in range(len(genre)):\n",
        "  if \"Fantasy\" in genre.iloc[i]: #to find only fantasy movies, put ==\n",
        "    movies.append(df2.iloc[i])\n",
        "    counter += 1 \n",
        "\n",
        "\n",
        "print(\"I Film Fantasy sono\", counter)\n",
        "dfanta= pd.DataFrame(movies)\n",
        "dfanta\n",
        "\n",
        "\n"
      ],
      "metadata": {
        "colab": {
          "base_uri": "https://localhost:8080/",
          "height": 442
        },
        "id": "KXvHif6qcOtw",
        "outputId": "628b1072-9890-4bf9-8a9b-517e005dee9b"
      },
      "execution_count": null,
      "outputs": [
        {
          "output_type": "stream",
          "name": "stdout",
          "text": [
            "I Film Fantasy sono 68\n"
          ]
        },
        {
          "output_type": "execute_result",
          "data": {
            "text/plain": [
              "                                                  title  \\\n",
              "2                                        Jumanji (1995)   \n",
              "56                       Kids of the Round Table (1995)   \n",
              "60                   Indian in the Cupboard, The (1995)   \n",
              "126                   NeverEnding Story III, The (1994)   \n",
              "247                           Heavenly Creatures (1994)   \n",
              "...                                                 ...   \n",
              "3479                                   Ladyhawke (1985)   \n",
              "3489                                        Hook (1991)   \n",
              "3877                                   Supergirl (1984)   \n",
              "3889                         Highlander: Endgame (2000)   \n",
              "3920  Faraway, So Close (In Weiter Ferne, So Nah!) (...   \n",
              "\n",
              "                               genre  \n",
              "2       Adventure|Children's|Fantasy  \n",
              "56      Adventure|Children's|Fantasy  \n",
              "60      Adventure|Children's|Fantasy  \n",
              "126     Adventure|Children's|Fantasy  \n",
              "247   Drama|Fantasy|Romance|Thriller  \n",
              "...                              ...  \n",
              "3479       Adventure|Fantasy|Romance  \n",
              "3489               Adventure|Fantasy  \n",
              "3877        Action|Adventure|Fantasy  \n",
              "3889        Action|Adventure|Fantasy  \n",
              "3920                   Drama|Fantasy  \n",
              "\n",
              "[68 rows x 2 columns]"
            ],
            "text/html": [
              "\n",
              "  <div id=\"df-a4aeb6d5-4ec7-4da4-acd2-85b6d79cad70\">\n",
              "    <div class=\"colab-df-container\">\n",
              "      <div>\n",
              "<style scoped>\n",
              "    .dataframe tbody tr th:only-of-type {\n",
              "        vertical-align: middle;\n",
              "    }\n",
              "\n",
              "    .dataframe tbody tr th {\n",
              "        vertical-align: top;\n",
              "    }\n",
              "\n",
              "    .dataframe thead th {\n",
              "        text-align: right;\n",
              "    }\n",
              "</style>\n",
              "<table border=\"1\" class=\"dataframe\">\n",
              "  <thead>\n",
              "    <tr style=\"text-align: right;\">\n",
              "      <th></th>\n",
              "      <th>title</th>\n",
              "      <th>genre</th>\n",
              "    </tr>\n",
              "  </thead>\n",
              "  <tbody>\n",
              "    <tr>\n",
              "      <th>2</th>\n",
              "      <td>Jumanji (1995)</td>\n",
              "      <td>Adventure|Children's|Fantasy</td>\n",
              "    </tr>\n",
              "    <tr>\n",
              "      <th>56</th>\n",
              "      <td>Kids of the Round Table (1995)</td>\n",
              "      <td>Adventure|Children's|Fantasy</td>\n",
              "    </tr>\n",
              "    <tr>\n",
              "      <th>60</th>\n",
              "      <td>Indian in the Cupboard, The (1995)</td>\n",
              "      <td>Adventure|Children's|Fantasy</td>\n",
              "    </tr>\n",
              "    <tr>\n",
              "      <th>126</th>\n",
              "      <td>NeverEnding Story III, The (1994)</td>\n",
              "      <td>Adventure|Children's|Fantasy</td>\n",
              "    </tr>\n",
              "    <tr>\n",
              "      <th>247</th>\n",
              "      <td>Heavenly Creatures (1994)</td>\n",
              "      <td>Drama|Fantasy|Romance|Thriller</td>\n",
              "    </tr>\n",
              "    <tr>\n",
              "      <th>...</th>\n",
              "      <td>...</td>\n",
              "      <td>...</td>\n",
              "    </tr>\n",
              "    <tr>\n",
              "      <th>3479</th>\n",
              "      <td>Ladyhawke (1985)</td>\n",
              "      <td>Adventure|Fantasy|Romance</td>\n",
              "    </tr>\n",
              "    <tr>\n",
              "      <th>3489</th>\n",
              "      <td>Hook (1991)</td>\n",
              "      <td>Adventure|Fantasy</td>\n",
              "    </tr>\n",
              "    <tr>\n",
              "      <th>3877</th>\n",
              "      <td>Supergirl (1984)</td>\n",
              "      <td>Action|Adventure|Fantasy</td>\n",
              "    </tr>\n",
              "    <tr>\n",
              "      <th>3889</th>\n",
              "      <td>Highlander: Endgame (2000)</td>\n",
              "      <td>Action|Adventure|Fantasy</td>\n",
              "    </tr>\n",
              "    <tr>\n",
              "      <th>3920</th>\n",
              "      <td>Faraway, So Close (In Weiter Ferne, So Nah!) (...</td>\n",
              "      <td>Drama|Fantasy</td>\n",
              "    </tr>\n",
              "  </tbody>\n",
              "</table>\n",
              "<p>68 rows × 2 columns</p>\n",
              "</div>\n",
              "      <button class=\"colab-df-convert\" onclick=\"convertToInteractive('df-a4aeb6d5-4ec7-4da4-acd2-85b6d79cad70')\"\n",
              "              title=\"Convert this dataframe to an interactive table.\"\n",
              "              style=\"display:none;\">\n",
              "        \n",
              "  <svg xmlns=\"http://www.w3.org/2000/svg\" height=\"24px\"viewBox=\"0 0 24 24\"\n",
              "       width=\"24px\">\n",
              "    <path d=\"M0 0h24v24H0V0z\" fill=\"none\"/>\n",
              "    <path d=\"M18.56 5.44l.94 2.06.94-2.06 2.06-.94-2.06-.94-.94-2.06-.94 2.06-2.06.94zm-11 1L8.5 8.5l.94-2.06 2.06-.94-2.06-.94L8.5 2.5l-.94 2.06-2.06.94zm10 10l.94 2.06.94-2.06 2.06-.94-2.06-.94-.94-2.06-.94 2.06-2.06.94z\"/><path d=\"M17.41 7.96l-1.37-1.37c-.4-.4-.92-.59-1.43-.59-.52 0-1.04.2-1.43.59L10.3 9.45l-7.72 7.72c-.78.78-.78 2.05 0 2.83L4 21.41c.39.39.9.59 1.41.59.51 0 1.02-.2 1.41-.59l7.78-7.78 2.81-2.81c.8-.78.8-2.07 0-2.86zM5.41 20L4 18.59l7.72-7.72 1.47 1.35L5.41 20z\"/>\n",
              "  </svg>\n",
              "      </button>\n",
              "      \n",
              "  <style>\n",
              "    .colab-df-container {\n",
              "      display:flex;\n",
              "      flex-wrap:wrap;\n",
              "      gap: 12px;\n",
              "    }\n",
              "\n",
              "    .colab-df-convert {\n",
              "      background-color: #E8F0FE;\n",
              "      border: none;\n",
              "      border-radius: 50%;\n",
              "      cursor: pointer;\n",
              "      display: none;\n",
              "      fill: #1967D2;\n",
              "      height: 32px;\n",
              "      padding: 0 0 0 0;\n",
              "      width: 32px;\n",
              "    }\n",
              "\n",
              "    .colab-df-convert:hover {\n",
              "      background-color: #E2EBFA;\n",
              "      box-shadow: 0px 1px 2px rgba(60, 64, 67, 0.3), 0px 1px 3px 1px rgba(60, 64, 67, 0.15);\n",
              "      fill: #174EA6;\n",
              "    }\n",
              "\n",
              "    [theme=dark] .colab-df-convert {\n",
              "      background-color: #3B4455;\n",
              "      fill: #D2E3FC;\n",
              "    }\n",
              "\n",
              "    [theme=dark] .colab-df-convert:hover {\n",
              "      background-color: #434B5C;\n",
              "      box-shadow: 0px 1px 3px 1px rgba(0, 0, 0, 0.15);\n",
              "      filter: drop-shadow(0px 1px 2px rgba(0, 0, 0, 0.3));\n",
              "      fill: #FFFFFF;\n",
              "    }\n",
              "  </style>\n",
              "\n",
              "      <script>\n",
              "        const buttonEl =\n",
              "          document.querySelector('#df-a4aeb6d5-4ec7-4da4-acd2-85b6d79cad70 button.colab-df-convert');\n",
              "        buttonEl.style.display =\n",
              "          google.colab.kernel.accessAllowed ? 'block' : 'none';\n",
              "\n",
              "        async function convertToInteractive(key) {\n",
              "          const element = document.querySelector('#df-a4aeb6d5-4ec7-4da4-acd2-85b6d79cad70');\n",
              "          const dataTable =\n",
              "            await google.colab.kernel.invokeFunction('convertToInteractive',\n",
              "                                                     [key], {});\n",
              "          if (!dataTable) return;\n",
              "\n",
              "          const docLinkHtml = 'Like what you see? Visit the ' +\n",
              "            '<a target=\"_blank\" href=https://colab.research.google.com/notebooks/data_table.ipynb>data table notebook</a>'\n",
              "            + ' to learn more about interactive tables.';\n",
              "          element.innerHTML = '';\n",
              "          dataTable['output_type'] = 'display_data';\n",
              "          await google.colab.output.renderOutput(dataTable, element);\n",
              "          const docLink = document.createElement('div');\n",
              "          docLink.innerHTML = docLinkHtml;\n",
              "          element.appendChild(docLink);\n",
              "        }\n",
              "      </script>\n",
              "    </div>\n",
              "  </div>\n",
              "  "
            ]
          },
          "metadata": {},
          "execution_count": 51
        }
      ]
    },
    {
      "cell_type": "code",
      "source": [
        "genre = df2.iloc[:,1]\n",
        "movies2 = []\n",
        "counter2 = 0\n",
        "\n",
        "for j in range(len(genre)):\n",
        "  if \"Adventure\" == genre.iloc[j]: \n",
        "    movies2.append(df2.iloc[j])\n",
        "    counter2 += 1 \n",
        "\n",
        "\n",
        "\n",
        "print(\"I Film Adventure sono\", counter2)\n",
        "dfadv = pd.DataFrame(movies2)\n",
        "dfadv\n"
      ],
      "metadata": {
        "colab": {
          "base_uri": "https://localhost:8080/",
          "height": 600
        },
        "id": "YnqC0JH8xcTB",
        "outputId": "4fffb853-356d-47a7-ca71-c45de80346f4"
      },
      "execution_count": null,
      "outputs": [
        {
          "output_type": "stream",
          "name": "stdout",
          "text": [
            "I Film Adventure sono 17\n"
          ]
        },
        {
          "output_type": "execute_result",
          "data": {
            "text/plain": [
              "                                         title      genre\n",
              "761                        Phantom, The (1996)  Adventure\n",
              "941                  Mark of Zorro, The (1940)  Adventure\n",
              "1070                              Macao (1952)  Adventure\n",
              "1254  Treasure of the Sierra Madre, The (1948)  Adventure\n",
              "1303         Man Who Would Be King, The (1975)  Adventure\n",
              "1849                     Prince Valiant (1997)  Adventure\n",
              "1931               Mutiny on the Bounty (1935)  Adventure\n",
              "2477                         Firewalker (1986)  Adventure\n",
              "2537      Beyond the Poseidon Adventure (1979)  Adventure\n",
              "2895              Napoleon and Samantha (1972)  Adventure\n",
              "3036                     Quest for Fire (1981)  Adventure\n",
              "3166                       Brenda Starr (1989)  Adventure\n",
              "3172                   Ulysses (Ulisse) (1954)  Adventure\n",
              "3207          Snows of Kilimanjaro, The (1952)  Adventure\n",
              "3390                  Shanghai Surprise (1986)  Adventure\n",
              "3412                          Bear, The (1988)  Adventure\n",
              "3492              Son of the Sheik, The (1926)  Adventure"
            ],
            "text/html": [
              "\n",
              "  <div id=\"df-2d52c48b-6089-4d10-9ef0-414423b3f0d1\">\n",
              "    <div class=\"colab-df-container\">\n",
              "      <div>\n",
              "<style scoped>\n",
              "    .dataframe tbody tr th:only-of-type {\n",
              "        vertical-align: middle;\n",
              "    }\n",
              "\n",
              "    .dataframe tbody tr th {\n",
              "        vertical-align: top;\n",
              "    }\n",
              "\n",
              "    .dataframe thead th {\n",
              "        text-align: right;\n",
              "    }\n",
              "</style>\n",
              "<table border=\"1\" class=\"dataframe\">\n",
              "  <thead>\n",
              "    <tr style=\"text-align: right;\">\n",
              "      <th></th>\n",
              "      <th>title</th>\n",
              "      <th>genre</th>\n",
              "    </tr>\n",
              "  </thead>\n",
              "  <tbody>\n",
              "    <tr>\n",
              "      <th>761</th>\n",
              "      <td>Phantom, The (1996)</td>\n",
              "      <td>Adventure</td>\n",
              "    </tr>\n",
              "    <tr>\n",
              "      <th>941</th>\n",
              "      <td>Mark of Zorro, The (1940)</td>\n",
              "      <td>Adventure</td>\n",
              "    </tr>\n",
              "    <tr>\n",
              "      <th>1070</th>\n",
              "      <td>Macao (1952)</td>\n",
              "      <td>Adventure</td>\n",
              "    </tr>\n",
              "    <tr>\n",
              "      <th>1254</th>\n",
              "      <td>Treasure of the Sierra Madre, The (1948)</td>\n",
              "      <td>Adventure</td>\n",
              "    </tr>\n",
              "    <tr>\n",
              "      <th>1303</th>\n",
              "      <td>Man Who Would Be King, The (1975)</td>\n",
              "      <td>Adventure</td>\n",
              "    </tr>\n",
              "    <tr>\n",
              "      <th>1849</th>\n",
              "      <td>Prince Valiant (1997)</td>\n",
              "      <td>Adventure</td>\n",
              "    </tr>\n",
              "    <tr>\n",
              "      <th>1931</th>\n",
              "      <td>Mutiny on the Bounty (1935)</td>\n",
              "      <td>Adventure</td>\n",
              "    </tr>\n",
              "    <tr>\n",
              "      <th>2477</th>\n",
              "      <td>Firewalker (1986)</td>\n",
              "      <td>Adventure</td>\n",
              "    </tr>\n",
              "    <tr>\n",
              "      <th>2537</th>\n",
              "      <td>Beyond the Poseidon Adventure (1979)</td>\n",
              "      <td>Adventure</td>\n",
              "    </tr>\n",
              "    <tr>\n",
              "      <th>2895</th>\n",
              "      <td>Napoleon and Samantha (1972)</td>\n",
              "      <td>Adventure</td>\n",
              "    </tr>\n",
              "    <tr>\n",
              "      <th>3036</th>\n",
              "      <td>Quest for Fire (1981)</td>\n",
              "      <td>Adventure</td>\n",
              "    </tr>\n",
              "    <tr>\n",
              "      <th>3166</th>\n",
              "      <td>Brenda Starr (1989)</td>\n",
              "      <td>Adventure</td>\n",
              "    </tr>\n",
              "    <tr>\n",
              "      <th>3172</th>\n",
              "      <td>Ulysses (Ulisse) (1954)</td>\n",
              "      <td>Adventure</td>\n",
              "    </tr>\n",
              "    <tr>\n",
              "      <th>3207</th>\n",
              "      <td>Snows of Kilimanjaro, The (1952)</td>\n",
              "      <td>Adventure</td>\n",
              "    </tr>\n",
              "    <tr>\n",
              "      <th>3390</th>\n",
              "      <td>Shanghai Surprise (1986)</td>\n",
              "      <td>Adventure</td>\n",
              "    </tr>\n",
              "    <tr>\n",
              "      <th>3412</th>\n",
              "      <td>Bear, The (1988)</td>\n",
              "      <td>Adventure</td>\n",
              "    </tr>\n",
              "    <tr>\n",
              "      <th>3492</th>\n",
              "      <td>Son of the Sheik, The (1926)</td>\n",
              "      <td>Adventure</td>\n",
              "    </tr>\n",
              "  </tbody>\n",
              "</table>\n",
              "</div>\n",
              "      <button class=\"colab-df-convert\" onclick=\"convertToInteractive('df-2d52c48b-6089-4d10-9ef0-414423b3f0d1')\"\n",
              "              title=\"Convert this dataframe to an interactive table.\"\n",
              "              style=\"display:none;\">\n",
              "        \n",
              "  <svg xmlns=\"http://www.w3.org/2000/svg\" height=\"24px\"viewBox=\"0 0 24 24\"\n",
              "       width=\"24px\">\n",
              "    <path d=\"M0 0h24v24H0V0z\" fill=\"none\"/>\n",
              "    <path d=\"M18.56 5.44l.94 2.06.94-2.06 2.06-.94-2.06-.94-.94-2.06-.94 2.06-2.06.94zm-11 1L8.5 8.5l.94-2.06 2.06-.94-2.06-.94L8.5 2.5l-.94 2.06-2.06.94zm10 10l.94 2.06.94-2.06 2.06-.94-2.06-.94-.94-2.06-.94 2.06-2.06.94z\"/><path d=\"M17.41 7.96l-1.37-1.37c-.4-.4-.92-.59-1.43-.59-.52 0-1.04.2-1.43.59L10.3 9.45l-7.72 7.72c-.78.78-.78 2.05 0 2.83L4 21.41c.39.39.9.59 1.41.59.51 0 1.02-.2 1.41-.59l7.78-7.78 2.81-2.81c.8-.78.8-2.07 0-2.86zM5.41 20L4 18.59l7.72-7.72 1.47 1.35L5.41 20z\"/>\n",
              "  </svg>\n",
              "      </button>\n",
              "      \n",
              "  <style>\n",
              "    .colab-df-container {\n",
              "      display:flex;\n",
              "      flex-wrap:wrap;\n",
              "      gap: 12px;\n",
              "    }\n",
              "\n",
              "    .colab-df-convert {\n",
              "      background-color: #E8F0FE;\n",
              "      border: none;\n",
              "      border-radius: 50%;\n",
              "      cursor: pointer;\n",
              "      display: none;\n",
              "      fill: #1967D2;\n",
              "      height: 32px;\n",
              "      padding: 0 0 0 0;\n",
              "      width: 32px;\n",
              "    }\n",
              "\n",
              "    .colab-df-convert:hover {\n",
              "      background-color: #E2EBFA;\n",
              "      box-shadow: 0px 1px 2px rgba(60, 64, 67, 0.3), 0px 1px 3px 1px rgba(60, 64, 67, 0.15);\n",
              "      fill: #174EA6;\n",
              "    }\n",
              "\n",
              "    [theme=dark] .colab-df-convert {\n",
              "      background-color: #3B4455;\n",
              "      fill: #D2E3FC;\n",
              "    }\n",
              "\n",
              "    [theme=dark] .colab-df-convert:hover {\n",
              "      background-color: #434B5C;\n",
              "      box-shadow: 0px 1px 3px 1px rgba(0, 0, 0, 0.15);\n",
              "      filter: drop-shadow(0px 1px 2px rgba(0, 0, 0, 0.3));\n",
              "      fill: #FFFFFF;\n",
              "    }\n",
              "  </style>\n",
              "\n",
              "      <script>\n",
              "        const buttonEl =\n",
              "          document.querySelector('#df-2d52c48b-6089-4d10-9ef0-414423b3f0d1 button.colab-df-convert');\n",
              "        buttonEl.style.display =\n",
              "          google.colab.kernel.accessAllowed ? 'block' : 'none';\n",
              "\n",
              "        async function convertToInteractive(key) {\n",
              "          const element = document.querySelector('#df-2d52c48b-6089-4d10-9ef0-414423b3f0d1');\n",
              "          const dataTable =\n",
              "            await google.colab.kernel.invokeFunction('convertToInteractive',\n",
              "                                                     [key], {});\n",
              "          if (!dataTable) return;\n",
              "\n",
              "          const docLinkHtml = 'Like what you see? Visit the ' +\n",
              "            '<a target=\"_blank\" href=https://colab.research.google.com/notebooks/data_table.ipynb>data table notebook</a>'\n",
              "            + ' to learn more about interactive tables.';\n",
              "          element.innerHTML = '';\n",
              "          dataTable['output_type'] = 'display_data';\n",
              "          await google.colab.output.renderOutput(dataTable, element);\n",
              "          const docLink = document.createElement('div');\n",
              "          docLink.innerHTML = docLinkHtml;\n",
              "          element.appendChild(docLink);\n",
              "        }\n",
              "      </script>\n",
              "    </div>\n",
              "  </div>\n",
              "  "
            ]
          },
          "metadata": {},
          "execution_count": 52
        }
      ]
    },
    {
      "cell_type": "code",
      "source": [
        "def get_year(mtitle):\n",
        "  return int(mtitle.split(\"(\"))[-1].strip[\")\"]"
      ],
      "metadata": {
        "id": "PKjUtxRINx4d"
      },
      "execution_count": null,
      "outputs": []
    },
    {
      "cell_type": "code",
      "source": [
        "#df2[\"Year\"] = df2[\"title\"].map(get_year)"
      ],
      "metadata": {
        "colab": {
          "base_uri": "https://localhost:8080/",
          "height": 264
        },
        "id": "L5r-oU__NoYG",
        "outputId": "80454562-83c2-4fad-d8f6-f3b0a8ca55a3"
      },
      "execution_count": null,
      "outputs": [
        {
          "output_type": "error",
          "ename": "TypeError",
          "evalue": "ignored",
          "traceback": [
            "\u001b[0;31m---------------------------------------------------------------------------\u001b[0m",
            "\u001b[0;31mTypeError\u001b[0m                                 Traceback (most recent call last)",
            "\u001b[0;32m<ipython-input-61-ab147ac2a29f>\u001b[0m in \u001b[0;36m<module>\u001b[0;34m\u001b[0m\n\u001b[0;32m----> 1\u001b[0;31m \u001b[0mdf2\u001b[0m\u001b[0;34m[\u001b[0m\u001b[0;34m\"Year\"\u001b[0m\u001b[0;34m]\u001b[0m \u001b[0;34m=\u001b[0m \u001b[0mdf2\u001b[0m\u001b[0;34m[\u001b[0m\u001b[0;34m\"title\"\u001b[0m\u001b[0;34m]\u001b[0m\u001b[0;34m.\u001b[0m\u001b[0mmap\u001b[0m\u001b[0;34m(\u001b[0m\u001b[0mget_year\u001b[0m\u001b[0;34m)\u001b[0m\u001b[0;34m\u001b[0m\u001b[0;34m\u001b[0m\u001b[0m\n\u001b[0m",
            "\u001b[0;32m/usr/local/lib/python3.9/dist-packages/pandas/core/series.py\u001b[0m in \u001b[0;36mmap\u001b[0;34m(self, arg, na_action)\u001b[0m\n\u001b[1;32m   4159\u001b[0m         \u001b[0mdtype\u001b[0m\u001b[0;34m:\u001b[0m \u001b[0mobject\u001b[0m\u001b[0;34m\u001b[0m\u001b[0;34m\u001b[0m\u001b[0m\n\u001b[1;32m   4160\u001b[0m         \"\"\"\n\u001b[0;32m-> 4161\u001b[0;31m         \u001b[0mnew_values\u001b[0m \u001b[0;34m=\u001b[0m \u001b[0msuper\u001b[0m\u001b[0;34m(\u001b[0m\u001b[0;34m)\u001b[0m\u001b[0;34m.\u001b[0m\u001b[0m_map_values\u001b[0m\u001b[0;34m(\u001b[0m\u001b[0marg\u001b[0m\u001b[0;34m,\u001b[0m \u001b[0mna_action\u001b[0m\u001b[0;34m=\u001b[0m\u001b[0mna_action\u001b[0m\u001b[0;34m)\u001b[0m\u001b[0;34m\u001b[0m\u001b[0;34m\u001b[0m\u001b[0m\n\u001b[0m\u001b[1;32m   4162\u001b[0m         return self._constructor(new_values, index=self.index).__finalize__(\n\u001b[1;32m   4163\u001b[0m             \u001b[0mself\u001b[0m\u001b[0;34m,\u001b[0m \u001b[0mmethod\u001b[0m\u001b[0;34m=\u001b[0m\u001b[0;34m\"map\"\u001b[0m\u001b[0;34m\u001b[0m\u001b[0;34m\u001b[0m\u001b[0m\n",
            "\u001b[0;32m/usr/local/lib/python3.9/dist-packages/pandas/core/base.py\u001b[0m in \u001b[0;36m_map_values\u001b[0;34m(self, mapper, na_action)\u001b[0m\n\u001b[1;32m    868\u001b[0m \u001b[0;34m\u001b[0m\u001b[0m\n\u001b[1;32m    869\u001b[0m         \u001b[0;31m# mapper is a function\u001b[0m\u001b[0;34m\u001b[0m\u001b[0;34m\u001b[0m\u001b[0m\n\u001b[0;32m--> 870\u001b[0;31m         \u001b[0mnew_values\u001b[0m \u001b[0;34m=\u001b[0m \u001b[0mmap_f\u001b[0m\u001b[0;34m(\u001b[0m\u001b[0mvalues\u001b[0m\u001b[0;34m,\u001b[0m \u001b[0mmapper\u001b[0m\u001b[0;34m)\u001b[0m\u001b[0;34m\u001b[0m\u001b[0;34m\u001b[0m\u001b[0m\n\u001b[0m\u001b[1;32m    871\u001b[0m \u001b[0;34m\u001b[0m\u001b[0m\n\u001b[1;32m    872\u001b[0m         \u001b[0;32mreturn\u001b[0m \u001b[0mnew_values\u001b[0m\u001b[0;34m\u001b[0m\u001b[0;34m\u001b[0m\u001b[0m\n",
            "\u001b[0;32m/usr/local/lib/python3.9/dist-packages/pandas/_libs/lib.pyx\u001b[0m in \u001b[0;36mpandas._libs.lib.map_infer\u001b[0;34m()\u001b[0m\n",
            "\u001b[0;32m<ipython-input-56-4ff501e33026>\u001b[0m in \u001b[0;36mget_year\u001b[0;34m(mtitle)\u001b[0m\n\u001b[1;32m      1\u001b[0m \u001b[0;32mdef\u001b[0m \u001b[0mget_year\u001b[0m\u001b[0;34m(\u001b[0m\u001b[0mmtitle\u001b[0m\u001b[0;34m)\u001b[0m\u001b[0;34m:\u001b[0m\u001b[0;34m\u001b[0m\u001b[0;34m\u001b[0m\u001b[0m\n\u001b[0;32m----> 2\u001b[0;31m   \u001b[0;32mreturn\u001b[0m \u001b[0mint\u001b[0m\u001b[0;34m(\u001b[0m\u001b[0mmtitle\u001b[0m\u001b[0;34m.\u001b[0m\u001b[0msplit\u001b[0m\u001b[0;34m(\u001b[0m\u001b[0;34m\"(\"\u001b[0m\u001b[0;34m)\u001b[0m\u001b[0;34m)\u001b[0m\u001b[0;34m[\u001b[0m\u001b[0;34m-\u001b[0m\u001b[0;36m1\u001b[0m\u001b[0;34m]\u001b[0m\u001b[0;34m.\u001b[0m\u001b[0mstrip\u001b[0m\u001b[0;34m[\u001b[0m\u001b[0;34m\")\"\u001b[0m\u001b[0;34m]\u001b[0m\u001b[0;34m\u001b[0m\u001b[0;34m\u001b[0m\u001b[0m\n\u001b[0m",
            "\u001b[0;31mTypeError\u001b[0m: int() argument must be a string, a bytes-like object or a number, not 'list'"
          ]
        }
      ]
    },
    {
      "cell_type": "code",
      "source": [
        "df2.groupby(\"genre\").count().plot(y = \"title\")"
      ],
      "metadata": {
        "colab": {
          "base_uri": "https://localhost:8080/",
          "height": 298
        },
        "id": "seZXwFnIMVRR",
        "outputId": "07c05e39-b9c5-4a2d-b286-39ff36537e3c"
      },
      "execution_count": null,
      "outputs": [
        {
          "output_type": "execute_result",
          "data": {
            "text/plain": [
              "<AxesSubplot:xlabel='genre'>"
            ]
          },
          "metadata": {},
          "execution_count": 54
        },
        {
          "output_type": "display_data",
          "data": {
            "text/plain": [
              "<Figure size 432x288 with 1 Axes>"
            ],
            "image/png": "[encoded data removed]"
          },
          "metadata": {
            "needs_background": "light"
          }
        }
      ]
    },
    {
      "cell_type": "code",
      "source": [
        "movies = df2"
      ],
      "metadata": {
        "id": "QDZYIRGnP3gp"
      },
      "execution_count": null,
      "outputs": []
    },
    {
      "cell_type": "code",
      "source": [
        "movies['genres'] = movies.genre.map(lambda x: x.split(\"|\"))"
      ],
      "metadata": {
        "id": "kgbN-vFkQCIf"
      },
      "execution_count": null,
      "outputs": []
    },
    {
      "cell_type": "code",
      "source": [
        "movies[movies[\"genre\"] == \"Fantasy\"]"
      ],
      "metadata": {
        "colab": {
          "base_uri": "https://localhost:8080/",
          "height": 81
        },
        "id": "KV8CEj8kQKJq",
        "outputId": "ac5526a9-f839-49e2-d918-05c0b5252de8"
      },
      "execution_count": null,
      "outputs": [
        {
          "output_type": "execute_result",
          "data": {
            "text/plain": [
              "                              title    genre     genres\n",
              "792  Hungarian Fairy Tale, A (1987)  Fantasy  [Fantasy]"
            ],
            "text/html": [
              "\n",
              "  <div id=\"df-6bf2b61e-432c-47d7-b9ee-e5abf5ff04e6\">\n",
              "    <div class=\"colab-df-container\">\n",
              "      <div>\n",
              "<style scoped>\n",
              "    .dataframe tbody tr th:only-of-type {\n",
              "        vertical-align: middle;\n",
              "    }\n",
              "\n",
              "    .dataframe tbody tr th {\n",
              "        vertical-align: top;\n",
              "    }\n",
              "\n",
              "    .dataframe thead th {\n",
              "        text-align: right;\n",
              "    }\n",
              "</style>\n",
              "<table border=\"1\" class=\"dataframe\">\n",
              "  <thead>\n",
              "    <tr style=\"text-align: right;\">\n",
              "      <th></th>\n",
              "      <th>title</th>\n",
              "      <th>genre</th>\n",
              "      <th>genres</th>\n",
              "    </tr>\n",
              "  </thead>\n",
              "  <tbody>\n",
              "    <tr>\n",
              "      <th>792</th>\n",
              "      <td>Hungarian Fairy Tale, A (1987)</td>\n",
              "      <td>Fantasy</td>\n",
              "      <td>[Fantasy]</td>\n",
              "    </tr>\n",
              "  </tbody>\n",
              "</table>\n",
              "</div>\n",
              "      <button class=\"colab-df-convert\" onclick=\"convertToInteractive('df-6bf2b61e-432c-47d7-b9ee-e5abf5ff04e6')\"\n",
              "              title=\"Convert this dataframe to an interactive table.\"\n",
              "              style=\"display:none;\">\n",
              "        \n",
              "  <svg xmlns=\"http://www.w3.org/2000/svg\" height=\"24px\"viewBox=\"0 0 24 24\"\n",
              "       width=\"24px\">\n",
              "    <path d=\"M0 0h24v24H0V0z\" fill=\"none\"/>\n",
              "    <path d=\"M18.56 5.44l.94 2.06.94-2.06 2.06-.94-2.06-.94-.94-2.06-.94 2.06-2.06.94zm-11 1L8.5 8.5l.94-2.06 2.06-.94-2.06-.94L8.5 2.5l-.94 2.06-2.06.94zm10 10l.94 2.06.94-2.06 2.06-.94-2.06-.94-.94-2.06-.94 2.06-2.06.94z\"/><path d=\"M17.41 7.96l-1.37-1.37c-.4-.4-.92-.59-1.43-.59-.52 0-1.04.2-1.43.59L10.3 9.45l-7.72 7.72c-.78.78-.78 2.05 0 2.83L4 21.41c.39.39.9.59 1.41.59.51 0 1.02-.2 1.41-.59l7.78-7.78 2.81-2.81c.8-.78.8-2.07 0-2.86zM5.41 20L4 18.59l7.72-7.72 1.47 1.35L5.41 20z\"/>\n",
              "  </svg>\n",
              "      </button>\n",
              "      \n",
              "  <style>\n",
              "    .colab-df-container {\n",
              "      display:flex;\n",
              "      flex-wrap:wrap;\n",
              "      gap: 12px;\n",
              "    }\n",
              "\n",
              "    .colab-df-convert {\n",
              "      background-color: #E8F0FE;\n",
              "      border: none;\n",
              "      border-radius: 50%;\n",
              "      cursor: pointer;\n",
              "      display: none;\n",
              "      fill: #1967D2;\n",
              "      height: 32px;\n",
              "      padding: 0 0 0 0;\n",
              "      width: 32px;\n",
              "    }\n",
              "\n",
              "    .colab-df-convert:hover {\n",
              "      background-color: #E2EBFA;\n",
              "      box-shadow: 0px 1px 2px rgba(60, 64, 67, 0.3), 0px 1px 3px 1px rgba(60, 64, 67, 0.15);\n",
              "      fill: #174EA6;\n",
              "    }\n",
              "\n",
              "    [theme=dark] .colab-df-convert {\n",
              "      background-color: #3B4455;\n",
              "      fill: #D2E3FC;\n",
              "    }\n",
              "\n",
              "    [theme=dark] .colab-df-convert:hover {\n",
              "      background-color: #434B5C;\n",
              "      box-shadow: 0px 1px 3px 1px rgba(0, 0, 0, 0.15);\n",
              "      filter: drop-shadow(0px 1px 2px rgba(0, 0, 0, 0.3));\n",
              "      fill: #FFFFFF;\n",
              "    }\n",
              "  </style>\n",
              "\n",
              "      <script>\n",
              "        const buttonEl =\n",
              "          document.querySelector('#df-6bf2b61e-432c-47d7-b9ee-e5abf5ff04e6 button.colab-df-convert');\n",
              "        buttonEl.style.display =\n",
              "          google.colab.kernel.accessAllowed ? 'block' : 'none';\n",
              "\n",
              "        async function convertToInteractive(key) {\n",
              "          const element = document.querySelector('#df-6bf2b61e-432c-47d7-b9ee-e5abf5ff04e6');\n",
              "          const dataTable =\n",
              "            await google.colab.kernel.invokeFunction('convertToInteractive',\n",
              "                                                     [key], {});\n",
              "          if (!dataTable) return;\n",
              "\n",
              "          const docLinkHtml = 'Like what you see? Visit the ' +\n",
              "            '<a target=\"_blank\" href=https://colab.research.google.com/notebooks/data_table.ipynb>data table notebook</a>'\n",
              "            + ' to learn more about interactive tables.';\n",
              "          element.innerHTML = '';\n",
              "          dataTable['output_type'] = 'display_data';\n",
              "          await google.colab.output.renderOutput(dataTable, element);\n",
              "          const docLink = document.createElement('div');\n",
              "          docLink.innerHTML = docLinkHtml;\n",
              "          element.appendChild(docLink);\n",
              "        }\n",
              "      </script>\n",
              "    </div>\n",
              "  </div>\n",
              "  "
            ]
          },
          "metadata": {},
          "execution_count": 66
        }
      ]
    },
    {
      "cell_type": "code",
      "source": [
        "# list comprehension\n",
        "movies[[\"Fantasy\" in m for m in movies[\"genre\"]]]"
      ],
      "metadata": {
        "colab": {
          "base_uri": "https://localhost:8080/",
          "height": 424
        },
        "id": "LLE3eE0IQr5M",
        "outputId": "a1676a2a-c166-4c2e-fd8d-61ccc08f581c"
      },
      "execution_count": null,
      "outputs": [
        {
          "output_type": "execute_result",
          "data": {
            "text/plain": [
              "                                                  title  \\\n",
              "2                                        Jumanji (1995)   \n",
              "56                       Kids of the Round Table (1995)   \n",
              "60                   Indian in the Cupboard, The (1995)   \n",
              "126                   NeverEnding Story III, The (1994)   \n",
              "247                           Heavenly Creatures (1994)   \n",
              "...                                                 ...   \n",
              "3479                                   Ladyhawke (1985)   \n",
              "3489                                        Hook (1991)   \n",
              "3877                                   Supergirl (1984)   \n",
              "3889                         Highlander: Endgame (2000)   \n",
              "3920  Faraway, So Close (In Weiter Ferne, So Nah!) (...   \n",
              "\n",
              "                               genre                               genres  \n",
              "2       Adventure|Children's|Fantasy     [Adventure, Children's, Fantasy]  \n",
              "56      Adventure|Children's|Fantasy     [Adventure, Children's, Fantasy]  \n",
              "60      Adventure|Children's|Fantasy     [Adventure, Children's, Fantasy]  \n",
              "126     Adventure|Children's|Fantasy     [Adventure, Children's, Fantasy]  \n",
              "247   Drama|Fantasy|Romance|Thriller  [Drama, Fantasy, Romance, Thriller]  \n",
              "...                              ...                                  ...  \n",
              "3479       Adventure|Fantasy|Romance        [Adventure, Fantasy, Romance]  \n",
              "3489               Adventure|Fantasy                 [Adventure, Fantasy]  \n",
              "3877        Action|Adventure|Fantasy         [Action, Adventure, Fantasy]  \n",
              "3889        Action|Adventure|Fantasy         [Action, Adventure, Fantasy]  \n",
              "3920                   Drama|Fantasy                     [Drama, Fantasy]  \n",
              "\n",
              "[68 rows x 3 columns]"
            ],
            "text/html": [
              "\n",
              "  <div id=\"df-c881cd6e-2c01-4570-99b5-b2b1258cab53\">\n",
              "    <div class=\"colab-df-container\">\n",
              "      <div>\n",
              "<style scoped>\n",
              "    .dataframe tbody tr th:only-of-type {\n",
              "        vertical-align: middle;\n",
              "    }\n",
              "\n",
              "    .dataframe tbody tr th {\n",
              "        vertical-align: top;\n",
              "    }\n",
              "\n",
              "    .dataframe thead th {\n",
              "        text-align: right;\n",
              "    }\n",
              "</style>\n",
              "<table border=\"1\" class=\"dataframe\">\n",
              "  <thead>\n",
              "    <tr style=\"text-align: right;\">\n",
              "      <th></th>\n",
              "      <th>title</th>\n",
              "      <th>genre</th>\n",
              "      <th>genres</th>\n",
              "    </tr>\n",
              "  </thead>\n",
              "  <tbody>\n",
              "    <tr>\n",
              "      <th>2</th>\n",
              "      <td>Jumanji (1995)</td>\n",
              "      <td>Adventure|Children's|Fantasy</td>\n",
              "      <td>[Adventure, Children's, Fantasy]</td>\n",
              "    </tr>\n",
              "    <tr>\n",
              "      <th>56</th>\n",
              "      <td>Kids of the Round Table (1995)</td>\n",
              "      <td>Adventure|Children's|Fantasy</td>\n",
              "      <td>[Adventure, Children's, Fantasy]</td>\n",
              "    </tr>\n",
              "    <tr>\n",
              "      <th>60</th>\n",
              "      <td>Indian in the Cupboard, The (1995)</td>\n",
              "      <td>Adventure|Children's|Fantasy</td>\n",
              "      <td>[Adventure, Children's, Fantasy]</td>\n",
              "    </tr>\n",
              "    <tr>\n",
              "      <th>126</th>\n",
              "      <td>NeverEnding Story III, The (1994)</td>\n",
              "      <td>Adventure|Children's|Fantasy</td>\n",
              "      <td>[Adventure, Children's, Fantasy]</td>\n",
              "    </tr>\n",
              "    <tr>\n",
              "      <th>247</th>\n",
              "      <td>Heavenly Creatures (1994)</td>\n",
              "      <td>Drama|Fantasy|Romance|Thriller</td>\n",
              "      <td>[Drama, Fantasy, Romance, Thriller]</td>\n",
              "    </tr>\n",
              "    <tr>\n",
              "      <th>...</th>\n",
              "      <td>...</td>\n",
              "      <td>...</td>\n",
              "      <td>...</td>\n",
              "    </tr>\n",
              "    <tr>\n",
              "      <th>3479</th>\n",
              "      <td>Ladyhawke (1985)</td>\n",
              "      <td>Adventure|Fantasy|Romance</td>\n",
              "      <td>[Adventure, Fantasy, Romance]</td>\n",
              "    </tr>\n",
              "    <tr>\n",
              "      <th>3489</th>\n",
              "      <td>Hook (1991)</td>\n",
              "      <td>Adventure|Fantasy</td>\n",
              "      <td>[Adventure, Fantasy]</td>\n",
              "    </tr>\n",
              "    <tr>\n",
              "      <th>3877</th>\n",
              "      <td>Supergirl (1984)</td>\n",
              "      <td>Action|Adventure|Fantasy</td>\n",
              "      <td>[Action, Adventure, Fantasy]</td>\n",
              "    </tr>\n",
              "    <tr>\n",
              "      <th>3889</th>\n",
              "      <td>Highlander: Endgame (2000)</td>\n",
              "      <td>Action|Adventure|Fantasy</td>\n",
              "      <td>[Action, Adventure, Fantasy]</td>\n",
              "    </tr>\n",
              "    <tr>\n",
              "      <th>3920</th>\n",
              "      <td>Faraway, So Close (In Weiter Ferne, So Nah!) (...</td>\n",
              "      <td>Drama|Fantasy</td>\n",
              "      <td>[Drama, Fantasy]</td>\n",
              "    </tr>\n",
              "  </tbody>\n",
              "</table>\n",
              "<p>68 rows × 3 columns</p>\n",
              "</div>\n",
              "      <button class=\"colab-df-convert\" onclick=\"convertToInteractive('df-c881cd6e-2c01-4570-99b5-b2b1258cab53')\"\n",
              "              title=\"Convert this dataframe to an interactive table.\"\n",
              "              style=\"display:none;\">\n",
              "        \n",
              "  <svg xmlns=\"http://www.w3.org/2000/svg\" height=\"24px\"viewBox=\"0 0 24 24\"\n",
              "       width=\"24px\">\n",
              "    <path d=\"M0 0h24v24H0V0z\" fill=\"none\"/>\n",
              "    <path d=\"M18.56 5.44l.94 2.06.94-2.06 2.06-.94-2.06-.94-.94-2.06-.94 2.06-2.06.94zm-11 1L8.5 8.5l.94-2.06 2.06-.94-2.06-.94L8.5 2.5l-.94 2.06-2.06.94zm10 10l.94 2.06.94-2.06 2.06-.94-2.06-.94-.94-2.06-.94 2.06-2.06.94z\"/><path d=\"M17.41 7.96l-1.37-1.37c-.4-.4-.92-.59-1.43-.59-.52 0-1.04.2-1.43.59L10.3 9.45l-7.72 7.72c-.78.78-.78 2.05 0 2.83L4 21.41c.39.39.9.59 1.41.59.51 0 1.02-.2 1.41-.59l7.78-7.78 2.81-2.81c.8-.78.8-2.07 0-2.86zM5.41 20L4 18.59l7.72-7.72 1.47 1.35L5.41 20z\"/>\n",
              "  </svg>\n",
              "      </button>\n",
              "      \n",
              "  <style>\n",
              "    .colab-df-container {\n",
              "      display:flex;\n",
              "      flex-wrap:wrap;\n",
              "      gap: 12px;\n",
              "    }\n",
              "\n",
              "    .colab-df-convert {\n",
              "      background-color: #E8F0FE;\n",
              "      border: none;\n",
              "      border-radius: 50%;\n",
              "      cursor: pointer;\n",
              "      display: none;\n",
              "      fill: #1967D2;\n",
              "      height: 32px;\n",
              "      padding: 0 0 0 0;\n",
              "      width: 32px;\n",
              "    }\n",
              "\n",
              "    .colab-df-convert:hover {\n",
              "      background-color: #E2EBFA;\n",
              "      box-shadow: 0px 1px 2px rgba(60, 64, 67, 0.3), 0px 1px 3px 1px rgba(60, 64, 67, 0.15);\n",
              "      fill: #174EA6;\n",
              "    }\n",
              "\n",
              "    [theme=dark] .colab-df-convert {\n",
              "      background-color: #3B4455;\n",
              "      fill: #D2E3FC;\n",
              "    }\n",
              "\n",
              "    [theme=dark] .colab-df-convert:hover {\n",
              "      background-color: #434B5C;\n",
              "      box-shadow: 0px 1px 3px 1px rgba(0, 0, 0, 0.15);\n",
              "      filter: drop-shadow(0px 1px 2px rgba(0, 0, 0, 0.3));\n",
              "      fill: #FFFFFF;\n",
              "    }\n",
              "  </style>\n",
              "\n",
              "      <script>\n",
              "        const buttonEl =\n",
              "          document.querySelector('#df-c881cd6e-2c01-4570-99b5-b2b1258cab53 button.colab-df-convert');\n",
              "        buttonEl.style.display =\n",
              "          google.colab.kernel.accessAllowed ? 'block' : 'none';\n",
              "\n",
              "        async function convertToInteractive(key) {\n",
              "          const element = document.querySelector('#df-c881cd6e-2c01-4570-99b5-b2b1258cab53');\n",
              "          const dataTable =\n",
              "            await google.colab.kernel.invokeFunction('convertToInteractive',\n",
              "                                                     [key], {});\n",
              "          if (!dataTable) return;\n",
              "\n",
              "          const docLinkHtml = 'Like what you see? Visit the ' +\n",
              "            '<a target=\"_blank\" href=https://colab.research.google.com/notebooks/data_table.ipynb>data table notebook</a>'\n",
              "            + ' to learn more about interactive tables.';\n",
              "          element.innerHTML = '';\n",
              "          dataTable['output_type'] = 'display_data';\n",
              "          await google.colab.output.renderOutput(dataTable, element);\n",
              "          const docLink = document.createElement('div');\n",
              "          docLink.innerHTML = docLinkHtml;\n",
              "          element.appendChild(docLink);\n",
              "        }\n",
              "      </script>\n",
              "    </div>\n",
              "  </div>\n",
              "  "
            ]
          },
          "metadata": {},
          "execution_count": 67
        }
      ]
    },
    {
      "cell_type": "markdown",
      "source": [
        "## numpy"
      ],
      "metadata": {
        "id": "c1S4LThZQttA"
      }
    },
    {
      "cell_type": "code",
      "source": [
        "import numpy as np"
      ],
      "metadata": {
        "id": "fXPSVABLT6Ww"
      },
      "execution_count": null,
      "outputs": []
    },
    {
      "cell_type": "code",
      "source": [
        "a = 3\n",
        "type(a)"
      ],
      "metadata": {
        "colab": {
          "base_uri": "https://localhost:8080/"
        },
        "id": "92u49lYgUCkI",
        "outputId": "4cd2703d-4c4a-474f-ec9e-075b920a64c5"
      },
      "execution_count": null,
      "outputs": [
        {
          "output_type": "execute_result",
          "data": {
            "text/plain": [
              "int"
            ]
          },
          "metadata": {},
          "execution_count": 68
        }
      ]
    },
    {
      "cell_type": "code",
      "source": [
        "a = np.int16(3)\n",
        "a.dtype"
      ],
      "metadata": {
        "colab": {
          "base_uri": "https://localhost:8080/"
        },
        "id": "CnrrDuV0Ujqf",
        "outputId": "c19e2fc4-d7d7-4494-c2f2-770d9789406f"
      },
      "execution_count": null,
      "outputs": [
        {
          "output_type": "execute_result",
          "data": {
            "text/plain": [
              "dtype('int16')"
            ]
          },
          "metadata": {},
          "execution_count": 71
        }
      ]
    },
    {
      "cell_type": "code",
      "source": [
        "a = np.int8(3)\n",
        "print(np.uint8(256))"
      ],
      "metadata": {
        "colab": {
          "base_uri": "https://localhost:8080/"
        },
        "id": "kzxIEPGWVJD5",
        "outputId": "cf5d0803-11c5-4412-ec10-e4bf85a49d07"
      },
      "execution_count": null,
      "outputs": [
        {
          "output_type": "stream",
          "name": "stdout",
          "text": [
            "0\n"
          ]
        }
      ]
    },
    {
      "cell_type": "code",
      "source": [
        "# np.array(lista) dà un array data una lista"
      ],
      "metadata": {
        "id": "Ifl7J4dSWDna"
      },
      "execution_count": null,
      "outputs": []
    },
    {
      "cell_type": "code",
      "source": [
        "np.zeros(5)"
      ],
      "metadata": {
        "colab": {
          "base_uri": "https://localhost:8080/"
        },
        "id": "-j1E8mK1WG-B",
        "outputId": "5be9f14c-f82f-4e48-a695-8bf6e699357f"
      },
      "execution_count": null,
      "outputs": [
        {
          "output_type": "execute_result",
          "data": {
            "text/plain": [
              "array([0., 0., 0., 0., 0.])"
            ]
          },
          "metadata": {},
          "execution_count": 76
        }
      ]
    },
    {
      "cell_type": "code",
      "source": [
        "def pal(string)\n",
        "  slist = list(string)\n",
        "  for i in int((len(slist)/2):\n",
        "    if slist[i] != slist[len(slist) - i + 1]\n",
        "      print(\"Not a palindrome\")\n",
        "      return -1\n",
        "  if   int((len(slist)/2) = (len(slist)/2\n",
        "    #manca qualche print\n"
      ],
      "metadata": {
        "id": "B_8cgP8bbNoh",
        "colab": {
          "base_uri": "https://localhost:8080/",
          "height": 133
        },
        "outputId": "63cbc088-845c-4aa7-c7b8-b59730ab071d"
      },
      "execution_count": null,
      "outputs": [
        {
          "output_type": "error",
          "ename": "SyntaxError",
          "evalue": "ignored",
          "traceback": [
            "\u001b[0;36m  File \u001b[0;32m\"<ipython-input-3-2a6c83b39f1b>\"\u001b[0;36m, line \u001b[0;32m3\u001b[0m\n\u001b[0;31m    for i in int((len(slist)/2):\u001b[0m\n\u001b[0m                               ^\u001b[0m\n\u001b[0;31mSyntaxError\u001b[0m\u001b[0;31m:\u001b[0m invalid syntax\n"
          ]
        }
      ]
    },
    {
      "cell_type": "code",
      "source": [
        "# lista[::-1] inverte la lista"
      ],
      "metadata": {
        "id": "cqb6hE0FdHvX"
      },
      "execution_count": null,
      "outputs": []
    },
    {
      "cell_type": "code",
      "source": [
        "numeri = np.arange(1,11)[(np.zeros(10) == np.arange(1,11)%2)][::-1] +1\n",
        "numeri\n"
      ],
      "metadata": {
        "id": "nV_Wf3_xfNcu",
        "colab": {
          "base_uri": "https://localhost:8080/"
        },
        "outputId": "fb4e09cc-cb7b-4472-b718-a35516c8b5dc"
      },
      "execution_count": null,
      "outputs": [
        {
          "output_type": "execute_result",
          "data": {
            "text/plain": [
              "array([11,  9,  7,  5,  3])"
            ]
          },
          "metadata": {},
          "execution_count": 18
        }
      ]
    },
    {
      "cell_type": "markdown",
      "source": [
        "## matplotlib"
      ],
      "metadata": {
        "id": "qhc265K5gWVq"
      }
    },
    {
      "cell_type": "code",
      "source": [
        "import matplotlib as mpl"
      ],
      "metadata": {
        "id": "JrKo1WRFgZXh"
      },
      "execution_count": null,
      "outputs": []
    },
    {
      "cell_type": "code",
      "source": [
        "import pylab as pl\n",
        "# %pylab inline, ma non c'è bisogno su colab"
      ],
      "metadata": {
        "id": "CpZZNYMOgbZa"
      },
      "execution_count": null,
      "outputs": []
    },
    {
      "cell_type": "code",
      "source": [
        "pl.rcParams\n"
      ],
      "metadata": {
        "colab": {
          "base_uri": "https://localhost:8080/"
        },
        "id": "u7P3_irEgdZe",
        "outputId": "c4f72368-2ca4-4d07-ca78-bec5e9501f45"
      },
      "execution_count": null,
      "outputs": [
        {
          "output_type": "execute_result",
          "data": {
            "text/plain": [
              "RcParams({'_internal.classic_mode': False,\n",
              "          'agg.path.chunksize': 0,\n",
              "          'animation.bitrate': -1,\n",
              "          'animation.codec': 'h264',\n",
              "          'animation.convert_args': [],\n",
              "          'animation.convert_path': 'convert',\n",
              "          'animation.embed_limit': 20.0,\n",
              "          'animation.ffmpeg_args': [],\n",
              "          'animation.ffmpeg_path': 'ffmpeg',\n",
              "          'animation.frame_format': 'png',\n",
              "          'animation.html': 'none',\n",
              "          'animation.writer': 'ffmpeg',\n",
              "          'axes.autolimit_mode': 'data',\n",
              "          'axes.axisbelow': 'line',\n",
              "          'axes.edgecolor': 'black',\n",
              "          'axes.facecolor': 'white',\n",
              "          'axes.formatter.limits': [-5, 6],\n",
              "          'axes.formatter.min_exponent': 0,\n",
              "          'axes.formatter.offset_threshold': 4,\n",
              "          'axes.formatter.use_locale': False,\n",
              "          'axes.formatter.use_mathtext': False,\n",
              "          'axes.formatter.useoffset': True,\n",
              "          'axes.grid': False,\n",
              "          'axes.grid.axis': 'both',\n",
              "          'axes.grid.which': 'major',\n",
              "          'axes.labelcolor': 'black',\n",
              "          'axes.labelpad': 4.0,\n",
              "          'axes.labelsize': 'medium',\n",
              "          'axes.labelweight': 'normal',\n",
              "          'axes.linewidth': 0.8,\n",
              "          'axes.prop_cycle': cycler('color', ['#1f77b4', '#ff7f0e', '#2ca02c', '#d62728', '#9467bd', '#8c564b', '#e377c2', '#7f7f7f', '#bcbd22', '#17becf']),\n",
              "          'axes.spines.bottom': True,\n",
              "          'axes.spines.left': True,\n",
              "          'axes.spines.right': True,\n",
              "          'axes.spines.top': True,\n",
              "          'axes.titlecolor': 'auto',\n",
              "          'axes.titlelocation': 'center',\n",
              "          'axes.titlepad': 6.0,\n",
              "          'axes.titlesize': 'large',\n",
              "          'axes.titleweight': 'normal',\n",
              "          'axes.titley': None,\n",
              "          'axes.unicode_minus': True,\n",
              "          'axes.xmargin': 0.05,\n",
              "          'axes.ymargin': 0.05,\n",
              "          'axes.zmargin': 0.05,\n",
              "          'axes3d.grid': True,\n",
              "          'backend': 'module://ipykernel.pylab.backend_inline',\n",
              "          'backend_fallback': True,\n",
              "          'boxplot.bootstrap': None,\n",
              "          'boxplot.boxprops.color': 'black',\n",
              "          'boxplot.boxprops.linestyle': '-',\n",
              "          'boxplot.boxprops.linewidth': 1.0,\n",
              "          'boxplot.capprops.color': 'black',\n",
              "          'boxplot.capprops.linestyle': '-',\n",
              "          'boxplot.capprops.linewidth': 1.0,\n",
              "          'boxplot.flierprops.color': 'black',\n",
              "          'boxplot.flierprops.linestyle': 'none',\n",
              "          'boxplot.flierprops.linewidth': 1.0,\n",
              "          'boxplot.flierprops.marker': 'o',\n",
              "          'boxplot.flierprops.markeredgecolor': 'black',\n",
              "          'boxplot.flierprops.markeredgewidth': 1.0,\n",
              "          'boxplot.flierprops.markerfacecolor': 'none',\n",
              "          'boxplot.flierprops.markersize': 6.0,\n",
              "          'boxplot.meanline': False,\n",
              "          'boxplot.meanprops.color': 'C2',\n",
              "          'boxplot.meanprops.linestyle': '--',\n",
              "          'boxplot.meanprops.linewidth': 1.0,\n",
              "          'boxplot.meanprops.marker': '^',\n",
              "          'boxplot.meanprops.markeredgecolor': 'C2',\n",
              "          'boxplot.meanprops.markerfacecolor': 'C2',\n",
              "          'boxplot.meanprops.markersize': 6.0,\n",
              "          'boxplot.medianprops.color': 'C1',\n",
              "          'boxplot.medianprops.linestyle': '-',\n",
              "          'boxplot.medianprops.linewidth': 1.0,\n",
              "          'boxplot.notch': False,\n",
              "          'boxplot.patchartist': False,\n",
              "          'boxplot.showbox': True,\n",
              "          'boxplot.showcaps': True,\n",
              "          'boxplot.showfliers': True,\n",
              "          'boxplot.showmeans': False,\n",
              "          'boxplot.vertical': True,\n",
              "          'boxplot.whiskerprops.color': 'black',\n",
              "          'boxplot.whiskerprops.linestyle': '-',\n",
              "          'boxplot.whiskerprops.linewidth': 1.0,\n",
              "          'boxplot.whiskers': 1.5,\n",
              "          'contour.corner_mask': True,\n",
              "          'contour.linewidth': None,\n",
              "          'contour.negative_linestyle': 'dashed',\n",
              "          'date.autoformatter.day': '%Y-%m-%d',\n",
              "          'date.autoformatter.hour': '%m-%d %H',\n",
              "          'date.autoformatter.microsecond': '%M:%S.%f',\n",
              "          'date.autoformatter.minute': '%d %H:%M',\n",
              "          'date.autoformatter.month': '%Y-%m',\n",
              "          'date.autoformatter.second': '%H:%M:%S',\n",
              "          'date.autoformatter.year': '%Y',\n",
              "          'date.converter': 'auto',\n",
              "          'date.epoch': '1970-01-01T00:00:00',\n",
              "          'date.interval_multiples': True,\n",
              "          'docstring.hardcopy': False,\n",
              "          'errorbar.capsize': 0.0,\n",
              "          'figure.autolayout': False,\n",
              "          'figure.constrained_layout.h_pad': 0.04167,\n",
              "          'figure.constrained_layout.hspace': 0.02,\n",
              "          'figure.constrained_layout.use': False,\n",
              "          'figure.constrained_layout.w_pad': 0.04167,\n",
              "          'figure.constrained_layout.wspace': 0.02,\n",
              "          'figure.dpi': 72.0,\n",
              "          'figure.edgecolor': (1, 1, 1, 0),\n",
              "          'figure.facecolor': (1, 1, 1, 0),\n",
              "          'figure.figsize': [6.0, 4.0],\n",
              "          'figure.frameon': True,\n",
              "          'figure.max_open_warning': 20,\n",
              "          'figure.raise_window': True,\n",
              "          'figure.subplot.bottom': 0.125,\n",
              "          'figure.subplot.hspace': 0.2,\n",
              "          'figure.subplot.left': 0.125,\n",
              "          'figure.subplot.right': 0.9,\n",
              "          'figure.subplot.top': 0.88,\n",
              "          'figure.subplot.wspace': 0.2,\n",
              "          'figure.titlesize': 'large',\n",
              "          'figure.titleweight': 'normal',\n",
              "          'font.cursive': ['Apple Chancery',\n",
              "                           'Textile',\n",
              "                           'Zapf Chancery',\n",
              "                           'Sand',\n",
              "                           'Script MT',\n",
              "                           'Felipa',\n",
              "                           'Comic Neue',\n",
              "                           'Comic Sans MS',\n",
              "                           'cursive'],\n",
              "          'font.family': ['sans-serif'],\n",
              "          'font.fantasy': ['Chicago',\n",
              "                           'Charcoal',\n",
              "                           'Impact',\n",
              "                           'Western',\n",
              "                           'Humor Sans',\n",
              "                           'xkcd',\n",
              "                           'fantasy'],\n",
              "          'font.monospace': ['DejaVu Sans Mono',\n",
              "                             'Bitstream Vera Sans Mono',\n",
              "                             'Computer Modern Typewriter',\n",
              "                             'Andale Mono',\n",
              "                             'Nimbus Mono L',\n",
              "                             'Courier New',\n",
              "                             'Courier',\n",
              "                             'Fixed',\n",
              "                             'Terminal',\n",
              "                             'monospace'],\n",
              "          'font.sans-serif': ['DejaVu Sans',\n",
              "                              'Bitstream Vera Sans',\n",
              "                              'Computer Modern Sans Serif',\n",
              "                              'Lucida Grande',\n",
              "                              'Verdana',\n",
              "                              'Geneva',\n",
              "                              'Lucid',\n",
              "                              'Arial',\n",
              "                              'Helvetica',\n",
              "                              'Avant Garde',\n",
              "                              'sans-serif'],\n",
              "          'font.serif': ['DejaVu Serif',\n",
              "                         'Bitstream Vera Serif',\n",
              "                         'Computer Modern Roman',\n",
              "                         'New Century Schoolbook',\n",
              "                         'Century Schoolbook L',\n",
              "                         'Utopia',\n",
              "                         'ITC Bookman',\n",
              "                         'Bookman',\n",
              "                         'Nimbus Roman No9 L',\n",
              "                         'Times New Roman',\n",
              "                         'Times',\n",
              "                         'Palatino',\n",
              "                         'Charter',\n",
              "                         'serif'],\n",
              "          'font.size': 10.0,\n",
              "          'font.stretch': 'normal',\n",
              "          'font.style': 'normal',\n",
              "          'font.variant': 'normal',\n",
              "          'font.weight': 'normal',\n",
              "          'grid.alpha': 1.0,\n",
              "          'grid.color': '#b0b0b0',\n",
              "          'grid.linestyle': '-',\n",
              "          'grid.linewidth': 0.8,\n",
              "          'hatch.color': 'black',\n",
              "          'hatch.linewidth': 1.0,\n",
              "          'hist.bins': 10,\n",
              "          'image.aspect': 'equal',\n",
              "          'image.cmap': 'viridis',\n",
              "          'image.composite_image': True,\n",
              "          'image.interpolation': 'antialiased',\n",
              "          'image.lut': 256,\n",
              "          'image.origin': 'upper',\n",
              "          'image.resample': True,\n",
              "          'interactive': True,\n",
              "          'keymap.back': ['left', 'c', 'backspace', 'MouseButton.BACK'],\n",
              "          'keymap.copy': ['ctrl+c', 'cmd+c'],\n",
              "          'keymap.forward': ['right', 'v', 'MouseButton.FORWARD'],\n",
              "          'keymap.fullscreen': ['f', 'ctrl+f'],\n",
              "          'keymap.grid': ['g'],\n",
              "          'keymap.grid_minor': ['G'],\n",
              "          'keymap.help': ['f1'],\n",
              "          'keymap.home': ['h', 'r', 'home'],\n",
              "          'keymap.pan': ['p'],\n",
              "          'keymap.quit': ['ctrl+w', 'cmd+w', 'q'],\n",
              "          'keymap.quit_all': [],\n",
              "          'keymap.save': ['s', 'ctrl+s'],\n",
              "          'keymap.xscale': ['k', 'L'],\n",
              "          'keymap.yscale': ['l'],\n",
              "          'keymap.zoom': ['o'],\n",
              "          'legend.borderaxespad': 0.5,\n",
              "          'legend.borderpad': 0.4,\n",
              "          'legend.columnspacing': 2.0,\n",
              "          'legend.edgecolor': '0.8',\n",
              "          'legend.facecolor': 'inherit',\n",
              "          'legend.fancybox': True,\n",
              "          'legend.fontsize': 'medium',\n",
              "          'legend.framealpha': 0.8,\n",
              "          'legend.frameon': True,\n",
              "          'legend.handleheight': 0.7,\n",
              "          'legend.handlelength': 2.0,\n",
              "          'legend.handletextpad': 0.8,\n",
              "          'legend.labelcolor': 'None',\n",
              "          'legend.labelspacing': 0.5,\n",
              "          'legend.loc': 'best',\n",
              "          'legend.markerscale': 1.0,\n",
              "          'legend.numpoints': 1,\n",
              "          'legend.scatterpoints': 1,\n",
              "          'legend.shadow': False,\n",
              "          'legend.title_fontsize': None,\n",
              "          'lines.antialiased': True,\n",
              "          'lines.color': 'C0',\n",
              "          'lines.dash_capstyle': <CapStyle.butt: 'butt'>,\n",
              "          'lines.dash_joinstyle': <JoinStyle.round: 'round'>,\n",
              "          'lines.dashdot_pattern': [6.4, 1.6, 1.0, 1.6],\n",
              "          'lines.dashed_pattern': [3.7, 1.6],\n",
              "          'lines.dotted_pattern': [1.0, 1.65],\n",
              "          'lines.linestyle': '-',\n",
              "          'lines.linewidth': 1.5,\n",
              "          'lines.marker': 'None',\n",
              "          'lines.markeredgecolor': 'auto',\n",
              "          'lines.markeredgewidth': 1.0,\n",
              "          'lines.markerfacecolor': 'auto',\n",
              "          'lines.markersize': 6.0,\n",
              "          'lines.scale_dashes': True,\n",
              "          'lines.solid_capstyle': <CapStyle.projecting: 'projecting'>,\n",
              "          'lines.solid_joinstyle': <JoinStyle.round: 'round'>,\n",
              "          'markers.fillstyle': 'full',\n",
              "          'mathtext.bf': 'sans:bold',\n",
              "          'mathtext.cal': 'cursive',\n",
              "          'mathtext.default': 'it',\n",
              "          'mathtext.fallback': 'cm',\n",
              "          'mathtext.fontset': 'dejavusans',\n",
              "          'mathtext.it': 'sans:italic',\n",
              "          'mathtext.rm': 'sans',\n",
              "          'mathtext.sf': 'sans',\n",
              "          'mathtext.tt': 'monospace',\n",
              "          'patch.antialiased': True,\n",
              "          'patch.edgecolor': 'black',\n",
              "          'patch.facecolor': 'C0',\n",
              "          'patch.force_edgecolor': False,\n",
              "          'patch.linewidth': 1.0,\n",
              "          'path.effects': [],\n",
              "          'path.simplify': True,\n",
              "          'path.simplify_threshold': 0.111111111111,\n",
              "          'path.sketch': None,\n",
              "          'path.snap': True,\n",
              "          'pcolor.shading': 'auto',\n",
              "          'pcolormesh.snap': True,\n",
              "          'pdf.compression': 6,\n",
              "          'pdf.fonttype': 3,\n",
              "          'pdf.inheritcolor': False,\n",
              "          'pdf.use14corefonts': False,\n",
              "          'pgf.preamble': '',\n",
              "          'pgf.rcfonts': True,\n",
              "          'pgf.texsystem': 'xelatex',\n",
              "          'polaraxes.grid': True,\n",
              "          'ps.distiller.res': 6000,\n",
              "          'ps.fonttype': 3,\n",
              "          'ps.papersize': 'letter',\n",
              "          'ps.useafm': False,\n",
              "          'ps.usedistiller': None,\n",
              "          'savefig.bbox': None,\n",
              "          'savefig.directory': '~',\n",
              "          'savefig.dpi': 'figure',\n",
              "          'savefig.edgecolor': 'auto',\n",
              "          'savefig.facecolor': 'auto',\n",
              "          'savefig.format': 'png',\n",
              "          'savefig.orientation': 'portrait',\n",
              "          'savefig.pad_inches': 0.1,\n",
              "          'savefig.transparent': False,\n",
              "          'scatter.edgecolors': 'face',\n",
              "          'scatter.marker': 'o',\n",
              "          'svg.fonttype': 'path',\n",
              "          'svg.hashsalt': None,\n",
              "          'svg.image_inline': True,\n",
              "          'text.antialiased': True,\n",
              "          'text.color': 'black',\n",
              "          'text.hinting': 'force_autohint',\n",
              "          'text.hinting_factor': 8,\n",
              "          'text.kerning_factor': 0,\n",
              "          'text.latex.preamble': '',\n",
              "          'text.usetex': False,\n",
              "          'timezone': 'UTC',\n",
              "          'tk.window_focus': False,\n",
              "          'toolbar': 'toolbar2',\n",
              "          'webagg.address': '127.0.0.1',\n",
              "          'webagg.open_in_browser': True,\n",
              "          'webagg.port': 8988,\n",
              "          'webagg.port_retries': 50,\n",
              "          'xaxis.labellocation': 'center',\n",
              "          'xtick.alignment': 'center',\n",
              "          'xtick.bottom': True,\n",
              "          'xtick.color': 'black',\n",
              "          'xtick.direction': 'out',\n",
              "          'xtick.labelbottom': True,\n",
              "          'xtick.labelcolor': 'inherit',\n",
              "          'xtick.labelsize': 'medium',\n",
              "          'xtick.labeltop': False,\n",
              "          'xtick.major.bottom': True,\n",
              "          'xtick.major.pad': 3.5,\n",
              "          'xtick.major.size': 3.5,\n",
              "          'xtick.major.top': True,\n",
              "          'xtick.major.width': 0.8,\n",
              "          'xtick.minor.bottom': True,\n",
              "          'xtick.minor.pad': 3.4,\n",
              "          'xtick.minor.size': 2.0,\n",
              "          'xtick.minor.top': True,\n",
              "          'xtick.minor.visible': False,\n",
              "          'xtick.minor.width': 0.6,\n",
              "          'xtick.top': False,\n",
              "          'yaxis.labellocation': 'center',\n",
              "          'ytick.alignment': 'center_baseline',\n",
              "          'ytick.color': 'black',\n",
              "          'ytick.direction': 'out',\n",
              "          'ytick.labelcolor': 'inherit',\n",
              "          'ytick.labelleft': True,\n",
              "          'ytick.labelright': False,\n",
              "          'ytick.labelsize': 'medium',\n",
              "          'ytick.left': True,\n",
              "          'ytick.major.left': True,\n",
              "          'ytick.major.pad': 3.5,\n",
              "          'ytick.major.right': True,\n",
              "          'ytick.major.size': 3.5,\n",
              "          'ytick.major.width': 0.8,\n",
              "          'ytick.minor.left': True,\n",
              "          'ytick.minor.pad': 3.4,\n",
              "          'ytick.minor.right': True,\n",
              "          'ytick.minor.size': 2.0,\n",
              "          'ytick.minor.visible': False,\n",
              "          'ytick.minor.width': 0.6,\n",
              "          'ytick.right': False})"
            ]
          },
          "metadata": {},
          "execution_count": 91
        }
      ]
    },
    {
      "cell_type": "code",
      "source": [
        "pl.rcParams[\"font.size\"] = 12"
      ],
      "metadata": {
        "id": "vboGT4Akg2-Y"
      },
      "execution_count": null,
      "outputs": []
    },
    {
      "cell_type": "code",
      "source": [
        "myx = np.arange(10)"
      ],
      "metadata": {
        "id": "9b6UTAcEhhKI"
      },
      "execution_count": null,
      "outputs": []
    },
    {
      "cell_type": "code",
      "source": [
        "myy = np.arange(0, 100, 10)"
      ],
      "metadata": {
        "id": "YshlSQDfhkFG"
      },
      "execution_count": null,
      "outputs": []
    },
    {
      "cell_type": "code",
      "source": [
        "fig = pl.figure(figsize=(3,3))\n",
        "ax = fig.add_subplot(1,1,1);\n"
      ],
      "metadata": {
        "colab": {
          "base_uri": "https://localhost:8080/",
          "height": 219
        },
        "id": "Rse08S97hpzR",
        "outputId": "c5edadea-fbd6-4115-f7e4-4a571ec59278"
      },
      "execution_count": null,
      "outputs": [
        {
          "output_type": "display_data",
          "data": {
            "text/plain": [
              "<Figure size 216x216 with 1 Axes>"
            ],
            "image/png": "[encoded data removed]"
          },
          "metadata": {
            "needs_background": "light"
          }
        }
      ]
    }
  ]
}