{
  "nbformat": 4,
  "nbformat_minor": 0,
  "metadata": {
    "colab": {
      "provenance": [],
      "include_colab_link": true
    },
    "kernelspec": {
      "name": "python3",
      "display_name": "Python 3"
    }
  },
  "cells": [
    {
      "cell_type": "markdown",
      "metadata": {
        "id": "view-in-github",
        "colab_type": "text"
      },
      "source": [
        "<a href=\"https://colab.research.google.com/github/savimhl/MLPNS_MSavi/blob/main/higgsbosonSearch.ipynb\" target=\"_parent\"><img src=\"https://colab.research.google.com/assets/colab-badge.svg\" alt=\"Open In Colab\"/></a>"
      ]
    },
    {
      "cell_type": "code",
      "metadata": {
        "id": "-xpw06PzTsU6",
        "colab": {
          "base_uri": "https://localhost:8080/"
        },
        "outputId": "6b0362e5-957c-4a14-bd6f-e390f09a93dc"
      },
      "source": [
        "from google.colab import drive\n",
        "drive.mount('/content/drive')"
      ],
      "execution_count": 1,
      "outputs": [
        {
          "output_type": "stream",
          "name": "stdout",
          "text": [
            "Drive already mounted at /content/drive; to attempt to forcibly remount, call drive.mount(\"/content/drive\", force_remount=True).\n"
          ]
        }
      ]
    },
    {
      "cell_type": "code",
      "source": [
        "pip install kaggle"
      ],
      "metadata": {
        "colab": {
          "base_uri": "https://localhost:8080/"
        },
        "id": "xPyxLmMvVIr6",
        "outputId": "bdb0d328-f017-4687-f4e1-a1f33be9b3d2"
      },
      "execution_count": 2,
      "outputs": [
        {
          "output_type": "stream",
          "name": "stdout",
          "text": [
            "Looking in indexes: https://pypi.org/simple, https://us-python.pkg.dev/colab-wheels/public/simple/\n",
            "Requirement already satisfied: kaggle in /usr/local/lib/python3.9/dist-packages (1.5.13)\n",
            "Requirement already satisfied: tqdm in /usr/local/lib/python3.9/dist-packages (from kaggle) (4.65.0)\n",
            "Requirement already satisfied: requests in /usr/local/lib/python3.9/dist-packages (from kaggle) (2.27.1)\n",
            "Requirement already satisfied: urllib3 in /usr/local/lib/python3.9/dist-packages (from kaggle) (1.26.15)\n",
            "Requirement already satisfied: python-dateutil in /usr/local/lib/python3.9/dist-packages (from kaggle) (2.8.2)\n",
            "Requirement already satisfied: six>=1.10 in /usr/local/lib/python3.9/dist-packages (from kaggle) (1.16.0)\n",
            "Requirement already satisfied: certifi in /usr/local/lib/python3.9/dist-packages (from kaggle) (2022.12.7)\n",
            "Requirement already satisfied: python-slugify in /usr/local/lib/python3.9/dist-packages (from kaggle) (8.0.1)\n",
            "Requirement already satisfied: text-unidecode>=1.3 in /usr/local/lib/python3.9/dist-packages (from python-slugify->kaggle) (1.3)\n",
            "Requirement already satisfied: idna<4,>=2.5 in /usr/local/lib/python3.9/dist-packages (from requests->kaggle) (3.4)\n",
            "Requirement already satisfied: charset-normalizer~=2.0.0 in /usr/local/lib/python3.9/dist-packages (from requests->kaggle) (2.0.12)\n"
          ]
        }
      ]
    },
    {
      "cell_type": "code",
      "source": [
        "cd drive/My\\ Drive"
      ],
      "metadata": {
        "colab": {
          "base_uri": "https://localhost:8080/"
        },
        "id": "qwaL0N4GV0qh",
        "outputId": "d2d77029-23c7-431e-fdcd-50531e154559"
      },
      "execution_count": 3,
      "outputs": [
        {
          "output_type": "stream",
          "name": "stdout",
          "text": [
            "/content/drive/My Drive\n"
          ]
        }
      ]
    },
    {
      "cell_type": "code",
      "source": [
        "import pandas as pd\n",
        "import numpy as np\n",
        "import pylab as pl\n",
        "import os\n",
        "import json \n",
        "%pylab inline"
      ],
      "metadata": {
        "colab": {
          "base_uri": "https://localhost:8080/"
        },
        "id": "njxfZ21nWTpz",
        "outputId": "44d5261c-2054-422f-c8f3-27373a8cdf95"
      },
      "execution_count": 4,
      "outputs": [
        {
          "output_type": "stream",
          "name": "stdout",
          "text": [
            "Populating the interactive namespace from numpy and matplotlib\n"
          ]
        }
      ]
    },
    {
      "cell_type": "code",
      "source": [
        "envs = json.load(open(\"kaggle.json\", \"r\"))\n",
        "envs.keys()"
      ],
      "metadata": {
        "colab": {
          "base_uri": "https://localhost:8080/"
        },
        "id": "XX7EUC8CWH6T",
        "outputId": "91f4cac6-a345-43f9-ac14-4b587de24185"
      },
      "execution_count": 5,
      "outputs": [
        {
          "output_type": "execute_result",
          "data": {
            "text/plain": [
              "dict_keys(['username', 'key'])"
            ]
          },
          "metadata": {},
          "execution_count": 5
        }
      ]
    },
    {
      "cell_type": "code",
      "source": [
        "os.environ"
      ],
      "metadata": {
        "colab": {
          "base_uri": "https://localhost:8080/"
        },
        "id": "QXodfqdcWIyB",
        "outputId": "ee45c81e-9384-4b07-e80b-87aee7e03c19"
      },
      "execution_count": 6,
      "outputs": [
        {
          "output_type": "execute_result",
          "data": {
            "text/plain": [
              "environ{'SHELL': '/bin/bash',\n",
              "        'NV_LIBCUBLAS_VERSION': '11.11.3.6-1',\n",
              "        'NVIDIA_VISIBLE_DEVICES': 'all',\n",
              "        'COLAB_JUPYTER_TRANSPORT': 'ipc',\n",
              "        'NV_NVML_DEV_VERSION': '11.8.86-1',\n",
              "        'NV_CUDNN_PACKAGE_NAME': 'libcudnn8',\n",
              "        'CGROUP_MEMORY_EVENTS': '/sys/fs/cgroup/memory.events /var/colab/cgroup/jupyter-children/memory.events',\n",
              "        'NV_LIBNCCL_DEV_PACKAGE': 'libnccl-dev=2.16.2-1+cuda11.8',\n",
              "        'NV_LIBNCCL_DEV_PACKAGE_VERSION': '2.16.2-1',\n",
              "        'VM_GCE_METADATA_HOST': '169.254.169.253',\n",
              "        'HOSTNAME': '26766e183e67',\n",
              "        'TBE_RUNTIME_ADDR': '172.28.0.1:8011',\n",
              "        'GCE_METADATA_TIMEOUT': '3',\n",
              "        'NVIDIA_REQUIRE_CUDA': 'cuda>=11.8 brand=tesla,driver>=450,driver<451 brand=tesla,driver>=470,driver<471 brand=unknown,driver>=470,driver<471 brand=nvidia,driver>=470,driver<471 brand=nvidiartx,driver>=470,driver<471 brand=geforce,driver>=470,driver<471 brand=geforcertx,driver>=470,driver<471 brand=quadro,driver>=470,driver<471 brand=quadrortx,driver>=470,driver<471 brand=titan,driver>=470,driver<471 brand=titanrtx,driver>=470,driver<471 brand=tesla,driver>=510,driver<511 brand=unknown,driver>=510,driver<511 brand=nvidia,driver>=510,driver<511 brand=nvidiartx,driver>=510,driver<511 brand=geforce,driver>=510,driver<511 brand=geforcertx,driver>=510,driver<511 brand=quadro,driver>=510,driver<511 brand=quadrortx,driver>=510,driver<511 brand=titan,driver>=510,driver<511 brand=titanrtx,driver>=510,driver<511 brand=tesla,driver>=515,driver<516 brand=unknown,driver>=515,driver<516 brand=nvidia,driver>=515,driver<516 brand=nvidiartx,driver>=515,driver<516 brand=geforce,driver>=515,driver<516 brand=geforcertx,driver>=515,driver<516 brand=quadro,driver>=515,driver<516 brand=quadrortx,driver>=515,driver<516 brand=titan,driver>=515,driver<516 brand=titanrtx,driver>=515,driver<516',\n",
              "        'NV_LIBCUBLAS_DEV_PACKAGE': 'libcublas-dev-11-8=11.11.3.6-1',\n",
              "        'NV_NVTX_VERSION': '11.8.86-1',\n",
              "        'COLAB_JUPYTER_IP': '172.28.0.12',\n",
              "        'NV_CUDA_CUDART_DEV_VERSION': '11.8.89-1',\n",
              "        'NV_LIBCUSPARSE_VERSION': '11.7.5.86-1',\n",
              "        'COLAB_LANGUAGE_SERVER_PROXY_ROOT_URL': 'http://172.28.0.1:8013/',\n",
              "        'NV_LIBNPP_VERSION': '11.8.0.86-1',\n",
              "        'NCCL_VERSION': '2.16.2-1',\n",
              "        'KMP_LISTEN_PORT': '6000',\n",
              "        'TF_FORCE_GPU_ALLOW_GROWTH': 'true',\n",
              "        'ENV': '/root/.bashrc',\n",
              "        'PWD': '/',\n",
              "        'COLAB_LANGUAGE_SERVER_PROXY_REQUEST_TIMEOUT': '30s',\n",
              "        'TBE_EPHEM_CREDS_ADDR': '172.28.0.1:8009',\n",
              "        'TBE_CREDS_ADDR': '172.28.0.1:8008',\n",
              "        'NV_CUDNN_PACKAGE': 'libcudnn8=8.7.0.84-1+cuda11.8',\n",
              "        'NVIDIA_DRIVER_CAPABILITIES': 'compute,utility',\n",
              "        'LAST_FORCED_REBUILD': '20230403',\n",
              "        'NV_NVPROF_DEV_PACKAGE': 'cuda-nvprof-11-8=11.8.87-1',\n",
              "        'NV_LIBNPP_PACKAGE': 'libnpp-11-8=11.8.0.86-1',\n",
              "        'NV_LIBNCCL_DEV_PACKAGE_NAME': 'libnccl-dev',\n",
              "        'TCLLIBPATH': '/usr/share/tcltk/tcllib1.20',\n",
              "        'NV_LIBCUBLAS_DEV_VERSION': '11.11.3.6-1',\n",
              "        'NVIDIA_PRODUCT_NAME': 'CUDA',\n",
              "        'COLAB_KERNEL_MANAGER_PROXY_HOST': '172.28.0.12',\n",
              "        'NV_LIBCUBLAS_DEV_PACKAGE_NAME': 'libcublas-dev-11-8',\n",
              "        'NV_CUDA_CUDART_VERSION': '11.8.89-1',\n",
              "        'HOME': '/root',\n",
              "        'LANG': 'en_US.UTF-8',\n",
              "        'CUDA_VERSION': '11.8.0',\n",
              "        'CLOUDSDK_CONFIG': '/content/.config',\n",
              "        'NV_LIBCUBLAS_PACKAGE': 'libcublas-11-8=11.11.3.6-1',\n",
              "        'COLAB_RELEASE_TAG': 'release-colab-20230413-060131-RC00',\n",
              "        'KMP_TARGET_PORT': '9000',\n",
              "        'KMP_EXTRA_ARGS': '--listen_host=172.28.0.12 --target_host=172.28.0.12 --tunnel_background_save_url=https://colab.research.google.com/tun/m/cc48301118ce562b961b3c22d803539adc1e0c19/m-s-dcofj537s58u --tunnel_background_save_delay=10s --tunnel_periodic_background_save_frequency=30m0s --enable_output_coalescing=true --output_coalescing_required=true',\n",
              "        'NV_LIBNPP_DEV_PACKAGE': 'libnpp-dev-11-8=11.8.0.86-1',\n",
              "        'NV_LIBCUBLAS_PACKAGE_NAME': 'libcublas-11-8',\n",
              "        'COLAB_KERNEL_MANAGER_PROXY_PORT': '6000',\n",
              "        'CLOUDSDK_PYTHON': 'python3',\n",
              "        'NV_LIBNPP_DEV_VERSION': '11.8.0.86-1',\n",
              "        'NO_GCE_CHECK': 'False',\n",
              "        'PYTHONPATH': '/env/python',\n",
              "        'SETUPTOOLS_USE_DISTUTILS': 'stdlib',\n",
              "        'NV_LIBCUSPARSE_DEV_VERSION': '11.7.5.86-1',\n",
              "        'LIBRARY_PATH': '/usr/local/cuda/lib64/stubs',\n",
              "        'NV_CUDNN_VERSION': '8.7.0.84',\n",
              "        'SHLVL': '0',\n",
              "        'NV_CUDA_LIB_VERSION': '11.8.0-1',\n",
              "        'COLAB_LANGUAGE_SERVER_PROXY': '/usr/colab/bin/language_service',\n",
              "        'NVARCH': 'x86_64',\n",
              "        'NV_CUDNN_PACKAGE_DEV': 'libcudnn8-dev=8.7.0.84-1+cuda11.8',\n",
              "        'NV_CUDA_COMPAT_PACKAGE': 'cuda-compat-11-8',\n",
              "        'NV_LIBNCCL_PACKAGE': 'libnccl2=2.16.2-1+cuda11.8',\n",
              "        'LD_LIBRARY_PATH': '/usr/local/nvidia/lib:/usr/local/nvidia/lib64',\n",
              "        'COLAB_GPU': '',\n",
              "        'GCS_READ_CACHE_BLOCK_SIZE_MB': '16',\n",
              "        'NV_NVPROF_VERSION': '11.8.87-1',\n",
              "        'PATH': '/opt/bin:/usr/local/nvidia/bin:/usr/local/cuda/bin:/usr/local/sbin:/usr/local/bin:/usr/sbin:/usr/bin:/sbin:/bin:/tools/node/bin:/tools/google-cloud-sdk/bin',\n",
              "        'NV_LIBNCCL_PACKAGE_NAME': 'libnccl2',\n",
              "        'COLAB_DEBUG_ADAPTER_MUX_PATH': '/usr/local/bin/dap_multiplexer',\n",
              "        'NV_LIBNCCL_PACKAGE_VERSION': '2.16.2-1',\n",
              "        'PYTHONWARNINGS': 'ignore:::pip._internal.cli.base_command',\n",
              "        'DEBIAN_FRONTEND': 'noninteractive',\n",
              "        'COLAB_BACKEND_VERSION': 'next',\n",
              "        'OLDPWD': '/',\n",
              "        'JPY_PARENT_PID': '82',\n",
              "        'TERM': 'xterm-color',\n",
              "        'CLICOLOR': '1',\n",
              "        'PAGER': 'cat',\n",
              "        'GIT_PAGER': 'cat',\n",
              "        'MPLBACKEND': 'module://ipykernel.pylab.backend_inline',\n",
              "        'ENABLE_DIRECTORYPREFETCHER': '1',\n",
              "        'USE_AUTH_EPHEM': '1',\n",
              "        'PYDEVD_USE_FRAME_EVAL': 'NO'}"
            ]
          },
          "metadata": {},
          "execution_count": 6
        }
      ]
    },
    {
      "cell_type": "code",
      "source": [
        "os.environ[\"KAGGLE_USERNAME\"] = envs[\"username\"]\n",
        "os.environ[\"KAGGLE_KEY\"] = envs[\"key\"]"
      ],
      "metadata": {
        "id": "oNBMy5dtWcDB"
      },
      "execution_count": 7,
      "outputs": []
    },
    {
      "cell_type": "code",
      "source": [
        "!kaggle --version"
      ],
      "metadata": {
        "colab": {
          "base_uri": "https://localhost:8080/"
        },
        "id": "M8OKmMBQWguO",
        "outputId": "c8407700-6112-422d-df99-00289e52a3bf"
      },
      "execution_count": 8,
      "outputs": [
        {
          "output_type": "stream",
          "name": "stdout",
          "text": [
            "Kaggle API 1.5.13\n"
          ]
        }
      ]
    },
    {
      "cell_type": "markdown",
      "metadata": {
        "id": "nS4S7msAPK_R"
      },
      "source": [
        "- Download the Higgs boson data from Kaggle (programmatically within the notebook)\n",
        "see how I did it in the Titanic Trees notebook https://github.com/fedhere/DSPS/blob/master/lab9/titanictree.ipynb\n",
        "\n",
        "find the correct API link here https://www.kaggle.com/c/higgs-boson/data\n",
        "\n",
        "Data Dictionary (Dataset semantics) http://opendata.cern.ch/record/328\n"
      ]
    },
    {
      "cell_type": "code",
      "source": [
        "cd MLPNS2023"
      ],
      "metadata": {
        "colab": {
          "base_uri": "https://localhost:8080/"
        },
        "id": "6_rKv5SFVjoR",
        "outputId": "95ac2ff7-4a0a-4f85-9401-53bda58b8f44"
      },
      "execution_count": 9,
      "outputs": [
        {
          "output_type": "stream",
          "name": "stdout",
          "text": [
            "/content/drive/My Drive/MLPNS2023\n"
          ]
        }
      ]
    },
    {
      "cell_type": "code",
      "source": [
        "mkdir kagglehiggs"
      ],
      "metadata": {
        "colab": {
          "base_uri": "https://localhost:8080/"
        },
        "id": "7GgOtmHNW9Na",
        "outputId": "5d5cdc14-5f7e-462d-e4db-5747c9bb3253"
      },
      "execution_count": 10,
      "outputs": [
        {
          "output_type": "stream",
          "name": "stdout",
          "text": [
            "mkdir: cannot create directory ‘kagglehiggs’: File exists\n"
          ]
        }
      ]
    },
    {
      "cell_type": "code",
      "source": [
        "cd kagglehiggs"
      ],
      "metadata": {
        "colab": {
          "base_uri": "https://localhost:8080/"
        },
        "id": "OcIIStxhXAPk",
        "outputId": "b16937f5-5249-440d-8f6e-460c9aad91f7"
      },
      "execution_count": 11,
      "outputs": [
        {
          "output_type": "stream",
          "name": "stdout",
          "text": [
            "/content/drive/My Drive/MLPNS2023/kagglehiggs\n"
          ]
        }
      ]
    },
    {
      "cell_type": "code",
      "source": [
        "!kaggle competitions download -c higgs-boson"
      ],
      "metadata": {
        "colab": {
          "base_uri": "https://localhost:8080/"
        },
        "id": "0ue2CJJIXPMP",
        "outputId": "022ca830-e8ac-43d0-9c0f-c0cf15b33fbe"
      },
      "execution_count": 12,
      "outputs": [
        {
          "output_type": "stream",
          "name": "stdout",
          "text": [
            "higgs-boson.zip: Skipping, found more recently modified local copy (use --force to force download)\n"
          ]
        }
      ]
    },
    {
      "cell_type": "code",
      "source": [
        "!unzip higgs-boson.zip"
      ],
      "metadata": {
        "colab": {
          "base_uri": "https://localhost:8080/"
        },
        "id": "EwixGrKNZahK",
        "outputId": "bb03aeaf-50f8-4eb3-8015-1d3695bb75f7"
      },
      "execution_count": 13,
      "outputs": [
        {
          "output_type": "stream",
          "name": "stdout",
          "text": [
            "Archive:  higgs-boson.zip\n",
            "replace HiggsBosonCompetition_AMSMetric_rev1.py? [y]es, [n]o, [A]ll, [N]one, [r]ename: N\n"
          ]
        }
      ]
    },
    {
      "cell_type": "code",
      "source": [
        "!unzip training.zip"
      ],
      "metadata": {
        "colab": {
          "base_uri": "https://localhost:8080/"
        },
        "id": "x9RyWdoXZlbh",
        "outputId": "e0dc4591-afbb-4d33-82c1-c1c3b225336e"
      },
      "execution_count": 14,
      "outputs": [
        {
          "output_type": "stream",
          "name": "stdout",
          "text": [
            "Archive:  training.zip\n",
            "replace training.csv? [y]es, [n]o, [A]ll, [N]one, [r]ename: n\n"
          ]
        }
      ]
    },
    {
      "cell_type": "code",
      "source": [
        "higgsdata = pd.read_csv(\"training.csv\")\n",
        "higgsdata"
      ],
      "metadata": {
        "colab": {
          "base_uri": "https://localhost:8080/",
          "height": 488
        },
        "id": "g7Bj5IWUZpDm",
        "outputId": "b10d1cb6-7c58-4f32-e68c-6922be974d10"
      },
      "execution_count": 15,
      "outputs": [
        {
          "output_type": "execute_result",
          "data": {
            "text/plain": [
              "        EventId  DER_mass_MMC  DER_mass_transverse_met_lep  DER_mass_vis  \\\n",
              "0        100000       138.470                       51.655        97.827   \n",
              "1        100001       160.937                       68.768       103.235   \n",
              "2        100002      -999.000                      162.172       125.953   \n",
              "3        100003       143.905                       81.417        80.943   \n",
              "4        100004       175.864                       16.915       134.805   \n",
              "...         ...           ...                          ...           ...   \n",
              "249995   349995      -999.000                       71.989        36.548   \n",
              "249996   349996      -999.000                       58.179        68.083   \n",
              "249997   349997       105.457                       60.526        75.839   \n",
              "249998   349998        94.951                       19.362        68.812   \n",
              "249999   349999      -999.000                       72.756        70.831   \n",
              "\n",
              "        DER_pt_h  DER_deltaeta_jet_jet  DER_mass_jet_jet  DER_prodeta_jet_jet  \\\n",
              "0         27.980                  0.91           124.711                2.666   \n",
              "1         48.146               -999.00          -999.000             -999.000   \n",
              "2         35.635               -999.00          -999.000             -999.000   \n",
              "3          0.414               -999.00          -999.000             -999.000   \n",
              "4         16.405               -999.00          -999.000             -999.000   \n",
              "...          ...                   ...               ...                  ...   \n",
              "249995     5.042               -999.00          -999.000             -999.000   \n",
              "249996    22.439               -999.00          -999.000             -999.000   \n",
              "249997    39.757               -999.00          -999.000             -999.000   \n",
              "249998    13.504               -999.00          -999.000             -999.000   \n",
              "249999     7.479               -999.00          -999.000             -999.000   \n",
              "\n",
              "        DER_deltar_tau_lep  DER_pt_tot  ...  PRI_jet_num  PRI_jet_leading_pt  \\\n",
              "0                    3.064      41.928  ...            2              67.435   \n",
              "1                    3.473       2.078  ...            1              46.226   \n",
              "2                    3.148       9.336  ...            1              44.251   \n",
              "3                    3.310       0.414  ...            0            -999.000   \n",
              "4                    3.891      16.405  ...            0            -999.000   \n",
              "...                    ...         ...  ...          ...                 ...   \n",
              "249995               1.392       5.042  ...            0            -999.000   \n",
              "249996               2.585      22.439  ...            0            -999.000   \n",
              "249997               2.390      22.183  ...            1              41.992   \n",
              "249998               3.365      13.504  ...            0            -999.000   \n",
              "249999               2.025       7.479  ...            0            -999.000   \n",
              "\n",
              "        PRI_jet_leading_eta  PRI_jet_leading_phi  PRI_jet_subleading_pt  \\\n",
              "0                     2.150                0.444                 46.062   \n",
              "1                     0.725                1.158               -999.000   \n",
              "2                     2.053               -2.028               -999.000   \n",
              "3                  -999.000             -999.000               -999.000   \n",
              "4                  -999.000             -999.000               -999.000   \n",
              "...                     ...                  ...                    ...   \n",
              "249995             -999.000             -999.000               -999.000   \n",
              "249996             -999.000             -999.000               -999.000   \n",
              "249997                1.800               -0.166               -999.000   \n",
              "249998             -999.000             -999.000               -999.000   \n",
              "249999             -999.000             -999.000               -999.000   \n",
              "\n",
              "        PRI_jet_subleading_eta  PRI_jet_subleading_phi  PRI_jet_all_pt  \\\n",
              "0                         1.24                  -2.475         113.497   \n",
              "1                      -999.00                -999.000          46.226   \n",
              "2                      -999.00                -999.000          44.251   \n",
              "3                      -999.00                -999.000          -0.000   \n",
              "4                      -999.00                -999.000           0.000   \n",
              "...                        ...                     ...             ...   \n",
              "249995                 -999.00                -999.000           0.000   \n",
              "249996                 -999.00                -999.000          -0.000   \n",
              "249997                 -999.00                -999.000          41.992   \n",
              "249998                 -999.00                -999.000           0.000   \n",
              "249999                 -999.00                -999.000           0.000   \n",
              "\n",
              "          Weight  Label  \n",
              "0       0.002653      s  \n",
              "1       2.233584      b  \n",
              "2       2.347389      b  \n",
              "3       5.446378      b  \n",
              "4       6.245333      b  \n",
              "...          ...    ...  \n",
              "249995  4.505083      b  \n",
              "249996  2.497259      b  \n",
              "249997  0.018636      s  \n",
              "249998  1.681611      b  \n",
              "249999  1.877474      b  \n",
              "\n",
              "[250000 rows x 33 columns]"
            ],
            "text/html": [
              "\n",
              "  <div id=\"df-ba5922d2-4807-407a-a477-f03c38d1c135\">\n",
              "    <div class=\"colab-df-container\">\n",
              "      <div>\n",
              "<style scoped>\n",
              "    .dataframe tbody tr th:only-of-type {\n",
              "        vertical-align: middle;\n",
              "    }\n",
              "\n",
              "    .dataframe tbody tr th {\n",
              "        vertical-align: top;\n",
              "    }\n",
              "\n",
              "    .dataframe thead th {\n",
              "        text-align: right;\n",
              "    }\n",
              "</style>\n",
              "<table border=\"1\" class=\"dataframe\">\n",
              "  <thead>\n",
              "    <tr style=\"text-align: right;\">\n",
              "      <th></th>\n",
              "      <th>EventId</th>\n",
              "      <th>DER_mass_MMC</th>\n",
              "      <th>DER_mass_transverse_met_lep</th>\n",
              "      <th>DER_mass_vis</th>\n",
              "      <th>DER_pt_h</th>\n",
              "      <th>DER_deltaeta_jet_jet</th>\n",
              "      <th>DER_mass_jet_jet</th>\n",
              "      <th>DER_prodeta_jet_jet</th>\n",
              "      <th>DER_deltar_tau_lep</th>\n",
              "      <th>DER_pt_tot</th>\n",
              "      <th>...</th>\n",
              "      <th>PRI_jet_num</th>\n",
              "      <th>PRI_jet_leading_pt</th>\n",
              "      <th>PRI_jet_leading_eta</th>\n",
              "      <th>PRI_jet_leading_phi</th>\n",
              "      <th>PRI_jet_subleading_pt</th>\n",
              "      <th>PRI_jet_subleading_eta</th>\n",
              "      <th>PRI_jet_subleading_phi</th>\n",
              "      <th>PRI_jet_all_pt</th>\n",
              "      <th>Weight</th>\n",
              "      <th>Label</th>\n",
              "    </tr>\n",
              "  </thead>\n",
              "  <tbody>\n",
              "    <tr>\n",
              "      <th>0</th>\n",
              "      <td>100000</td>\n",
              "      <td>138.470</td>\n",
              "      <td>51.655</td>\n",
              "      <td>97.827</td>\n",
              "      <td>27.980</td>\n",
              "      <td>0.91</td>\n",
              "      <td>124.711</td>\n",
              "      <td>2.666</td>\n",
              "      <td>3.064</td>\n",
              "      <td>41.928</td>\n",
              "      <td>...</td>\n",
              "      <td>2</td>\n",
              "      <td>67.435</td>\n",
              "      <td>2.150</td>\n",
              "      <td>0.444</td>\n",
              "      <td>46.062</td>\n",
              "      <td>1.24</td>\n",
              "      <td>-2.475</td>\n",
              "      <td>113.497</td>\n",
              "      <td>0.002653</td>\n",
              "      <td>s</td>\n",
              "    </tr>\n",
              "    <tr>\n",
              "      <th>1</th>\n",
              "      <td>100001</td>\n",
              "      <td>160.937</td>\n",
              "      <td>68.768</td>\n",
              "      <td>103.235</td>\n",
              "      <td>48.146</td>\n",
              "      <td>-999.00</td>\n",
              "      <td>-999.000</td>\n",
              "      <td>-999.000</td>\n",
              "      <td>3.473</td>\n",
              "      <td>2.078</td>\n",
              "      <td>...</td>\n",
              "      <td>1</td>\n",
              "      <td>46.226</td>\n",
              "      <td>0.725</td>\n",
              "      <td>1.158</td>\n",
              "      <td>-999.000</td>\n",
              "      <td>-999.00</td>\n",
              "      <td>-999.000</td>\n",
              "      <td>46.226</td>\n",
              "      <td>2.233584</td>\n",
              "      <td>b</td>\n",
              "    </tr>\n",
              "    <tr>\n",
              "      <th>2</th>\n",
              "      <td>100002</td>\n",
              "      <td>-999.000</td>\n",
              "      <td>162.172</td>\n",
              "      <td>125.953</td>\n",
              "      <td>35.635</td>\n",
              "      <td>-999.00</td>\n",
              "      <td>-999.000</td>\n",
              "      <td>-999.000</td>\n",
              "      <td>3.148</td>\n",
              "      <td>9.336</td>\n",
              "      <td>...</td>\n",
              "      <td>1</td>\n",
              "      <td>44.251</td>\n",
              "      <td>2.053</td>\n",
              "      <td>-2.028</td>\n",
              "      <td>-999.000</td>\n",
              "      <td>-999.00</td>\n",
              "      <td>-999.000</td>\n",
              "      <td>44.251</td>\n",
              "      <td>2.347389</td>\n",
              "      <td>b</td>\n",
              "    </tr>\n",
              "    <tr>\n",
              "      <th>3</th>\n",
              "      <td>100003</td>\n",
              "      <td>143.905</td>\n",
              "      <td>81.417</td>\n",
              "      <td>80.943</td>\n",
              "      <td>0.414</td>\n",
              "      <td>-999.00</td>\n",
              "      <td>-999.000</td>\n",
              "      <td>-999.000</td>\n",
              "      <td>3.310</td>\n",
              "      <td>0.414</td>\n",
              "      <td>...</td>\n",
              "      <td>0</td>\n",
              "      <td>-999.000</td>\n",
              "      <td>-999.000</td>\n",
              "      <td>-999.000</td>\n",
              "      <td>-999.000</td>\n",
              "      <td>-999.00</td>\n",
              "      <td>-999.000</td>\n",
              "      <td>-0.000</td>\n",
              "      <td>5.446378</td>\n",
              "      <td>b</td>\n",
              "    </tr>\n",
              "    <tr>\n",
              "      <th>4</th>\n",
              "      <td>100004</td>\n",
              "      <td>175.864</td>\n",
              "      <td>16.915</td>\n",
              "      <td>134.805</td>\n",
              "      <td>16.405</td>\n",
              "      <td>-999.00</td>\n",
              "      <td>-999.000</td>\n",
              "      <td>-999.000</td>\n",
              "      <td>3.891</td>\n",
              "      <td>16.405</td>\n",
              "      <td>...</td>\n",
              "      <td>0</td>\n",
              "      <td>-999.000</td>\n",
              "      <td>-999.000</td>\n",
              "      <td>-999.000</td>\n",
              "      <td>-999.000</td>\n",
              "      <td>-999.00</td>\n",
              "      <td>-999.000</td>\n",
              "      <td>0.000</td>\n",
              "      <td>6.245333</td>\n",
              "      <td>b</td>\n",
              "    </tr>\n",
              "    <tr>\n",
              "      <th>...</th>\n",
              "      <td>...</td>\n",
              "      <td>...</td>\n",
              "      <td>...</td>\n",
              "      <td>...</td>\n",
              "      <td>...</td>\n",
              "      <td>...</td>\n",
              "      <td>...</td>\n",
              "      <td>...</td>\n",
              "      <td>...</td>\n",
              "      <td>...</td>\n",
              "      <td>...</td>\n",
              "      <td>...</td>\n",
              "      <td>...</td>\n",
              "      <td>...</td>\n",
              "      <td>...</td>\n",
              "      <td>...</td>\n",
              "      <td>...</td>\n",
              "      <td>...</td>\n",
              "      <td>...</td>\n",
              "      <td>...</td>\n",
              "      <td>...</td>\n",
              "    </tr>\n",
              "    <tr>\n",
              "      <th>249995</th>\n",
              "      <td>349995</td>\n",
              "      <td>-999.000</td>\n",
              "      <td>71.989</td>\n",
              "      <td>36.548</td>\n",
              "      <td>5.042</td>\n",
              "      <td>-999.00</td>\n",
              "      <td>-999.000</td>\n",
              "      <td>-999.000</td>\n",
              "      <td>1.392</td>\n",
              "      <td>5.042</td>\n",
              "      <td>...</td>\n",
              "      <td>0</td>\n",
              "      <td>-999.000</td>\n",
              "      <td>-999.000</td>\n",
              "      <td>-999.000</td>\n",
              "      <td>-999.000</td>\n",
              "      <td>-999.00</td>\n",
              "      <td>-999.000</td>\n",
              "      <td>0.000</td>\n",
              "      <td>4.505083</td>\n",
              "      <td>b</td>\n",
              "    </tr>\n",
              "    <tr>\n",
              "      <th>249996</th>\n",
              "      <td>349996</td>\n",
              "      <td>-999.000</td>\n",
              "      <td>58.179</td>\n",
              "      <td>68.083</td>\n",
              "      <td>22.439</td>\n",
              "      <td>-999.00</td>\n",
              "      <td>-999.000</td>\n",
              "      <td>-999.000</td>\n",
              "      <td>2.585</td>\n",
              "      <td>22.439</td>\n",
              "      <td>...</td>\n",
              "      <td>0</td>\n",
              "      <td>-999.000</td>\n",
              "      <td>-999.000</td>\n",
              "      <td>-999.000</td>\n",
              "      <td>-999.000</td>\n",
              "      <td>-999.00</td>\n",
              "      <td>-999.000</td>\n",
              "      <td>-0.000</td>\n",
              "      <td>2.497259</td>\n",
              "      <td>b</td>\n",
              "    </tr>\n",
              "    <tr>\n",
              "      <th>249997</th>\n",
              "      <td>349997</td>\n",
              "      <td>105.457</td>\n",
              "      <td>60.526</td>\n",
              "      <td>75.839</td>\n",
              "      <td>39.757</td>\n",
              "      <td>-999.00</td>\n",
              "      <td>-999.000</td>\n",
              "      <td>-999.000</td>\n",
              "      <td>2.390</td>\n",
              "      <td>22.183</td>\n",
              "      <td>...</td>\n",
              "      <td>1</td>\n",
              "      <td>41.992</td>\n",
              "      <td>1.800</td>\n",
              "      <td>-0.166</td>\n",
              "      <td>-999.000</td>\n",
              "      <td>-999.00</td>\n",
              "      <td>-999.000</td>\n",
              "      <td>41.992</td>\n",
              "      <td>0.018636</td>\n",
              "      <td>s</td>\n",
              "    </tr>\n",
              "    <tr>\n",
              "      <th>249998</th>\n",
              "      <td>349998</td>\n",
              "      <td>94.951</td>\n",
              "      <td>19.362</td>\n",
              "      <td>68.812</td>\n",
              "      <td>13.504</td>\n",
              "      <td>-999.00</td>\n",
              "      <td>-999.000</td>\n",
              "      <td>-999.000</td>\n",
              "      <td>3.365</td>\n",
              "      <td>13.504</td>\n",
              "      <td>...</td>\n",
              "      <td>0</td>\n",
              "      <td>-999.000</td>\n",
              "      <td>-999.000</td>\n",
              "      <td>-999.000</td>\n",
              "      <td>-999.000</td>\n",
              "      <td>-999.00</td>\n",
              "      <td>-999.000</td>\n",
              "      <td>0.000</td>\n",
              "      <td>1.681611</td>\n",
              "      <td>b</td>\n",
              "    </tr>\n",
              "    <tr>\n",
              "      <th>249999</th>\n",
              "      <td>349999</td>\n",
              "      <td>-999.000</td>\n",
              "      <td>72.756</td>\n",
              "      <td>70.831</td>\n",
              "      <td>7.479</td>\n",
              "      <td>-999.00</td>\n",
              "      <td>-999.000</td>\n",
              "      <td>-999.000</td>\n",
              "      <td>2.025</td>\n",
              "      <td>7.479</td>\n",
              "      <td>...</td>\n",
              "      <td>0</td>\n",
              "      <td>-999.000</td>\n",
              "      <td>-999.000</td>\n",
              "      <td>-999.000</td>\n",
              "      <td>-999.000</td>\n",
              "      <td>-999.00</td>\n",
              "      <td>-999.000</td>\n",
              "      <td>0.000</td>\n",
              "      <td>1.877474</td>\n",
              "      <td>b</td>\n",
              "    </tr>\n",
              "  </tbody>\n",
              "</table>\n",
              "<p>250000 rows × 33 columns</p>\n",
              "</div>\n",
              "      <button class=\"colab-df-convert\" onclick=\"convertToInteractive('df-ba5922d2-4807-407a-a477-f03c38d1c135')\"\n",
              "              title=\"Convert this dataframe to an interactive table.\"\n",
              "              style=\"display:none;\">\n",
              "        \n",
              "  <svg xmlns=\"http://www.w3.org/2000/svg\" height=\"24px\"viewBox=\"0 0 24 24\"\n",
              "       width=\"24px\">\n",
              "    <path d=\"M0 0h24v24H0V0z\" fill=\"none\"/>\n",
              "    <path d=\"M18.56 5.44l.94 2.06.94-2.06 2.06-.94-2.06-.94-.94-2.06-.94 2.06-2.06.94zm-11 1L8.5 8.5l.94-2.06 2.06-.94-2.06-.94L8.5 2.5l-.94 2.06-2.06.94zm10 10l.94 2.06.94-2.06 2.06-.94-2.06-.94-.94-2.06-.94 2.06-2.06.94z\"/><path d=\"M17.41 7.96l-1.37-1.37c-.4-.4-.92-.59-1.43-.59-.52 0-1.04.2-1.43.59L10.3 9.45l-7.72 7.72c-.78.78-.78 2.05 0 2.83L4 21.41c.39.39.9.59 1.41.59.51 0 1.02-.2 1.41-.59l7.78-7.78 2.81-2.81c.8-.78.8-2.07 0-2.86zM5.41 20L4 18.59l7.72-7.72 1.47 1.35L5.41 20z\"/>\n",
              "  </svg>\n",
              "      </button>\n",
              "      \n",
              "  <style>\n",
              "    .colab-df-container {\n",
              "      display:flex;\n",
              "      flex-wrap:wrap;\n",
              "      gap: 12px;\n",
              "    }\n",
              "\n",
              "    .colab-df-convert {\n",
              "      background-color: #E8F0FE;\n",
              "      border: none;\n",
              "      border-radius: 50%;\n",
              "      cursor: pointer;\n",
              "      display: none;\n",
              "      fill: #1967D2;\n",
              "      height: 32px;\n",
              "      padding: 0 0 0 0;\n",
              "      width: 32px;\n",
              "    }\n",
              "\n",
              "    .colab-df-convert:hover {\n",
              "      background-color: #E2EBFA;\n",
              "      box-shadow: 0px 1px 2px rgba(60, 64, 67, 0.3), 0px 1px 3px 1px rgba(60, 64, 67, 0.15);\n",
              "      fill: #174EA6;\n",
              "    }\n",
              "\n",
              "    [theme=dark] .colab-df-convert {\n",
              "      background-color: #3B4455;\n",
              "      fill: #D2E3FC;\n",
              "    }\n",
              "\n",
              "    [theme=dark] .colab-df-convert:hover {\n",
              "      background-color: #434B5C;\n",
              "      box-shadow: 0px 1px 3px 1px rgba(0, 0, 0, 0.15);\n",
              "      filter: drop-shadow(0px 1px 2px rgba(0, 0, 0, 0.3));\n",
              "      fill: #FFFFFF;\n",
              "    }\n",
              "  </style>\n",
              "\n",
              "      <script>\n",
              "        const buttonEl =\n",
              "          document.querySelector('#df-ba5922d2-4807-407a-a477-f03c38d1c135 button.colab-df-convert');\n",
              "        buttonEl.style.display =\n",
              "          google.colab.kernel.accessAllowed ? 'block' : 'none';\n",
              "\n",
              "        async function convertToInteractive(key) {\n",
              "          const element = document.querySelector('#df-ba5922d2-4807-407a-a477-f03c38d1c135');\n",
              "          const dataTable =\n",
              "            await google.colab.kernel.invokeFunction('convertToInteractive',\n",
              "                                                     [key], {});\n",
              "          if (!dataTable) return;\n",
              "\n",
              "          const docLinkHtml = 'Like what you see? Visit the ' +\n",
              "            '<a target=\"_blank\" href=https://colab.research.google.com/notebooks/data_table.ipynb>data table notebook</a>'\n",
              "            + ' to learn more about interactive tables.';\n",
              "          element.innerHTML = '';\n",
              "          dataTable['output_type'] = 'display_data';\n",
              "          await google.colab.output.renderOutput(dataTable, element);\n",
              "          const docLink = document.createElement('div');\n",
              "          docLink.innerHTML = docLinkHtml;\n",
              "          element.appendChild(docLink);\n",
              "        }\n",
              "      </script>\n",
              "    </div>\n",
              "  </div>\n",
              "  "
            ]
          },
          "metadata": {},
          "execution_count": 15
        }
      ]
    },
    {
      "cell_type": "markdown",
      "metadata": {
        "id": "KMuvMJgOnlYo"
      },
      "source": [
        "\n",
        "- Read in the trainind data. Split the provided training data into a training and a test set. \n",
        "The last 2 columns are what you want to predict: \"weight\" and \"label\".\n",
        "Remove them from the input data and create a separate variable label and a separate variable weight, which will be your target variables for, respectively, classification and regression.\n",
        "\n"
      ]
    },
    {
      "cell_type": "code",
      "source": [
        "higgsdata.describe "
      ],
      "metadata": {
        "colab": {
          "base_uri": "https://localhost:8080/"
        },
        "id": "Dac2LRlHZ1my",
        "outputId": "2bd59a4b-c13a-4c78-9af3-19eecc30c3af"
      },
      "execution_count": 16,
      "outputs": [
        {
          "output_type": "execute_result",
          "data": {
            "text/plain": [
              "<bound method NDFrame.describe of         EventId  DER_mass_MMC  DER_mass_transverse_met_lep  DER_mass_vis  \\\n",
              "0        100000       138.470                       51.655        97.827   \n",
              "1        100001       160.937                       68.768       103.235   \n",
              "2        100002      -999.000                      162.172       125.953   \n",
              "3        100003       143.905                       81.417        80.943   \n",
              "4        100004       175.864                       16.915       134.805   \n",
              "...         ...           ...                          ...           ...   \n",
              "249995   349995      -999.000                       71.989        36.548   \n",
              "249996   349996      -999.000                       58.179        68.083   \n",
              "249997   349997       105.457                       60.526        75.839   \n",
              "249998   349998        94.951                       19.362        68.812   \n",
              "249999   349999      -999.000                       72.756        70.831   \n",
              "\n",
              "        DER_pt_h  DER_deltaeta_jet_jet  DER_mass_jet_jet  DER_prodeta_jet_jet  \\\n",
              "0         27.980                  0.91           124.711                2.666   \n",
              "1         48.146               -999.00          -999.000             -999.000   \n",
              "2         35.635               -999.00          -999.000             -999.000   \n",
              "3          0.414               -999.00          -999.000             -999.000   \n",
              "4         16.405               -999.00          -999.000             -999.000   \n",
              "...          ...                   ...               ...                  ...   \n",
              "249995     5.042               -999.00          -999.000             -999.000   \n",
              "249996    22.439               -999.00          -999.000             -999.000   \n",
              "249997    39.757               -999.00          -999.000             -999.000   \n",
              "249998    13.504               -999.00          -999.000             -999.000   \n",
              "249999     7.479               -999.00          -999.000             -999.000   \n",
              "\n",
              "        DER_deltar_tau_lep  DER_pt_tot  ...  PRI_jet_num  PRI_jet_leading_pt  \\\n",
              "0                    3.064      41.928  ...            2              67.435   \n",
              "1                    3.473       2.078  ...            1              46.226   \n",
              "2                    3.148       9.336  ...            1              44.251   \n",
              "3                    3.310       0.414  ...            0            -999.000   \n",
              "4                    3.891      16.405  ...            0            -999.000   \n",
              "...                    ...         ...  ...          ...                 ...   \n",
              "249995               1.392       5.042  ...            0            -999.000   \n",
              "249996               2.585      22.439  ...            0            -999.000   \n",
              "249997               2.390      22.183  ...            1              41.992   \n",
              "249998               3.365      13.504  ...            0            -999.000   \n",
              "249999               2.025       7.479  ...            0            -999.000   \n",
              "\n",
              "        PRI_jet_leading_eta  PRI_jet_leading_phi  PRI_jet_subleading_pt  \\\n",
              "0                     2.150                0.444                 46.062   \n",
              "1                     0.725                1.158               -999.000   \n",
              "2                     2.053               -2.028               -999.000   \n",
              "3                  -999.000             -999.000               -999.000   \n",
              "4                  -999.000             -999.000               -999.000   \n",
              "...                     ...                  ...                    ...   \n",
              "249995             -999.000             -999.000               -999.000   \n",
              "249996             -999.000             -999.000               -999.000   \n",
              "249997                1.800               -0.166               -999.000   \n",
              "249998             -999.000             -999.000               -999.000   \n",
              "249999             -999.000             -999.000               -999.000   \n",
              "\n",
              "        PRI_jet_subleading_eta  PRI_jet_subleading_phi  PRI_jet_all_pt  \\\n",
              "0                         1.24                  -2.475         113.497   \n",
              "1                      -999.00                -999.000          46.226   \n",
              "2                      -999.00                -999.000          44.251   \n",
              "3                      -999.00                -999.000          -0.000   \n",
              "4                      -999.00                -999.000           0.000   \n",
              "...                        ...                     ...             ...   \n",
              "249995                 -999.00                -999.000           0.000   \n",
              "249996                 -999.00                -999.000          -0.000   \n",
              "249997                 -999.00                -999.000          41.992   \n",
              "249998                 -999.00                -999.000           0.000   \n",
              "249999                 -999.00                -999.000           0.000   \n",
              "\n",
              "          Weight  Label  \n",
              "0       0.002653      s  \n",
              "1       2.233584      b  \n",
              "2       2.347389      b  \n",
              "3       5.446378      b  \n",
              "4       6.245333      b  \n",
              "...          ...    ...  \n",
              "249995  4.505083      b  \n",
              "249996  2.497259      b  \n",
              "249997  0.018636      s  \n",
              "249998  1.681611      b  \n",
              "249999  1.877474      b  \n",
              "\n",
              "[250000 rows x 33 columns]>"
            ]
          },
          "metadata": {},
          "execution_count": 16
        }
      ]
    },
    {
      "cell_type": "code",
      "source": [
        "higgsdata.replace(-999, np.nan, inplace=True)"
      ],
      "metadata": {
        "id": "IUjW9g1bIKEo"
      },
      "execution_count": 17,
      "outputs": []
    },
    {
      "cell_type": "code",
      "source": [
        "higgsdata.dropna(axis = 0, inplace=True)"
      ],
      "metadata": {
        "id": "GmyVphmSIK5X"
      },
      "execution_count": 18,
      "outputs": []
    },
    {
      "cell_type": "code",
      "source": [
        "label = higgsdata[\"Label\"]\n",
        "weight = higgsdata[\"Weight\"]\n",
        "higgsdata.drop([\"Weight\", \"Label\"], axis = 1, inplace=True)\n",
        "higgsdata"
      ],
      "metadata": {
        "colab": {
          "base_uri": "https://localhost:8080/",
          "height": 488
        },
        "id": "Zu2bDgJqa12i",
        "outputId": "3f187959-f210-4071-b73d-69e80fbe3209"
      },
      "execution_count": 19,
      "outputs": [
        {
          "output_type": "execute_result",
          "data": {
            "text/plain": [
              "        EventId  DER_mass_MMC  DER_mass_transverse_met_lep  DER_mass_vis  \\\n",
              "0        100000       138.470                       51.655        97.827   \n",
              "5        100005        89.744                       13.550        59.149   \n",
              "6        100006       148.754                       28.862       107.782   \n",
              "11       100011       114.744                       10.286        75.712   \n",
              "23       100023       141.481                        0.736       111.581   \n",
              "...         ...           ...                          ...           ...   \n",
              "249976   349976       137.371                        4.640        92.603   \n",
              "249980   349980       119.934                       20.078        88.751   \n",
              "249985   349985       126.151                       29.023        95.258   \n",
              "249993   349993       130.075                        3.918        66.781   \n",
              "249994   349994       217.020                       47.156        62.824   \n",
              "\n",
              "        DER_pt_h  DER_deltaeta_jet_jet  DER_mass_jet_jet  DER_prodeta_jet_jet  \\\n",
              "0         27.980                 0.910           124.711                2.666   \n",
              "5        116.344                 2.636           284.584               -0.540   \n",
              "6        106.130                 0.733           158.359                0.113   \n",
              "11        30.816                 2.563           252.599               -1.401   \n",
              "23       174.075                 1.955           364.344               -0.923   \n",
              "...          ...                   ...               ...                  ...   \n",
              "249976   107.121                 3.189           322.430               -2.384   \n",
              "249980    35.227                 0.660           111.491                1.836   \n",
              "249985   152.684                 1.000           163.066               -0.240   \n",
              "249993    77.369                 0.936           322.296               -0.207   \n",
              "249994   127.953                 0.295           119.437               -0.014   \n",
              "\n",
              "        DER_deltar_tau_lep  DER_pt_tot  ...  PRI_met_phi  PRI_met_sumet  \\\n",
              "0                    3.064      41.928  ...       -0.277        258.733   \n",
              "5                    1.362      61.619  ...        2.237        282.849   \n",
              "6                    2.941       2.545  ...       -1.443        294.074   \n",
              "11                   2.888      36.745  ...        2.148        290.547   \n",
              "23                   1.335       6.663  ...       -0.973        454.785   \n",
              "...                    ...         ...  ...          ...            ...   \n",
              "249976               2.149       2.755  ...        1.408        228.186   \n",
              "249980               2.800      18.532  ...        1.116        237.326   \n",
              "249985               1.504      24.642  ...       -2.575        402.114   \n",
              "249993               3.102      49.937  ...       -1.768        694.010   \n",
              "249994               2.318       3.628  ...        0.220        271.082   \n",
              "\n",
              "        PRI_jet_num  PRI_jet_leading_pt  PRI_jet_leading_eta  \\\n",
              "0                 2              67.435                2.150   \n",
              "5                 3              90.547               -2.412   \n",
              "6                 2             123.010                0.864   \n",
              "11                3              76.773               -0.790   \n",
              "23                2             195.533                1.156   \n",
              "...             ...                 ...                  ...   \n",
              "249976            2              85.132                1.991   \n",
              "249980            2              69.219               -1.064   \n",
              "249985            2             158.904                0.401   \n",
              "249993            3             155.864               -0.358   \n",
              "249994            2             141.752                0.237   \n",
              "\n",
              "        PRI_jet_leading_phi  PRI_jet_subleading_pt  PRI_jet_subleading_eta  \\\n",
              "0                     0.444                 46.062                   1.240   \n",
              "5                    -0.653                 56.165                   0.224   \n",
              "6                     1.450                 56.867                   0.131   \n",
              "11                    0.303                 56.876                   1.773   \n",
              "23                    1.416                 82.477                  -0.798   \n",
              "...                     ...                    ...                     ...   \n",
              "249976               -1.518                 51.068                  -1.197   \n",
              "249980                1.118                 43.719                  -1.725   \n",
              "249985                0.034                 34.196                  -0.599   \n",
              "249993                1.093                134.344                   0.578   \n",
              "249994                3.126                 32.423                  -0.058   \n",
              "\n",
              "        PRI_jet_subleading_phi  PRI_jet_all_pt  \n",
              "0                       -2.475         113.497  \n",
              "5                        3.106         193.660  \n",
              "6                       -2.767         179.877  \n",
              "11                      -2.079         165.640  \n",
              "23                      -2.785         278.009  \n",
              "...                        ...             ...  \n",
              "249976                  -2.831         136.200  \n",
              "249980                  -2.756         112.938  \n",
              "249985                  -2.525         193.099  \n",
              "249993                  -2.215         546.066  \n",
              "249994                  -1.137         174.176  \n",
              "\n",
              "[68114 rows x 31 columns]"
            ],
            "text/html": [
              "\n",
              "  <div id=\"df-a76485b5-bad6-4f74-859b-2c57beb6f3a7\">\n",
              "    <div class=\"colab-df-container\">\n",
              "      <div>\n",
              "<style scoped>\n",
              "    .dataframe tbody tr th:only-of-type {\n",
              "        vertical-align: middle;\n",
              "    }\n",
              "\n",
              "    .dataframe tbody tr th {\n",
              "        vertical-align: top;\n",
              "    }\n",
              "\n",
              "    .dataframe thead th {\n",
              "        text-align: right;\n",
              "    }\n",
              "</style>\n",
              "<table border=\"1\" class=\"dataframe\">\n",
              "  <thead>\n",
              "    <tr style=\"text-align: right;\">\n",
              "      <th></th>\n",
              "      <th>EventId</th>\n",
              "      <th>DER_mass_MMC</th>\n",
              "      <th>DER_mass_transverse_met_lep</th>\n",
              "      <th>DER_mass_vis</th>\n",
              "      <th>DER_pt_h</th>\n",
              "      <th>DER_deltaeta_jet_jet</th>\n",
              "      <th>DER_mass_jet_jet</th>\n",
              "      <th>DER_prodeta_jet_jet</th>\n",
              "      <th>DER_deltar_tau_lep</th>\n",
              "      <th>DER_pt_tot</th>\n",
              "      <th>...</th>\n",
              "      <th>PRI_met_phi</th>\n",
              "      <th>PRI_met_sumet</th>\n",
              "      <th>PRI_jet_num</th>\n",
              "      <th>PRI_jet_leading_pt</th>\n",
              "      <th>PRI_jet_leading_eta</th>\n",
              "      <th>PRI_jet_leading_phi</th>\n",
              "      <th>PRI_jet_subleading_pt</th>\n",
              "      <th>PRI_jet_subleading_eta</th>\n",
              "      <th>PRI_jet_subleading_phi</th>\n",
              "      <th>PRI_jet_all_pt</th>\n",
              "    </tr>\n",
              "  </thead>\n",
              "  <tbody>\n",
              "    <tr>\n",
              "      <th>0</th>\n",
              "      <td>100000</td>\n",
              "      <td>138.470</td>\n",
              "      <td>51.655</td>\n",
              "      <td>97.827</td>\n",
              "      <td>27.980</td>\n",
              "      <td>0.910</td>\n",
              "      <td>124.711</td>\n",
              "      <td>2.666</td>\n",
              "      <td>3.064</td>\n",
              "      <td>41.928</td>\n",
              "      <td>...</td>\n",
              "      <td>-0.277</td>\n",
              "      <td>258.733</td>\n",
              "      <td>2</td>\n",
              "      <td>67.435</td>\n",
              "      <td>2.150</td>\n",
              "      <td>0.444</td>\n",
              "      <td>46.062</td>\n",
              "      <td>1.240</td>\n",
              "      <td>-2.475</td>\n",
              "      <td>113.497</td>\n",
              "    </tr>\n",
              "    <tr>\n",
              "      <th>5</th>\n",
              "      <td>100005</td>\n",
              "      <td>89.744</td>\n",
              "      <td>13.550</td>\n",
              "      <td>59.149</td>\n",
              "      <td>116.344</td>\n",
              "      <td>2.636</td>\n",
              "      <td>284.584</td>\n",
              "      <td>-0.540</td>\n",
              "      <td>1.362</td>\n",
              "      <td>61.619</td>\n",
              "      <td>...</td>\n",
              "      <td>2.237</td>\n",
              "      <td>282.849</td>\n",
              "      <td>3</td>\n",
              "      <td>90.547</td>\n",
              "      <td>-2.412</td>\n",
              "      <td>-0.653</td>\n",
              "      <td>56.165</td>\n",
              "      <td>0.224</td>\n",
              "      <td>3.106</td>\n",
              "      <td>193.660</td>\n",
              "    </tr>\n",
              "    <tr>\n",
              "      <th>6</th>\n",
              "      <td>100006</td>\n",
              "      <td>148.754</td>\n",
              "      <td>28.862</td>\n",
              "      <td>107.782</td>\n",
              "      <td>106.130</td>\n",
              "      <td>0.733</td>\n",
              "      <td>158.359</td>\n",
              "      <td>0.113</td>\n",
              "      <td>2.941</td>\n",
              "      <td>2.545</td>\n",
              "      <td>...</td>\n",
              "      <td>-1.443</td>\n",
              "      <td>294.074</td>\n",
              "      <td>2</td>\n",
              "      <td>123.010</td>\n",
              "      <td>0.864</td>\n",
              "      <td>1.450</td>\n",
              "      <td>56.867</td>\n",
              "      <td>0.131</td>\n",
              "      <td>-2.767</td>\n",
              "      <td>179.877</td>\n",
              "    </tr>\n",
              "    <tr>\n",
              "      <th>11</th>\n",
              "      <td>100011</td>\n",
              "      <td>114.744</td>\n",
              "      <td>10.286</td>\n",
              "      <td>75.712</td>\n",
              "      <td>30.816</td>\n",
              "      <td>2.563</td>\n",
              "      <td>252.599</td>\n",
              "      <td>-1.401</td>\n",
              "      <td>2.888</td>\n",
              "      <td>36.745</td>\n",
              "      <td>...</td>\n",
              "      <td>2.148</td>\n",
              "      <td>290.547</td>\n",
              "      <td>3</td>\n",
              "      <td>76.773</td>\n",
              "      <td>-0.790</td>\n",
              "      <td>0.303</td>\n",
              "      <td>56.876</td>\n",
              "      <td>1.773</td>\n",
              "      <td>-2.079</td>\n",
              "      <td>165.640</td>\n",
              "    </tr>\n",
              "    <tr>\n",
              "      <th>23</th>\n",
              "      <td>100023</td>\n",
              "      <td>141.481</td>\n",
              "      <td>0.736</td>\n",
              "      <td>111.581</td>\n",
              "      <td>174.075</td>\n",
              "      <td>1.955</td>\n",
              "      <td>364.344</td>\n",
              "      <td>-0.923</td>\n",
              "      <td>1.335</td>\n",
              "      <td>6.663</td>\n",
              "      <td>...</td>\n",
              "      <td>-0.973</td>\n",
              "      <td>454.785</td>\n",
              "      <td>2</td>\n",
              "      <td>195.533</td>\n",
              "      <td>1.156</td>\n",
              "      <td>1.416</td>\n",
              "      <td>82.477</td>\n",
              "      <td>-0.798</td>\n",
              "      <td>-2.785</td>\n",
              "      <td>278.009</td>\n",
              "    </tr>\n",
              "    <tr>\n",
              "      <th>...</th>\n",
              "      <td>...</td>\n",
              "      <td>...</td>\n",
              "      <td>...</td>\n",
              "      <td>...</td>\n",
              "      <td>...</td>\n",
              "      <td>...</td>\n",
              "      <td>...</td>\n",
              "      <td>...</td>\n",
              "      <td>...</td>\n",
              "      <td>...</td>\n",
              "      <td>...</td>\n",
              "      <td>...</td>\n",
              "      <td>...</td>\n",
              "      <td>...</td>\n",
              "      <td>...</td>\n",
              "      <td>...</td>\n",
              "      <td>...</td>\n",
              "      <td>...</td>\n",
              "      <td>...</td>\n",
              "      <td>...</td>\n",
              "      <td>...</td>\n",
              "    </tr>\n",
              "    <tr>\n",
              "      <th>249976</th>\n",
              "      <td>349976</td>\n",
              "      <td>137.371</td>\n",
              "      <td>4.640</td>\n",
              "      <td>92.603</td>\n",
              "      <td>107.121</td>\n",
              "      <td>3.189</td>\n",
              "      <td>322.430</td>\n",
              "      <td>-2.384</td>\n",
              "      <td>2.149</td>\n",
              "      <td>2.755</td>\n",
              "      <td>...</td>\n",
              "      <td>1.408</td>\n",
              "      <td>228.186</td>\n",
              "      <td>2</td>\n",
              "      <td>85.132</td>\n",
              "      <td>1.991</td>\n",
              "      <td>-1.518</td>\n",
              "      <td>51.068</td>\n",
              "      <td>-1.197</td>\n",
              "      <td>-2.831</td>\n",
              "      <td>136.200</td>\n",
              "    </tr>\n",
              "    <tr>\n",
              "      <th>249980</th>\n",
              "      <td>349980</td>\n",
              "      <td>119.934</td>\n",
              "      <td>20.078</td>\n",
              "      <td>88.751</td>\n",
              "      <td>35.227</td>\n",
              "      <td>0.660</td>\n",
              "      <td>111.491</td>\n",
              "      <td>1.836</td>\n",
              "      <td>2.800</td>\n",
              "      <td>18.532</td>\n",
              "      <td>...</td>\n",
              "      <td>1.116</td>\n",
              "      <td>237.326</td>\n",
              "      <td>2</td>\n",
              "      <td>69.219</td>\n",
              "      <td>-1.064</td>\n",
              "      <td>1.118</td>\n",
              "      <td>43.719</td>\n",
              "      <td>-1.725</td>\n",
              "      <td>-2.756</td>\n",
              "      <td>112.938</td>\n",
              "    </tr>\n",
              "    <tr>\n",
              "      <th>249985</th>\n",
              "      <td>349985</td>\n",
              "      <td>126.151</td>\n",
              "      <td>29.023</td>\n",
              "      <td>95.258</td>\n",
              "      <td>152.684</td>\n",
              "      <td>1.000</td>\n",
              "      <td>163.066</td>\n",
              "      <td>-0.240</td>\n",
              "      <td>1.504</td>\n",
              "      <td>24.642</td>\n",
              "      <td>...</td>\n",
              "      <td>-2.575</td>\n",
              "      <td>402.114</td>\n",
              "      <td>2</td>\n",
              "      <td>158.904</td>\n",
              "      <td>0.401</td>\n",
              "      <td>0.034</td>\n",
              "      <td>34.196</td>\n",
              "      <td>-0.599</td>\n",
              "      <td>-2.525</td>\n",
              "      <td>193.099</td>\n",
              "    </tr>\n",
              "    <tr>\n",
              "      <th>249993</th>\n",
              "      <td>349993</td>\n",
              "      <td>130.075</td>\n",
              "      <td>3.918</td>\n",
              "      <td>66.781</td>\n",
              "      <td>77.369</td>\n",
              "      <td>0.936</td>\n",
              "      <td>322.296</td>\n",
              "      <td>-0.207</td>\n",
              "      <td>3.102</td>\n",
              "      <td>49.937</td>\n",
              "      <td>...</td>\n",
              "      <td>-1.768</td>\n",
              "      <td>694.010</td>\n",
              "      <td>3</td>\n",
              "      <td>155.864</td>\n",
              "      <td>-0.358</td>\n",
              "      <td>1.093</td>\n",
              "      <td>134.344</td>\n",
              "      <td>0.578</td>\n",
              "      <td>-2.215</td>\n",
              "      <td>546.066</td>\n",
              "    </tr>\n",
              "    <tr>\n",
              "      <th>249994</th>\n",
              "      <td>349994</td>\n",
              "      <td>217.020</td>\n",
              "      <td>47.156</td>\n",
              "      <td>62.824</td>\n",
              "      <td>127.953</td>\n",
              "      <td>0.295</td>\n",
              "      <td>119.437</td>\n",
              "      <td>-0.014</td>\n",
              "      <td>2.318</td>\n",
              "      <td>3.628</td>\n",
              "      <td>...</td>\n",
              "      <td>0.220</td>\n",
              "      <td>271.082</td>\n",
              "      <td>2</td>\n",
              "      <td>141.752</td>\n",
              "      <td>0.237</td>\n",
              "      <td>3.126</td>\n",
              "      <td>32.423</td>\n",
              "      <td>-0.058</td>\n",
              "      <td>-1.137</td>\n",
              "      <td>174.176</td>\n",
              "    </tr>\n",
              "  </tbody>\n",
              "</table>\n",
              "<p>68114 rows × 31 columns</p>\n",
              "</div>\n",
              "      <button class=\"colab-df-convert\" onclick=\"convertToInteractive('df-a76485b5-bad6-4f74-859b-2c57beb6f3a7')\"\n",
              "              title=\"Convert this dataframe to an interactive table.\"\n",
              "              style=\"display:none;\">\n",
              "        \n",
              "  <svg xmlns=\"http://www.w3.org/2000/svg\" height=\"24px\"viewBox=\"0 0 24 24\"\n",
              "       width=\"24px\">\n",
              "    <path d=\"M0 0h24v24H0V0z\" fill=\"none\"/>\n",
              "    <path d=\"M18.56 5.44l.94 2.06.94-2.06 2.06-.94-2.06-.94-.94-2.06-.94 2.06-2.06.94zm-11 1L8.5 8.5l.94-2.06 2.06-.94-2.06-.94L8.5 2.5l-.94 2.06-2.06.94zm10 10l.94 2.06.94-2.06 2.06-.94-2.06-.94-.94-2.06-.94 2.06-2.06.94z\"/><path d=\"M17.41 7.96l-1.37-1.37c-.4-.4-.92-.59-1.43-.59-.52 0-1.04.2-1.43.59L10.3 9.45l-7.72 7.72c-.78.78-.78 2.05 0 2.83L4 21.41c.39.39.9.59 1.41.59.51 0 1.02-.2 1.41-.59l7.78-7.78 2.81-2.81c.8-.78.8-2.07 0-2.86zM5.41 20L4 18.59l7.72-7.72 1.47 1.35L5.41 20z\"/>\n",
              "  </svg>\n",
              "      </button>\n",
              "      \n",
              "  <style>\n",
              "    .colab-df-container {\n",
              "      display:flex;\n",
              "      flex-wrap:wrap;\n",
              "      gap: 12px;\n",
              "    }\n",
              "\n",
              "    .colab-df-convert {\n",
              "      background-color: #E8F0FE;\n",
              "      border: none;\n",
              "      border-radius: 50%;\n",
              "      cursor: pointer;\n",
              "      display: none;\n",
              "      fill: #1967D2;\n",
              "      height: 32px;\n",
              "      padding: 0 0 0 0;\n",
              "      width: 32px;\n",
              "    }\n",
              "\n",
              "    .colab-df-convert:hover {\n",
              "      background-color: #E2EBFA;\n",
              "      box-shadow: 0px 1px 2px rgba(60, 64, 67, 0.3), 0px 1px 3px 1px rgba(60, 64, 67, 0.15);\n",
              "      fill: #174EA6;\n",
              "    }\n",
              "\n",
              "    [theme=dark] .colab-df-convert {\n",
              "      background-color: #3B4455;\n",
              "      fill: #D2E3FC;\n",
              "    }\n",
              "\n",
              "    [theme=dark] .colab-df-convert:hover {\n",
              "      background-color: #434B5C;\n",
              "      box-shadow: 0px 1px 3px 1px rgba(0, 0, 0, 0.15);\n",
              "      filter: drop-shadow(0px 1px 2px rgba(0, 0, 0, 0.3));\n",
              "      fill: #FFFFFF;\n",
              "    }\n",
              "  </style>\n",
              "\n",
              "      <script>\n",
              "        const buttonEl =\n",
              "          document.querySelector('#df-a76485b5-bad6-4f74-859b-2c57beb6f3a7 button.colab-df-convert');\n",
              "        buttonEl.style.display =\n",
              "          google.colab.kernel.accessAllowed ? 'block' : 'none';\n",
              "\n",
              "        async function convertToInteractive(key) {\n",
              "          const element = document.querySelector('#df-a76485b5-bad6-4f74-859b-2c57beb6f3a7');\n",
              "          const dataTable =\n",
              "            await google.colab.kernel.invokeFunction('convertToInteractive',\n",
              "                                                     [key], {});\n",
              "          if (!dataTable) return;\n",
              "\n",
              "          const docLinkHtml = 'Like what you see? Visit the ' +\n",
              "            '<a target=\"_blank\" href=https://colab.research.google.com/notebooks/data_table.ipynb>data table notebook</a>'\n",
              "            + ' to learn more about interactive tables.';\n",
              "          element.innerHTML = '';\n",
              "          dataTable['output_type'] = 'display_data';\n",
              "          await google.colab.output.renderOutput(dataTable, element);\n",
              "          const docLink = document.createElement('div');\n",
              "          docLink.innerHTML = docLinkHtml;\n",
              "          element.appendChild(docLink);\n",
              "        }\n",
              "      </script>\n",
              "    </div>\n",
              "  </div>\n",
              "  "
            ]
          },
          "metadata": {},
          "execution_count": 19
        }
      ]
    },
    {
      "cell_type": "code",
      "source": [
        "for c in higgsdata.columns[1:]:\n",
        "  ax = pl.figure(figsize = (5,5)).add_subplot(111)\n",
        "  pl.hist((higgsdata)[:][c])"
      ],
      "metadata": {
        "id": "nVOu6OkKiLe-",
        "outputId": "c406dbe3-beb6-4095-da90-95ad41b67b13",
        "colab": {
          "base_uri": "https://localhost:8080/",
          "height": 1000
        }
      },
      "execution_count": 20,
      "outputs": [
        {
          "output_type": "stream",
          "name": "stderr",
          "text": [
            "<ipython-input-20-47a4d176a52c>:2: RuntimeWarning: More than 20 figures have been opened. Figures created through the pyplot interface (`matplotlib.pyplot.figure`) are retained until explicitly closed and may consume too much memory. (To control this warning, see the rcParam `figure.max_open_warning`). Consider using `matplotlib.pyplot.close()`.\n",
            "  ax = pl.figure(figsize = (5,5)).add_subplot(111)\n"
          ]
        },
        {
          "output_type": "display_data",
          "data": {
            "text/plain": [
              "<Figure size 500x500 with 1 Axes>"
            ],
            "image/png": "[encoded data removed]"
          },
          "metadata": {}
        },
        {
          "output_type": "display_data",
          "data": {
            "text/plain": [
              "<Figure size 500x500 with 1 Axes>"
            ],
            "image/png": "[encoded data removed]"
          },
          "metadata": {}
        },
        {
          "output_type": "display_data",
          "data": {
            "text/plain": [
              "<Figure size 500x500 with 1 Axes>"
            ],
            "image/png": "[encoded data removed]"
          },
          "metadata": {}
        },
        {
          "output_type": "display_data",
          "data": {
            "text/plain": [
              "<Figure size 500x500 with 1 Axes>"
            ],
            "image/png": "[encoded data removed]"
          },
          "metadata": {}
        },
        {
          "output_type": "display_data",
          "data": {
            "text/plain": [
              "<Figure size 500x500 with 1 Axes>"
            ],
            "image/png": "[encoded data removed]"
          },
          "metadata": {}
        },
        {
          "output_type": "display_data",
          "data": {
            "text/plain": [
              "<Figure size 500x500 with 1 Axes>"
            ],
            "image/png": "[encoded data removed]"
          },
          "metadata": {}
        },
        {
          "output_type": "display_data",
          "data": {
            "text/plain": [
              "<Figure size 500x500 with 1 Axes>"
            ],
            "image/png": "[encoded data removed]"
          },
          "metadata": {}
        },
        {
          "output_type": "display_data",
          "data": {
            "text/plain": [
              "<Figure size 500x500 with 1 Axes>"
            ],
            "image/png": "[encoded data removed]"
          },
          "metadata": {}
        },
        {
          "output_type": "display_data",
          "data": {
            "text/plain": [
              "<Figure size 500x500 with 1 Axes>"
            ],
            "image/png": "[encoded data removed]"
          },
          "metadata": {}
        },
        {
          "output_type": "display_data",
          "data": {
            "text/plain": [
              "<Figure size 500x500 with 1 Axes>"
            ],
            "image/png": "[encoded data removed]"
          },
          "metadata": {}
        },
        {
          "output_type": "display_data",
          "data": {
            "text/plain": [
              "<Figure size 500x500 with 1 Axes>"
            ],
            "image/png": "[encoded data removed]"
          },
          "metadata": {}
        },
        {
          "output_type": "display_data",
          "data": {
            "text/plain": [
              "<Figure size 500x500 with 1 Axes>"
            ],
            "image/png": "[encoded data removed]"
          },
          "metadata": {}
        },
        {
          "output_type": "display_data",
          "data": {
            "text/plain": [
              "<Figure size 500x500 with 1 Axes>"
            ],
            "image/png": "[encoded data removed]"
          },
          "metadata": {}
        },
        {
          "output_type": "display_data",
          "data": {
            "text/plain": [
              "<Figure size 500x500 with 1 Axes>"
            ],
            "image/png": "[encoded data removed]"
          },
          "metadata": {}
        },
        {
          "output_type": "display_data",
          "data": {
            "text/plain": [
              "<Figure size 500x500 with 1 Axes>"
            ],
            "image/png": "[encoded data removed]"
          },
          "metadata": {}
        },
        {
          "output_type": "display_data",
          "data": {
            "text/plain": [
              "<Figure size 500x500 with 1 Axes>"
            ],
            "image/png": "[encoded data removed]"
          },
          "metadata": {}
        },
        {
          "output_type": "display_data",
          "data": {
            "text/plain": [
              "<Figure size 500x500 with 1 Axes>"
            ],
            "image/png": "[encoded data removed]"
          },
          "metadata": {}
        },
        {
          "output_type": "display_data",
          "data": {
            "text/plain": [
              "<Figure size 500x500 with 1 Axes>"
            ],
            "image/png": "[encoded data removed]"
          },
          "metadata": {}
        },
        {
          "output_type": "display_data",
          "data": {
            "text/plain": [
              "<Figure size 500x500 with 1 Axes>"
            ],
            "image/png": "[encoded data removed]"
          },
          "metadata": {}
        },
        {
          "output_type": "display_data",
          "data": {
            "text/plain": [
              "<Figure size 500x500 with 1 Axes>"
            ],
            "image/png": "[encoded data removed]"
          },
          "metadata": {}
        },
        {
          "output_type": "display_data",
          "data": {
            "text/plain": [
              "<Figure size 500x500 with 1 Axes>"
            ],
            "image/png": "[encoded data removed]"
          },
          "metadata": {}
        },
        {
          "output_type": "display_data",
          "data": {
            "text/plain": [
              "<Figure size 500x500 with 1 Axes>"
            ],
            "image/png": "[encoded data removed]"
          },
          "metadata": {}
        },
        {
          "output_type": "display_data",
          "data": {
            "text/plain": [
              "<Figure size 500x500 with 1 Axes>"
            ],
            "image/png": "[encoded data removed]"
          },
          "metadata": {}
        },
        {
          "output_type": "display_data",
          "data": {
            "text/plain": [
              "<Figure size 500x500 with 1 Axes>"
            ],
            "image/png": "[encoded data removed]"
          },
          "metadata": {}
        },
        {
          "output_type": "display_data",
          "data": {
            "text/plain": [
              "<Figure size 500x500 with 1 Axes>"
            ],
            "image/png": "[encoded data removed]"
          },
          "metadata": {}
        },
        {
          "output_type": "display_data",
          "data": {
            "text/plain": [
              "<Figure size 500x500 with 1 Axes>"
            ],
            "image/png": "[encoded data removed]"
          },
          "metadata": {}
        },
        {
          "output_type": "display_data",
          "data": {
            "text/plain": [
              "<Figure size 500x500 with 1 Axes>"
            ],
            "image/png": "[encoded data removed]"
          },
          "metadata": {}
        },
        {
          "output_type": "display_data",
          "data": {
            "text/plain": [
              "<Figure size 500x500 with 1 Axes>"
            ],
            "image/png": "[encoded data removed]"
          },
          "metadata": {}
        },
        {
          "output_type": "display_data",
          "data": {
            "text/plain": [
              "<Figure size 500x500 with 1 Axes>"
            ],
            "image/png": "[encoded data removed]"
          },
          "metadata": {}
        },
        {
          "output_type": "display_data",
          "data": {
            "text/plain": [
              "<Figure size 500x500 with 1 Axes>"
            ],
            "image/png": "[encoded data removed]"
          },
          "metadata": {}
        }
      ]
    },
    {
      "cell_type": "code",
      "source": [
        "(higgsdata == -999).sum()"
      ],
      "metadata": {
        "id": "jwKfN2tpjDPQ",
        "outputId": "eaf00220-710d-4d7e-bb0b-612948ca857b",
        "colab": {
          "base_uri": "https://localhost:8080/"
        }
      },
      "execution_count": 21,
      "outputs": [
        {
          "output_type": "execute_result",
          "data": {
            "text/plain": [
              "EventId                        0\n",
              "DER_mass_MMC                   0\n",
              "DER_mass_transverse_met_lep    0\n",
              "DER_mass_vis                   0\n",
              "DER_pt_h                       0\n",
              "DER_deltaeta_jet_jet           0\n",
              "DER_mass_jet_jet               0\n",
              "DER_prodeta_jet_jet            0\n",
              "DER_deltar_tau_lep             0\n",
              "DER_pt_tot                     0\n",
              "DER_sum_pt                     0\n",
              "DER_pt_ratio_lep_tau           0\n",
              "DER_met_phi_centrality         0\n",
              "DER_lep_eta_centrality         0\n",
              "PRI_tau_pt                     0\n",
              "PRI_tau_eta                    0\n",
              "PRI_tau_phi                    0\n",
              "PRI_lep_pt                     0\n",
              "PRI_lep_eta                    0\n",
              "PRI_lep_phi                    0\n",
              "PRI_met                        0\n",
              "PRI_met_phi                    0\n",
              "PRI_met_sumet                  0\n",
              "PRI_jet_num                    0\n",
              "PRI_jet_leading_pt             0\n",
              "PRI_jet_leading_eta            0\n",
              "PRI_jet_leading_phi            0\n",
              "PRI_jet_subleading_pt          0\n",
              "PRI_jet_subleading_eta         0\n",
              "PRI_jet_subleading_phi         0\n",
              "PRI_jet_all_pt                 0\n",
              "dtype: int64"
            ]
          },
          "metadata": {},
          "execution_count": 21
        }
      ]
    },
    {
      "cell_type": "code",
      "metadata": {
        "id": "QncFXxr7xogC",
        "colab": {
          "base_uri": "https://localhost:8080/",
          "height": 300
        },
        "outputId": "035b5dd7-c707-468f-ac5b-1624eb3c6c7c"
      },
      "source": [
        "higgsdata.head()"
      ],
      "execution_count": 22,
      "outputs": [
        {
          "output_type": "execute_result",
          "data": {
            "text/plain": [
              "    EventId  DER_mass_MMC  DER_mass_transverse_met_lep  DER_mass_vis  \\\n",
              "0    100000       138.470                       51.655        97.827   \n",
              "5    100005        89.744                       13.550        59.149   \n",
              "6    100006       148.754                       28.862       107.782   \n",
              "11   100011       114.744                       10.286        75.712   \n",
              "23   100023       141.481                        0.736       111.581   \n",
              "\n",
              "    DER_pt_h  DER_deltaeta_jet_jet  DER_mass_jet_jet  DER_prodeta_jet_jet  \\\n",
              "0     27.980                 0.910           124.711                2.666   \n",
              "5    116.344                 2.636           284.584               -0.540   \n",
              "6    106.130                 0.733           158.359                0.113   \n",
              "11    30.816                 2.563           252.599               -1.401   \n",
              "23   174.075                 1.955           364.344               -0.923   \n",
              "\n",
              "    DER_deltar_tau_lep  DER_pt_tot  ...  PRI_met_phi  PRI_met_sumet  \\\n",
              "0                3.064      41.928  ...       -0.277        258.733   \n",
              "5                1.362      61.619  ...        2.237        282.849   \n",
              "6                2.941       2.545  ...       -1.443        294.074   \n",
              "11               2.888      36.745  ...        2.148        290.547   \n",
              "23               1.335       6.663  ...       -0.973        454.785   \n",
              "\n",
              "    PRI_jet_num  PRI_jet_leading_pt  PRI_jet_leading_eta  PRI_jet_leading_phi  \\\n",
              "0             2              67.435                2.150                0.444   \n",
              "5             3              90.547               -2.412               -0.653   \n",
              "6             2             123.010                0.864                1.450   \n",
              "11            3              76.773               -0.790                0.303   \n",
              "23            2             195.533                1.156                1.416   \n",
              "\n",
              "    PRI_jet_subleading_pt  PRI_jet_subleading_eta  PRI_jet_subleading_phi  \\\n",
              "0                  46.062                   1.240                  -2.475   \n",
              "5                  56.165                   0.224                   3.106   \n",
              "6                  56.867                   0.131                  -2.767   \n",
              "11                 56.876                   1.773                  -2.079   \n",
              "23                 82.477                  -0.798                  -2.785   \n",
              "\n",
              "    PRI_jet_all_pt  \n",
              "0          113.497  \n",
              "5          193.660  \n",
              "6          179.877  \n",
              "11         165.640  \n",
              "23         278.009  \n",
              "\n",
              "[5 rows x 31 columns]"
            ],
            "text/html": [
              "\n",
              "  <div id=\"df-dca0917b-657b-44f5-a2ec-a3fc57ee4dcd\">\n",
              "    <div class=\"colab-df-container\">\n",
              "      <div>\n",
              "<style scoped>\n",
              "    .dataframe tbody tr th:only-of-type {\n",
              "        vertical-align: middle;\n",
              "    }\n",
              "\n",
              "    .dataframe tbody tr th {\n",
              "        vertical-align: top;\n",
              "    }\n",
              "\n",
              "    .dataframe thead th {\n",
              "        text-align: right;\n",
              "    }\n",
              "</style>\n",
              "<table border=\"1\" class=\"dataframe\">\n",
              "  <thead>\n",
              "    <tr style=\"text-align: right;\">\n",
              "      <th></th>\n",
              "      <th>EventId</th>\n",
              "      <th>DER_mass_MMC</th>\n",
              "      <th>DER_mass_transverse_met_lep</th>\n",
              "      <th>DER_mass_vis</th>\n",
              "      <th>DER_pt_h</th>\n",
              "      <th>DER_deltaeta_jet_jet</th>\n",
              "      <th>DER_mass_jet_jet</th>\n",
              "      <th>DER_prodeta_jet_jet</th>\n",
              "      <th>DER_deltar_tau_lep</th>\n",
              "      <th>DER_pt_tot</th>\n",
              "      <th>...</th>\n",
              "      <th>PRI_met_phi</th>\n",
              "      <th>PRI_met_sumet</th>\n",
              "      <th>PRI_jet_num</th>\n",
              "      <th>PRI_jet_leading_pt</th>\n",
              "      <th>PRI_jet_leading_eta</th>\n",
              "      <th>PRI_jet_leading_phi</th>\n",
              "      <th>PRI_jet_subleading_pt</th>\n",
              "      <th>PRI_jet_subleading_eta</th>\n",
              "      <th>PRI_jet_subleading_phi</th>\n",
              "      <th>PRI_jet_all_pt</th>\n",
              "    </tr>\n",
              "  </thead>\n",
              "  <tbody>\n",
              "    <tr>\n",
              "      <th>0</th>\n",
              "      <td>100000</td>\n",
              "      <td>138.470</td>\n",
              "      <td>51.655</td>\n",
              "      <td>97.827</td>\n",
              "      <td>27.980</td>\n",
              "      <td>0.910</td>\n",
              "      <td>124.711</td>\n",
              "      <td>2.666</td>\n",
              "      <td>3.064</td>\n",
              "      <td>41.928</td>\n",
              "      <td>...</td>\n",
              "      <td>-0.277</td>\n",
              "      <td>258.733</td>\n",
              "      <td>2</td>\n",
              "      <td>67.435</td>\n",
              "      <td>2.150</td>\n",
              "      <td>0.444</td>\n",
              "      <td>46.062</td>\n",
              "      <td>1.240</td>\n",
              "      <td>-2.475</td>\n",
              "      <td>113.497</td>\n",
              "    </tr>\n",
              "    <tr>\n",
              "      <th>5</th>\n",
              "      <td>100005</td>\n",
              "      <td>89.744</td>\n",
              "      <td>13.550</td>\n",
              "      <td>59.149</td>\n",
              "      <td>116.344</td>\n",
              "      <td>2.636</td>\n",
              "      <td>284.584</td>\n",
              "      <td>-0.540</td>\n",
              "      <td>1.362</td>\n",
              "      <td>61.619</td>\n",
              "      <td>...</td>\n",
              "      <td>2.237</td>\n",
              "      <td>282.849</td>\n",
              "      <td>3</td>\n",
              "      <td>90.547</td>\n",
              "      <td>-2.412</td>\n",
              "      <td>-0.653</td>\n",
              "      <td>56.165</td>\n",
              "      <td>0.224</td>\n",
              "      <td>3.106</td>\n",
              "      <td>193.660</td>\n",
              "    </tr>\n",
              "    <tr>\n",
              "      <th>6</th>\n",
              "      <td>100006</td>\n",
              "      <td>148.754</td>\n",
              "      <td>28.862</td>\n",
              "      <td>107.782</td>\n",
              "      <td>106.130</td>\n",
              "      <td>0.733</td>\n",
              "      <td>158.359</td>\n",
              "      <td>0.113</td>\n",
              "      <td>2.941</td>\n",
              "      <td>2.545</td>\n",
              "      <td>...</td>\n",
              "      <td>-1.443</td>\n",
              "      <td>294.074</td>\n",
              "      <td>2</td>\n",
              "      <td>123.010</td>\n",
              "      <td>0.864</td>\n",
              "      <td>1.450</td>\n",
              "      <td>56.867</td>\n",
              "      <td>0.131</td>\n",
              "      <td>-2.767</td>\n",
              "      <td>179.877</td>\n",
              "    </tr>\n",
              "    <tr>\n",
              "      <th>11</th>\n",
              "      <td>100011</td>\n",
              "      <td>114.744</td>\n",
              "      <td>10.286</td>\n",
              "      <td>75.712</td>\n",
              "      <td>30.816</td>\n",
              "      <td>2.563</td>\n",
              "      <td>252.599</td>\n",
              "      <td>-1.401</td>\n",
              "      <td>2.888</td>\n",
              "      <td>36.745</td>\n",
              "      <td>...</td>\n",
              "      <td>2.148</td>\n",
              "      <td>290.547</td>\n",
              "      <td>3</td>\n",
              "      <td>76.773</td>\n",
              "      <td>-0.790</td>\n",
              "      <td>0.303</td>\n",
              "      <td>56.876</td>\n",
              "      <td>1.773</td>\n",
              "      <td>-2.079</td>\n",
              "      <td>165.640</td>\n",
              "    </tr>\n",
              "    <tr>\n",
              "      <th>23</th>\n",
              "      <td>100023</td>\n",
              "      <td>141.481</td>\n",
              "      <td>0.736</td>\n",
              "      <td>111.581</td>\n",
              "      <td>174.075</td>\n",
              "      <td>1.955</td>\n",
              "      <td>364.344</td>\n",
              "      <td>-0.923</td>\n",
              "      <td>1.335</td>\n",
              "      <td>6.663</td>\n",
              "      <td>...</td>\n",
              "      <td>-0.973</td>\n",
              "      <td>454.785</td>\n",
              "      <td>2</td>\n",
              "      <td>195.533</td>\n",
              "      <td>1.156</td>\n",
              "      <td>1.416</td>\n",
              "      <td>82.477</td>\n",
              "      <td>-0.798</td>\n",
              "      <td>-2.785</td>\n",
              "      <td>278.009</td>\n",
              "    </tr>\n",
              "  </tbody>\n",
              "</table>\n",
              "<p>5 rows × 31 columns</p>\n",
              "</div>\n",
              "      <button class=\"colab-df-convert\" onclick=\"convertToInteractive('df-dca0917b-657b-44f5-a2ec-a3fc57ee4dcd')\"\n",
              "              title=\"Convert this dataframe to an interactive table.\"\n",
              "              style=\"display:none;\">\n",
              "        \n",
              "  <svg xmlns=\"http://www.w3.org/2000/svg\" height=\"24px\"viewBox=\"0 0 24 24\"\n",
              "       width=\"24px\">\n",
              "    <path d=\"M0 0h24v24H0V0z\" fill=\"none\"/>\n",
              "    <path d=\"M18.56 5.44l.94 2.06.94-2.06 2.06-.94-2.06-.94-.94-2.06-.94 2.06-2.06.94zm-11 1L8.5 8.5l.94-2.06 2.06-.94-2.06-.94L8.5 2.5l-.94 2.06-2.06.94zm10 10l.94 2.06.94-2.06 2.06-.94-2.06-.94-.94-2.06-.94 2.06-2.06.94z\"/><path d=\"M17.41 7.96l-1.37-1.37c-.4-.4-.92-.59-1.43-.59-.52 0-1.04.2-1.43.59L10.3 9.45l-7.72 7.72c-.78.78-.78 2.05 0 2.83L4 21.41c.39.39.9.59 1.41.59.51 0 1.02-.2 1.41-.59l7.78-7.78 2.81-2.81c.8-.78.8-2.07 0-2.86zM5.41 20L4 18.59l7.72-7.72 1.47 1.35L5.41 20z\"/>\n",
              "  </svg>\n",
              "      </button>\n",
              "      \n",
              "  <style>\n",
              "    .colab-df-container {\n",
              "      display:flex;\n",
              "      flex-wrap:wrap;\n",
              "      gap: 12px;\n",
              "    }\n",
              "\n",
              "    .colab-df-convert {\n",
              "      background-color: #E8F0FE;\n",
              "      border: none;\n",
              "      border-radius: 50%;\n",
              "      cursor: pointer;\n",
              "      display: none;\n",
              "      fill: #1967D2;\n",
              "      height: 32px;\n",
              "      padding: 0 0 0 0;\n",
              "      width: 32px;\n",
              "    }\n",
              "\n",
              "    .colab-df-convert:hover {\n",
              "      background-color: #E2EBFA;\n",
              "      box-shadow: 0px 1px 2px rgba(60, 64, 67, 0.3), 0px 1px 3px 1px rgba(60, 64, 67, 0.15);\n",
              "      fill: #174EA6;\n",
              "    }\n",
              "\n",
              "    [theme=dark] .colab-df-convert {\n",
              "      background-color: #3B4455;\n",
              "      fill: #D2E3FC;\n",
              "    }\n",
              "\n",
              "    [theme=dark] .colab-df-convert:hover {\n",
              "      background-color: #434B5C;\n",
              "      box-shadow: 0px 1px 3px 1px rgba(0, 0, 0, 0.15);\n",
              "      filter: drop-shadow(0px 1px 2px rgba(0, 0, 0, 0.3));\n",
              "      fill: #FFFFFF;\n",
              "    }\n",
              "  </style>\n",
              "\n",
              "      <script>\n",
              "        const buttonEl =\n",
              "          document.querySelector('#df-dca0917b-657b-44f5-a2ec-a3fc57ee4dcd button.colab-df-convert');\n",
              "        buttonEl.style.display =\n",
              "          google.colab.kernel.accessAllowed ? 'block' : 'none';\n",
              "\n",
              "        async function convertToInteractive(key) {\n",
              "          const element = document.querySelector('#df-dca0917b-657b-44f5-a2ec-a3fc57ee4dcd');\n",
              "          const dataTable =\n",
              "            await google.colab.kernel.invokeFunction('convertToInteractive',\n",
              "                                                     [key], {});\n",
              "          if (!dataTable) return;\n",
              "\n",
              "          const docLinkHtml = 'Like what you see? Visit the ' +\n",
              "            '<a target=\"_blank\" href=https://colab.research.google.com/notebooks/data_table.ipynb>data table notebook</a>'\n",
              "            + ' to learn more about interactive tables.';\n",
              "          element.innerHTML = '';\n",
              "          dataTable['output_type'] = 'display_data';\n",
              "          await google.colab.output.renderOutput(dataTable, element);\n",
              "          const docLink = document.createElement('div');\n",
              "          docLink.innerHTML = docLinkHtml;\n",
              "          element.appendChild(docLink);\n",
              "        }\n",
              "      </script>\n",
              "    </div>\n",
              "  </div>\n",
              "  "
            ]
          },
          "metadata": {},
          "execution_count": 22
        }
      ]
    },
    {
      "cell_type": "code",
      "metadata": {
        "id": "HCPS73k0ytqj",
        "colab": {
          "base_uri": "https://localhost:8080/",
          "height": 394
        },
        "outputId": "1acd3a7e-dd2f-40fd-ad25-8885928510ad"
      },
      "source": [
        "higgsdata.describe()"
      ],
      "execution_count": 23,
      "outputs": [
        {
          "output_type": "execute_result",
          "data": {
            "text/plain": [
              "             EventId  DER_mass_MMC  DER_mass_transverse_met_lep  DER_mass_vis  \\\n",
              "count   68114.000000  68114.000000                 68114.000000  68114.000000   \n",
              "mean   225035.224154    122.816184                    35.270300     78.496815   \n",
              "std     72243.940540     60.751559                    30.750262     40.728784   \n",
              "min    100000.000000      9.878000                     0.000000      7.330000   \n",
              "25%    162349.750000     93.320250                    11.320000     57.274250   \n",
              "50%    225288.000000    113.230000                    26.964000     70.930000   \n",
              "75%    287772.750000    133.455750                    52.202750     88.372000   \n",
              "max    349994.000000    988.199000                   594.287000    789.538000   \n",
              "\n",
              "           DER_pt_h  DER_deltaeta_jet_jet  DER_mass_jet_jet  \\\n",
              "count  68114.000000          68114.000000      68114.000000   \n",
              "mean     111.430393              2.434232        378.176455   \n",
              "std       76.318688              1.750700        400.784254   \n",
              "min        0.120000              0.000000         13.602000   \n",
              "25%       57.827000              0.897000        113.463000   \n",
              "50%       94.714000              2.146500        232.370500   \n",
              "75%      145.824750              3.741000        489.447750   \n",
              "max     1053.807000              8.503000       4974.979000   \n",
              "\n",
              "       DER_prodeta_jet_jet  DER_deltar_tau_lep    DER_pt_tot  ...  \\\n",
              "count         68114.000000        68114.000000  68114.000000  ...   \n",
              "mean             -0.881020            1.996525     27.356644  ...   \n",
              "std               3.592624            0.774636     28.266913  ...   \n",
              "min             -18.066000            0.228000      0.004000  ...   \n",
              "25%              -2.729000            1.397000      4.218000  ...   \n",
              "50%              -0.284000            1.940000     22.542000  ...   \n",
              "75%               0.921000            2.574000     39.067750  ...   \n",
              "max              16.648000            5.579000    466.525000  ...   \n",
              "\n",
              "        PRI_met_phi  PRI_met_sumet   PRI_jet_num  PRI_jet_leading_pt  \\\n",
              "count  68114.000000   68114.000000  68114.000000        68114.000000   \n",
              "mean       0.006987     334.677667      2.303711          106.879969   \n",
              "std        1.813892     139.867044      0.459863           68.165852   \n",
              "min       -3.142000      34.323000      2.000000           30.196000   \n",
              "25%       -1.550000     239.168250      2.000000           60.844500   \n",
              "50%        0.005000     305.170000      2.000000           87.369000   \n",
              "75%        1.573000     396.382500      3.000000          131.069000   \n",
              "max        3.142000    2003.976000      3.000000         1120.573000   \n",
              "\n",
              "       PRI_jet_leading_eta  PRI_jet_leading_phi  PRI_jet_subleading_pt  \\\n",
              "count         68114.000000         68114.000000           68114.000000   \n",
              "mean             -0.005791            -0.011564              57.915426   \n",
              "std               1.746442             1.809276              32.224318   \n",
              "min              -4.497000            -3.142000              30.000000   \n",
              "25%              -1.339000            -1.574000              37.392250   \n",
              "50%               0.000000            -0.032000              48.105500   \n",
              "75%               1.330000             1.558000              66.946500   \n",
              "max               4.499000             3.141000             721.456000   \n",
              "\n",
              "       PRI_jet_subleading_eta  PRI_jet_subleading_phi  PRI_jet_all_pt  \n",
              "count            68114.000000            68114.000000    68114.000000  \n",
              "mean                -0.012930               -0.004782      183.374631  \n",
              "std                  2.044065                1.817247      108.312736  \n",
              "min                 -4.500000               -3.142000       60.223000  \n",
              "25%                 -1.628750               -1.579000      109.472000  \n",
              "50%                 -0.014000               -0.008000      154.136500  \n",
              "75%                  1.604000                1.573000      223.595250  \n",
              "max                  4.500000                3.142000     1633.433000  \n",
              "\n",
              "[8 rows x 31 columns]"
            ],
            "text/html": [
              "\n",
              "  <div id=\"df-c9388030-1400-4269-9c84-28309a8a29c4\">\n",
              "    <div class=\"colab-df-container\">\n",
              "      <div>\n",
              "<style scoped>\n",
              "    .dataframe tbody tr th:only-of-type {\n",
              "        vertical-align: middle;\n",
              "    }\n",
              "\n",
              "    .dataframe tbody tr th {\n",
              "        vertical-align: top;\n",
              "    }\n",
              "\n",
              "    .dataframe thead th {\n",
              "        text-align: right;\n",
              "    }\n",
              "</style>\n",
              "<table border=\"1\" class=\"dataframe\">\n",
              "  <thead>\n",
              "    <tr style=\"text-align: right;\">\n",
              "      <th></th>\n",
              "      <th>EventId</th>\n",
              "      <th>DER_mass_MMC</th>\n",
              "      <th>DER_mass_transverse_met_lep</th>\n",
              "      <th>DER_mass_vis</th>\n",
              "      <th>DER_pt_h</th>\n",
              "      <th>DER_deltaeta_jet_jet</th>\n",
              "      <th>DER_mass_jet_jet</th>\n",
              "      <th>DER_prodeta_jet_jet</th>\n",
              "      <th>DER_deltar_tau_lep</th>\n",
              "      <th>DER_pt_tot</th>\n",
              "      <th>...</th>\n",
              "      <th>PRI_met_phi</th>\n",
              "      <th>PRI_met_sumet</th>\n",
              "      <th>PRI_jet_num</th>\n",
              "      <th>PRI_jet_leading_pt</th>\n",
              "      <th>PRI_jet_leading_eta</th>\n",
              "      <th>PRI_jet_leading_phi</th>\n",
              "      <th>PRI_jet_subleading_pt</th>\n",
              "      <th>PRI_jet_subleading_eta</th>\n",
              "      <th>PRI_jet_subleading_phi</th>\n",
              "      <th>PRI_jet_all_pt</th>\n",
              "    </tr>\n",
              "  </thead>\n",
              "  <tbody>\n",
              "    <tr>\n",
              "      <th>count</th>\n",
              "      <td>68114.000000</td>\n",
              "      <td>68114.000000</td>\n",
              "      <td>68114.000000</td>\n",
              "      <td>68114.000000</td>\n",
              "      <td>68114.000000</td>\n",
              "      <td>68114.000000</td>\n",
              "      <td>68114.000000</td>\n",
              "      <td>68114.000000</td>\n",
              "      <td>68114.000000</td>\n",
              "      <td>68114.000000</td>\n",
              "      <td>...</td>\n",
              "      <td>68114.000000</td>\n",
              "      <td>68114.000000</td>\n",
              "      <td>68114.000000</td>\n",
              "      <td>68114.000000</td>\n",
              "      <td>68114.000000</td>\n",
              "      <td>68114.000000</td>\n",
              "      <td>68114.000000</td>\n",
              "      <td>68114.000000</td>\n",
              "      <td>68114.000000</td>\n",
              "      <td>68114.000000</td>\n",
              "    </tr>\n",
              "    <tr>\n",
              "      <th>mean</th>\n",
              "      <td>225035.224154</td>\n",
              "      <td>122.816184</td>\n",
              "      <td>35.270300</td>\n",
              "      <td>78.496815</td>\n",
              "      <td>111.430393</td>\n",
              "      <td>2.434232</td>\n",
              "      <td>378.176455</td>\n",
              "      <td>-0.881020</td>\n",
              "      <td>1.996525</td>\n",
              "      <td>27.356644</td>\n",
              "      <td>...</td>\n",
              "      <td>0.006987</td>\n",
              "      <td>334.677667</td>\n",
              "      <td>2.303711</td>\n",
              "      <td>106.879969</td>\n",
              "      <td>-0.005791</td>\n",
              "      <td>-0.011564</td>\n",
              "      <td>57.915426</td>\n",
              "      <td>-0.012930</td>\n",
              "      <td>-0.004782</td>\n",
              "      <td>183.374631</td>\n",
              "    </tr>\n",
              "    <tr>\n",
              "      <th>std</th>\n",
              "      <td>72243.940540</td>\n",
              "      <td>60.751559</td>\n",
              "      <td>30.750262</td>\n",
              "      <td>40.728784</td>\n",
              "      <td>76.318688</td>\n",
              "      <td>1.750700</td>\n",
              "      <td>400.784254</td>\n",
              "      <td>3.592624</td>\n",
              "      <td>0.774636</td>\n",
              "      <td>28.266913</td>\n",
              "      <td>...</td>\n",
              "      <td>1.813892</td>\n",
              "      <td>139.867044</td>\n",
              "      <td>0.459863</td>\n",
              "      <td>68.165852</td>\n",
              "      <td>1.746442</td>\n",
              "      <td>1.809276</td>\n",
              "      <td>32.224318</td>\n",
              "      <td>2.044065</td>\n",
              "      <td>1.817247</td>\n",
              "      <td>108.312736</td>\n",
              "    </tr>\n",
              "    <tr>\n",
              "      <th>min</th>\n",
              "      <td>100000.000000</td>\n",
              "      <td>9.878000</td>\n",
              "      <td>0.000000</td>\n",
              "      <td>7.330000</td>\n",
              "      <td>0.120000</td>\n",
              "      <td>0.000000</td>\n",
              "      <td>13.602000</td>\n",
              "      <td>-18.066000</td>\n",
              "      <td>0.228000</td>\n",
              "      <td>0.004000</td>\n",
              "      <td>...</td>\n",
              "      <td>-3.142000</td>\n",
              "      <td>34.323000</td>\n",
              "      <td>2.000000</td>\n",
              "      <td>30.196000</td>\n",
              "      <td>-4.497000</td>\n",
              "      <td>-3.142000</td>\n",
              "      <td>30.000000</td>\n",
              "      <td>-4.500000</td>\n",
              "      <td>-3.142000</td>\n",
              "      <td>60.223000</td>\n",
              "    </tr>\n",
              "    <tr>\n",
              "      <th>25%</th>\n",
              "      <td>162349.750000</td>\n",
              "      <td>93.320250</td>\n",
              "      <td>11.320000</td>\n",
              "      <td>57.274250</td>\n",
              "      <td>57.827000</td>\n",
              "      <td>0.897000</td>\n",
              "      <td>113.463000</td>\n",
              "      <td>-2.729000</td>\n",
              "      <td>1.397000</td>\n",
              "      <td>4.218000</td>\n",
              "      <td>...</td>\n",
              "      <td>-1.550000</td>\n",
              "      <td>239.168250</td>\n",
              "      <td>2.000000</td>\n",
              "      <td>60.844500</td>\n",
              "      <td>-1.339000</td>\n",
              "      <td>-1.574000</td>\n",
              "      <td>37.392250</td>\n",
              "      <td>-1.628750</td>\n",
              "      <td>-1.579000</td>\n",
              "      <td>109.472000</td>\n",
              "    </tr>\n",
              "    <tr>\n",
              "      <th>50%</th>\n",
              "      <td>225288.000000</td>\n",
              "      <td>113.230000</td>\n",
              "      <td>26.964000</td>\n",
              "      <td>70.930000</td>\n",
              "      <td>94.714000</td>\n",
              "      <td>2.146500</td>\n",
              "      <td>232.370500</td>\n",
              "      <td>-0.284000</td>\n",
              "      <td>1.940000</td>\n",
              "      <td>22.542000</td>\n",
              "      <td>...</td>\n",
              "      <td>0.005000</td>\n",
              "      <td>305.170000</td>\n",
              "      <td>2.000000</td>\n",
              "      <td>87.369000</td>\n",
              "      <td>0.000000</td>\n",
              "      <td>-0.032000</td>\n",
              "      <td>48.105500</td>\n",
              "      <td>-0.014000</td>\n",
              "      <td>-0.008000</td>\n",
              "      <td>154.136500</td>\n",
              "    </tr>\n",
              "    <tr>\n",
              "      <th>75%</th>\n",
              "      <td>287772.750000</td>\n",
              "      <td>133.455750</td>\n",
              "      <td>52.202750</td>\n",
              "      <td>88.372000</td>\n",
              "      <td>145.824750</td>\n",
              "      <td>3.741000</td>\n",
              "      <td>489.447750</td>\n",
              "      <td>0.921000</td>\n",
              "      <td>2.574000</td>\n",
              "      <td>39.067750</td>\n",
              "      <td>...</td>\n",
              "      <td>1.573000</td>\n",
              "      <td>396.382500</td>\n",
              "      <td>3.000000</td>\n",
              "      <td>131.069000</td>\n",
              "      <td>1.330000</td>\n",
              "      <td>1.558000</td>\n",
              "      <td>66.946500</td>\n",
              "      <td>1.604000</td>\n",
              "      <td>1.573000</td>\n",
              "      <td>223.595250</td>\n",
              "    </tr>\n",
              "    <tr>\n",
              "      <th>max</th>\n",
              "      <td>349994.000000</td>\n",
              "      <td>988.199000</td>\n",
              "      <td>594.287000</td>\n",
              "      <td>789.538000</td>\n",
              "      <td>1053.807000</td>\n",
              "      <td>8.503000</td>\n",
              "      <td>4974.979000</td>\n",
              "      <td>16.648000</td>\n",
              "      <td>5.579000</td>\n",
              "      <td>466.525000</td>\n",
              "      <td>...</td>\n",
              "      <td>3.142000</td>\n",
              "      <td>2003.976000</td>\n",
              "      <td>3.000000</td>\n",
              "      <td>1120.573000</td>\n",
              "      <td>4.499000</td>\n",
              "      <td>3.141000</td>\n",
              "      <td>721.456000</td>\n",
              "      <td>4.500000</td>\n",
              "      <td>3.142000</td>\n",
              "      <td>1633.433000</td>\n",
              "    </tr>\n",
              "  </tbody>\n",
              "</table>\n",
              "<p>8 rows × 31 columns</p>\n",
              "</div>\n",
              "      <button class=\"colab-df-convert\" onclick=\"convertToInteractive('df-c9388030-1400-4269-9c84-28309a8a29c4')\"\n",
              "              title=\"Convert this dataframe to an interactive table.\"\n",
              "              style=\"display:none;\">\n",
              "        \n",
              "  <svg xmlns=\"http://www.w3.org/2000/svg\" height=\"24px\"viewBox=\"0 0 24 24\"\n",
              "       width=\"24px\">\n",
              "    <path d=\"M0 0h24v24H0V0z\" fill=\"none\"/>\n",
              "    <path d=\"M18.56 5.44l.94 2.06.94-2.06 2.06-.94-2.06-.94-.94-2.06-.94 2.06-2.06.94zm-11 1L8.5 8.5l.94-2.06 2.06-.94-2.06-.94L8.5 2.5l-.94 2.06-2.06.94zm10 10l.94 2.06.94-2.06 2.06-.94-2.06-.94-.94-2.06-.94 2.06-2.06.94z\"/><path d=\"M17.41 7.96l-1.37-1.37c-.4-.4-.92-.59-1.43-.59-.52 0-1.04.2-1.43.59L10.3 9.45l-7.72 7.72c-.78.78-.78 2.05 0 2.83L4 21.41c.39.39.9.59 1.41.59.51 0 1.02-.2 1.41-.59l7.78-7.78 2.81-2.81c.8-.78.8-2.07 0-2.86zM5.41 20L4 18.59l7.72-7.72 1.47 1.35L5.41 20z\"/>\n",
              "  </svg>\n",
              "      </button>\n",
              "      \n",
              "  <style>\n",
              "    .colab-df-container {\n",
              "      display:flex;\n",
              "      flex-wrap:wrap;\n",
              "      gap: 12px;\n",
              "    }\n",
              "\n",
              "    .colab-df-convert {\n",
              "      background-color: #E8F0FE;\n",
              "      border: none;\n",
              "      border-radius: 50%;\n",
              "      cursor: pointer;\n",
              "      display: none;\n",
              "      fill: #1967D2;\n",
              "      height: 32px;\n",
              "      padding: 0 0 0 0;\n",
              "      width: 32px;\n",
              "    }\n",
              "\n",
              "    .colab-df-convert:hover {\n",
              "      background-color: #E2EBFA;\n",
              "      box-shadow: 0px 1px 2px rgba(60, 64, 67, 0.3), 0px 1px 3px 1px rgba(60, 64, 67, 0.15);\n",
              "      fill: #174EA6;\n",
              "    }\n",
              "\n",
              "    [theme=dark] .colab-df-convert {\n",
              "      background-color: #3B4455;\n",
              "      fill: #D2E3FC;\n",
              "    }\n",
              "\n",
              "    [theme=dark] .colab-df-convert:hover {\n",
              "      background-color: #434B5C;\n",
              "      box-shadow: 0px 1px 3px 1px rgba(0, 0, 0, 0.15);\n",
              "      filter: drop-shadow(0px 1px 2px rgba(0, 0, 0, 0.3));\n",
              "      fill: #FFFFFF;\n",
              "    }\n",
              "  </style>\n",
              "\n",
              "      <script>\n",
              "        const buttonEl =\n",
              "          document.querySelector('#df-c9388030-1400-4269-9c84-28309a8a29c4 button.colab-df-convert');\n",
              "        buttonEl.style.display =\n",
              "          google.colab.kernel.accessAllowed ? 'block' : 'none';\n",
              "\n",
              "        async function convertToInteractive(key) {\n",
              "          const element = document.querySelector('#df-c9388030-1400-4269-9c84-28309a8a29c4');\n",
              "          const dataTable =\n",
              "            await google.colab.kernel.invokeFunction('convertToInteractive',\n",
              "                                                     [key], {});\n",
              "          if (!dataTable) return;\n",
              "\n",
              "          const docLinkHtml = 'Like what you see? Visit the ' +\n",
              "            '<a target=\"_blank\" href=https://colab.research.google.com/notebooks/data_table.ipynb>data table notebook</a>'\n",
              "            + ' to learn more about interactive tables.';\n",
              "          element.innerHTML = '';\n",
              "          dataTable['output_type'] = 'display_data';\n",
              "          await google.colab.output.renderOutput(dataTable, element);\n",
              "          const docLink = document.createElement('div');\n",
              "          docLink.innerHTML = docLinkHtml;\n",
              "          element.appendChild(docLink);\n",
              "        }\n",
              "      </script>\n",
              "    </div>\n",
              "  </div>\n",
              "  "
            ]
          },
          "metadata": {},
          "execution_count": 23
        }
      ]
    },
    {
      "cell_type": "code",
      "metadata": {
        "id": "O8eUWMdVx983",
        "colab": {
          "base_uri": "https://localhost:8080/"
        },
        "outputId": "9ce4859f-936e-46e5-b159-54b6c4098c84"
      },
      "source": [
        "label"
      ],
      "execution_count": 24,
      "outputs": [
        {
          "output_type": "execute_result",
          "data": {
            "text/plain": [
              "0         s\n",
              "5         b\n",
              "6         s\n",
              "11        b\n",
              "23        s\n",
              "         ..\n",
              "249976    s\n",
              "249980    s\n",
              "249985    s\n",
              "249993    s\n",
              "249994    b\n",
              "Name: Label, Length: 68114, dtype: object"
            ]
          },
          "metadata": {},
          "execution_count": 24
        }
      ]
    },
    {
      "cell_type": "code",
      "metadata": {
        "id": "Tv1otxd5yB-X",
        "colab": {
          "base_uri": "https://localhost:8080/"
        },
        "outputId": "898e6990-5c56-4e4c-93d6-0dd78f13ccb1"
      },
      "source": [
        "weight"
      ],
      "execution_count": 25,
      "outputs": [
        {
          "output_type": "execute_result",
          "data": {
            "text/plain": [
              "0         0.002653\n",
              "5         0.083414\n",
              "6         0.002653\n",
              "11        0.307170\n",
              "23        0.001503\n",
              "            ...   \n",
              "249976    0.001503\n",
              "249980    0.018636\n",
              "249985    0.018636\n",
              "249993    0.001503\n",
              "249994    0.064061\n",
              "Name: Weight, Length: 68114, dtype: float64"
            ]
          },
          "metadata": {},
          "execution_count": 25
        }
      ]
    },
    {
      "cell_type": "code",
      "source": [
        "higgsdata.shape"
      ],
      "metadata": {
        "colab": {
          "base_uri": "https://localhost:8080/"
        },
        "id": "eJ3k49LzMUs_",
        "outputId": "b2caabcb-db4e-400f-f017-e0b9a9c8a776"
      },
      "execution_count": 26,
      "outputs": [
        {
          "output_type": "execute_result",
          "data": {
            "text/plain": [
              "(68114, 31)"
            ]
          },
          "metadata": {},
          "execution_count": 26
        }
      ]
    },
    {
      "cell_type": "code",
      "source": [
        "higgsdata.drop([\"EventId\"], axis=1, inplace=True) #altrimenti non va gbt.predict"
      ],
      "metadata": {
        "id": "OZlT2K-xdxdO"
      },
      "execution_count": 27,
      "outputs": []
    },
    {
      "cell_type": "code",
      "metadata": {
        "id": "7_pC_3biq_xU"
      },
      "source": [
        "# leave\n",
        "from sklearn.model_selection import train_test_split "
      ],
      "execution_count": 28,
      "outputs": []
    },
    {
      "cell_type": "code",
      "source": [
        "xlab_train, xlab_test, ylab_train, ylab_test = train_test_split(higgsdata.values, label, test_size=0.2)"
      ],
      "metadata": {
        "id": "HQHfFSWUHCk7"
      },
      "execution_count": 29,
      "outputs": []
    },
    {
      "cell_type": "markdown",
      "metadata": {
        "id": "sLK2qoS_oW_j"
      },
      "source": [
        "- Use a Random Forest and a Gradiend Boosted Tree Classifier model to predict the label of the particles. get the score of the model on the training and test set and comment on the result for each model.\n"
      ]
    },
    {
      "cell_type": "code",
      "metadata": {
        "id": "Htf_qENzNNcV",
        "colab": {
          "base_uri": "https://localhost:8080/"
        },
        "outputId": "ee469511-0f79-41d5-a305-8ad2b4afa8c0"
      },
      "source": [
        "#leave \n",
        "from sklearn.ensemble import RandomForestClassifier\n",
        "from sklearn.ensemble import GradientBoostingClassifier\n",
        "from sklearn.datasets import make_classification\n",
        "\n",
        "# Look at parameters used by our current forest\n",
        "rf = RandomForestClassifier(random_state = 0)\n",
        "print('Parameters currently in use:\\n')\n",
        "print(rf.get_params())"
      ],
      "execution_count": 30,
      "outputs": [
        {
          "output_type": "stream",
          "name": "stdout",
          "text": [
            "Parameters currently in use:\n",
            "\n",
            "{'bootstrap': True, 'ccp_alpha': 0.0, 'class_weight': None, 'criterion': 'gini', 'max_depth': None, 'max_features': 'sqrt', 'max_leaf_nodes': None, 'max_samples': None, 'min_impurity_decrease': 0.0, 'min_samples_leaf': 1, 'min_samples_split': 2, 'min_weight_fraction_leaf': 0.0, 'n_estimators': 100, 'n_jobs': None, 'oob_score': False, 'random_state': 0, 'verbose': 0, 'warm_start': False}\n"
          ]
        }
      ]
    },
    {
      "cell_type": "code",
      "metadata": {
        "id": "2eNZHaTYy89c"
      },
      "source": [
        "gbt = GradientBoostingClassifier(random_state=0, max_depth=5)"
      ],
      "execution_count": 31,
      "outputs": []
    },
    {
      "cell_type": "code",
      "metadata": {
        "id": "f4Mub5WOzDYU",
        "colab": {
          "base_uri": "https://localhost:8080/",
          "height": 75
        },
        "outputId": "0f63d534-f51b-4dcc-9714-3e9e17666ab6"
      },
      "source": [
        "rf.fit(xlab_train, ylab_train)\n"
      ],
      "execution_count": 32,
      "outputs": [
        {
          "output_type": "execute_result",
          "data": {
            "text/plain": [
              "RandomForestClassifier(random_state=0)"
            ],
            "text/html": [
              "<style>#sk-container-id-1 {color: black;background-color: white;}#sk-container-id-1 pre{padding: 0;}#sk-container-id-1 div.sk-toggleable {background-color: white;}#sk-container-id-1 label.sk-toggleable__label {cursor: pointer;display: block;width: 100%;margin-bottom: 0;padding: 0.3em;box-sizing: border-box;text-align: center;}#sk-container-id-1 label.sk-toggleable__label-arrow:before {content: \"▸\";float: left;margin-right: 0.25em;color: #696969;}#sk-container-id-1 label.sk-toggleable__label-arrow:hover:before {color: black;}#sk-container-id-1 div.sk-estimator:hover label.sk-toggleable__label-arrow:before {color: black;}#sk-container-id-1 div.sk-toggleable__content {max-height: 0;max-width: 0;overflow: hidden;text-align: left;background-color: #f0f8ff;}#sk-container-id-1 div.sk-toggleable__content pre {margin: 0.2em;color: black;border-radius: 0.25em;background-color: #f0f8ff;}#sk-container-id-1 input.sk-toggleable__control:checked~div.sk-toggleable__content {max-height: 200px;max-width: 100%;overflow: auto;}#sk-container-id-1 input.sk-toggleable__control:checked~label.sk-toggleable__label-arrow:before {content: \"▾\";}#sk-container-id-1 div.sk-estimator input.sk-toggleable__control:checked~label.sk-toggleable__label {background-color: #d4ebff;}#sk-container-id-1 div.sk-label input.sk-toggleable__control:checked~label.sk-toggleable__label {background-color: #d4ebff;}#sk-container-id-1 input.sk-hidden--visually {border: 0;clip: rect(1px 1px 1px 1px);clip: rect(1px, 1px, 1px, 1px);height: 1px;margin: -1px;overflow: hidden;padding: 0;position: absolute;width: 1px;}#sk-container-id-1 div.sk-estimator {font-family: monospace;background-color: #f0f8ff;border: 1px dotted black;border-radius: 0.25em;box-sizing: border-box;margin-bottom: 0.5em;}#sk-container-id-1 div.sk-estimator:hover {background-color: #d4ebff;}#sk-container-id-1 div.sk-parallel-item::after {content: \"\";width: 100%;border-bottom: 1px solid gray;flex-grow: 1;}#sk-container-id-1 div.sk-label:hover label.sk-toggleable__label {background-color: #d4ebff;}#sk-container-id-1 div.sk-serial::before {content: \"\";position: absolute;border-left: 1px solid gray;box-sizing: border-box;top: 0;bottom: 0;left: 50%;z-index: 0;}#sk-container-id-1 div.sk-serial {display: flex;flex-direction: column;align-items: center;background-color: white;padding-right: 0.2em;padding-left: 0.2em;position: relative;}#sk-container-id-1 div.sk-item {position: relative;z-index: 1;}#sk-container-id-1 div.sk-parallel {display: flex;align-items: stretch;justify-content: center;background-color: white;position: relative;}#sk-container-id-1 div.sk-item::before, #sk-container-id-1 div.sk-parallel-item::before {content: \"\";position: absolute;border-left: 1px solid gray;box-sizing: border-box;top: 0;bottom: 0;left: 50%;z-index: -1;}#sk-container-id-1 div.sk-parallel-item {display: flex;flex-direction: column;z-index: 1;position: relative;background-color: white;}#sk-container-id-1 div.sk-parallel-item:first-child::after {align-self: flex-end;width: 50%;}#sk-container-id-1 div.sk-parallel-item:last-child::after {align-self: flex-start;width: 50%;}#sk-container-id-1 div.sk-parallel-item:only-child::after {width: 0;}#sk-container-id-1 div.sk-dashed-wrapped {border: 1px dashed gray;margin: 0 0.4em 0.5em 0.4em;box-sizing: border-box;padding-bottom: 0.4em;background-color: white;}#sk-container-id-1 div.sk-label label {font-family: monospace;font-weight: bold;display: inline-block;line-height: 1.2em;}#sk-container-id-1 div.sk-label-container {text-align: center;}#sk-container-id-1 div.sk-container {/* jupyter's `normalize.less` sets `[hidden] { display: none; }` but bootstrap.min.css set `[hidden] { display: none !important; }` so we also need the `!important` here to be able to override the default hidden behavior on the sphinx rendered scikit-learn.org. See: https://github.com/scikit-learn/scikit-learn/issues/21755 */display: inline-block !important;position: relative;}#sk-container-id-1 div.sk-text-repr-fallback {display: none;}</style><div id=\"sk-container-id-1\" class=\"sk-top-container\"><div class=\"sk-text-repr-fallback\"><pre>RandomForestClassifier(random_state=0)</pre><b>In a Jupyter environment, please rerun this cell to show the HTML representation or trust the notebook. <br />On GitHub, the HTML representation is unable to render, please try loading this page with nbviewer.org.</b></div><div class=\"sk-container\" hidden><div class=\"sk-item\"><div class=\"sk-estimator sk-toggleable\"><input class=\"sk-toggleable__control sk-hidden--visually\" id=\"sk-estimator-id-1\" type=\"checkbox\" checked><label for=\"sk-estimator-id-1\" class=\"sk-toggleable__label sk-toggleable__label-arrow\">RandomForestClassifier</label><div class=\"sk-toggleable__content\"><pre>RandomForestClassifier(random_state=0)</pre></div></div></div></div></div>"
            ]
          },
          "metadata": {},
          "execution_count": 32
        }
      ]
    },
    {
      "cell_type": "code",
      "source": [
        "gbt.fit(xlab_train, ylab_train)"
      ],
      "metadata": {
        "colab": {
          "base_uri": "https://localhost:8080/",
          "height": 75
        },
        "id": "86ADO2PWKqVR",
        "outputId": "56a6b565-0d6b-4ac6-83df-41f08c711381"
      },
      "execution_count": 33,
      "outputs": [
        {
          "output_type": "execute_result",
          "data": {
            "text/plain": [
              "GradientBoostingClassifier(max_depth=5, random_state=0)"
            ],
            "text/html": [
              "<style>#sk-container-id-2 {color: black;background-color: white;}#sk-container-id-2 pre{padding: 0;}#sk-container-id-2 div.sk-toggleable {background-color: white;}#sk-container-id-2 label.sk-toggleable__label {cursor: pointer;display: block;width: 100%;margin-bottom: 0;padding: 0.3em;box-sizing: border-box;text-align: center;}#sk-container-id-2 label.sk-toggleable__label-arrow:before {content: \"▸\";float: left;margin-right: 0.25em;color: #696969;}#sk-container-id-2 label.sk-toggleable__label-arrow:hover:before {color: black;}#sk-container-id-2 div.sk-estimator:hover label.sk-toggleable__label-arrow:before {color: black;}#sk-container-id-2 div.sk-toggleable__content {max-height: 0;max-width: 0;overflow: hidden;text-align: left;background-color: #f0f8ff;}#sk-container-id-2 div.sk-toggleable__content pre {margin: 0.2em;color: black;border-radius: 0.25em;background-color: #f0f8ff;}#sk-container-id-2 input.sk-toggleable__control:checked~div.sk-toggleable__content {max-height: 200px;max-width: 100%;overflow: auto;}#sk-container-id-2 input.sk-toggleable__control:checked~label.sk-toggleable__label-arrow:before {content: \"▾\";}#sk-container-id-2 div.sk-estimator input.sk-toggleable__control:checked~label.sk-toggleable__label {background-color: #d4ebff;}#sk-container-id-2 div.sk-label input.sk-toggleable__control:checked~label.sk-toggleable__label {background-color: #d4ebff;}#sk-container-id-2 input.sk-hidden--visually {border: 0;clip: rect(1px 1px 1px 1px);clip: rect(1px, 1px, 1px, 1px);height: 1px;margin: -1px;overflow: hidden;padding: 0;position: absolute;width: 1px;}#sk-container-id-2 div.sk-estimator {font-family: monospace;background-color: #f0f8ff;border: 1px dotted black;border-radius: 0.25em;box-sizing: border-box;margin-bottom: 0.5em;}#sk-container-id-2 div.sk-estimator:hover {background-color: #d4ebff;}#sk-container-id-2 div.sk-parallel-item::after {content: \"\";width: 100%;border-bottom: 1px solid gray;flex-grow: 1;}#sk-container-id-2 div.sk-label:hover label.sk-toggleable__label {background-color: #d4ebff;}#sk-container-id-2 div.sk-serial::before {content: \"\";position: absolute;border-left: 1px solid gray;box-sizing: border-box;top: 0;bottom: 0;left: 50%;z-index: 0;}#sk-container-id-2 div.sk-serial {display: flex;flex-direction: column;align-items: center;background-color: white;padding-right: 0.2em;padding-left: 0.2em;position: relative;}#sk-container-id-2 div.sk-item {position: relative;z-index: 1;}#sk-container-id-2 div.sk-parallel {display: flex;align-items: stretch;justify-content: center;background-color: white;position: relative;}#sk-container-id-2 div.sk-item::before, #sk-container-id-2 div.sk-parallel-item::before {content: \"\";position: absolute;border-left: 1px solid gray;box-sizing: border-box;top: 0;bottom: 0;left: 50%;z-index: -1;}#sk-container-id-2 div.sk-parallel-item {display: flex;flex-direction: column;z-index: 1;position: relative;background-color: white;}#sk-container-id-2 div.sk-parallel-item:first-child::after {align-self: flex-end;width: 50%;}#sk-container-id-2 div.sk-parallel-item:last-child::after {align-self: flex-start;width: 50%;}#sk-container-id-2 div.sk-parallel-item:only-child::after {width: 0;}#sk-container-id-2 div.sk-dashed-wrapped {border: 1px dashed gray;margin: 0 0.4em 0.5em 0.4em;box-sizing: border-box;padding-bottom: 0.4em;background-color: white;}#sk-container-id-2 div.sk-label label {font-family: monospace;font-weight: bold;display: inline-block;line-height: 1.2em;}#sk-container-id-2 div.sk-label-container {text-align: center;}#sk-container-id-2 div.sk-container {/* jupyter's `normalize.less` sets `[hidden] { display: none; }` but bootstrap.min.css set `[hidden] { display: none !important; }` so we also need the `!important` here to be able to override the default hidden behavior on the sphinx rendered scikit-learn.org. See: https://github.com/scikit-learn/scikit-learn/issues/21755 */display: inline-block !important;position: relative;}#sk-container-id-2 div.sk-text-repr-fallback {display: none;}</style><div id=\"sk-container-id-2\" class=\"sk-top-container\"><div class=\"sk-text-repr-fallback\"><pre>GradientBoostingClassifier(max_depth=5, random_state=0)</pre><b>In a Jupyter environment, please rerun this cell to show the HTML representation or trust the notebook. <br />On GitHub, the HTML representation is unable to render, please try loading this page with nbviewer.org.</b></div><div class=\"sk-container\" hidden><div class=\"sk-item\"><div class=\"sk-estimator sk-toggleable\"><input class=\"sk-toggleable__control sk-hidden--visually\" id=\"sk-estimator-id-2\" type=\"checkbox\" checked><label for=\"sk-estimator-id-2\" class=\"sk-toggleable__label sk-toggleable__label-arrow\">GradientBoostingClassifier</label><div class=\"sk-toggleable__content\"><pre>GradientBoostingClassifier(max_depth=5, random_state=0)</pre></div></div></div></div></div>"
            ]
          },
          "metadata": {},
          "execution_count": 33
        }
      ]
    },
    {
      "cell_type": "markdown",
      "metadata": {
        "id": "3C_3_nhoPhQY"
      },
      "source": [
        "calculate the  scores for the training and test sets and evaluate  overtraining etc"
      ]
    },
    {
      "cell_type": "code",
      "metadata": {
        "id": "yz3A54YTqXw1",
        "colab": {
          "base_uri": "https://localhost:8080/"
        },
        "outputId": "f640c136-7519-47cc-ff03-16d8da79c050"
      },
      "source": [
        "rf.score(xlab_test, ylab_test)"
      ],
      "execution_count": 34,
      "outputs": [
        {
          "output_type": "execute_result",
          "data": {
            "text/plain": [
              "0.8465095793878"
            ]
          },
          "metadata": {},
          "execution_count": 34
        }
      ]
    },
    {
      "cell_type": "code",
      "source": [
        "gbt.score(xlab_test, ylab_test)"
      ],
      "metadata": {
        "colab": {
          "base_uri": "https://localhost:8080/"
        },
        "id": "LTOIVGqFRXzg",
        "outputId": "db9bf451-558f-4847-8b6e-cd16ce2abf7a"
      },
      "execution_count": 35,
      "outputs": [
        {
          "output_type": "execute_result",
          "data": {
            "text/plain": [
              "0.847023416281289"
            ]
          },
          "metadata": {},
          "execution_count": 35
        }
      ]
    },
    {
      "cell_type": "code",
      "source": [
        "rf.fit?"
      ],
      "metadata": {
        "id": "oM3ojtZbXb_Y"
      },
      "execution_count": 36,
      "outputs": []
    },
    {
      "cell_type": "markdown",
      "metadata": {
        "id": "6aiULt4TP8kn"
      },
      "source": [
        "- Produce a confusion matrix for each model and compare them\n",
        "\n",
        "\n",
        " \n",
        "\n"
      ]
    },
    {
      "cell_type": "code",
      "metadata": {
        "id": "ak3gnF6duviH"
      },
      "source": [
        "\n",
        "# I creaded this function (mostly copied from sklearn examples). \n",
        "# You can use it to create the confusion matrix\n",
        "from mpl_toolkits.axes_grid1.axes_divider import make_axes_locatable\n",
        "from sklearn.metrics import confusion_matrix\n",
        "def plot_confusion_matrix(y_true, y_pred,\n",
        "                          normalize=False,\n",
        "                          title='',\n",
        "                          cmap=pl.cm.bone):\n",
        "    \"\"\"\n",
        "    This function prints and plots the confusion matrix.\n",
        "    Normalization can be applied by setting `normalize=True`.\n",
        "    \"\"\"         \n",
        "    if normalize:\n",
        "          title = title + ' Normalized confusion matrix'\n",
        "          cm = confusion_matrix(y_true, y_pred, normalize=\"true\")\n",
        "    else:\n",
        "          title = title + ' Confusion matrix, without normalization'\n",
        "          cm = confusion_matrix(y_true, y_pred)\n",
        "\n",
        "    # Compute confusion matrix\n",
        "    #cm = confusion_matrix(y_true, y_pred, normalize=\"true\")\n",
        "    # plot it\n",
        "    fig, ax = pl.subplots(1, 1)\n",
        "    fig.subplots_adjust()\n",
        "    im = ax.imshow(cm, cmap=cmap)\n",
        "    pl.text(0,0, \"%f\"%cm[0][0], ha=\"center\")\n",
        "    pl.text(1,1, \"%f\"%cm[1][1], ha=\"center\")\n",
        "    pl.text(0,1, \"%f\"%cm[1][0], color=\"w\", ha=\"center\")\n",
        "    pl.text(1,0, \"%f\"%cm[0][1], color=\"w\", ha=\"center\")\n",
        "    ax_divider = make_axes_locatable(ax)\n",
        "    # add an axes to the right of the main axes.\n",
        "    pl.xticks([0, 1], labels=[\"N\", \"P\"])\n",
        "    pl.ylim(-0.5,1.5)\n",
        "    pl.yticks([0,1], labels=[\"N\", \"P\"])\n",
        "    pl.title(title)\n",
        "    cax = ax_divider.append_axes(\"right\", size=\"10%\", pad=\"2%\")\n",
        "    pl.colorbar(im, cax=cax)"
      ],
      "execution_count": 37,
      "outputs": []
    },
    {
      "cell_type": "code",
      "metadata": {
        "id": "isbiIC8qxEA6",
        "colab": {
          "base_uri": "https://localhost:8080/",
          "height": 452
        },
        "outputId": "76e8570a-6c9c-4e92-9751-d0e4f86e3d63"
      },
      "source": [
        "plot_confusion_matrix(ylab_test, rf.predict(xlab_test),\n",
        "                          normalize=True,\n",
        "                          title='Random Forest Label Prediction',\n",
        "                          cmap=pl.cm.bone)"
      ],
      "execution_count": 38,
      "outputs": [
        {
          "output_type": "display_data",
          "data": {
            "text/plain": [
              "<Figure size 640x480 with 2 Axes>"
            ],
            "image/png": "[encoded data removed]"
          },
          "metadata": {}
        }
      ]
    },
    {
      "cell_type": "code",
      "source": [
        "gbt.predict(xlab_test)"
      ],
      "metadata": {
        "colab": {
          "base_uri": "https://localhost:8080/"
        },
        "id": "cNjMiPAta9S0",
        "outputId": "a6461422-61f4-4fa1-87cd-39e0de93e372"
      },
      "execution_count": 39,
      "outputs": [
        {
          "output_type": "execute_result",
          "data": {
            "text/plain": [
              "array(['b', 'b', 'b', ..., 'b', 's', 'b'], dtype=object)"
            ]
          },
          "metadata": {},
          "execution_count": 39
        }
      ]
    },
    {
      "cell_type": "code",
      "metadata": {
        "id": "CgQcTMFuxZV4",
        "colab": {
          "base_uri": "https://localhost:8080/",
          "height": 452
        },
        "outputId": "cf0f1c7a-6c7c-427e-feba-40af312d976d"
      },
      "source": [
        "plot_confusion_matrix(ylab_test, gbt.predict(xlab_test),\n",
        "                          normalize=True,\n",
        "                          title='GBTLabel Prediction',\n",
        "                          cmap=pl.cm.bone)"
      ],
      "execution_count": 40,
      "outputs": [
        {
          "output_type": "display_data",
          "data": {
            "text/plain": [
              "<Figure size 640x480 with 2 Axes>"
            ],
            "image/png": "[encoded data removed]"
          },
          "metadata": {}
        }
      ]
    },
    {
      "cell_type": "markdown",
      "metadata": {
        "id": "TbZQ3kMSQFK6"
      },
      "source": [
        "\n",
        "- Use a Random Forest and a Gradiend Boosted Tree Regressor model to predict the weight of the particles. Compare the model performance on training and test setsm\n"
      ]
    },
    {
      "cell_type": "code",
      "metadata": {
        "id": "p_6uYj243Be_"
      },
      "source": [
        "xwt_train, xwt_test, ywt_train, ywt_test = train_test_split(higgsdata.values, weight, test_size=0.2)"
      ],
      "execution_count": 41,
      "outputs": []
    },
    {
      "cell_type": "code",
      "metadata": {
        "id": "UkanVFfO3HBe"
      },
      "source": [
        "from sklearn.ensemble import GradientBoostingRegressor\n",
        "from sklearn.ensemble import RandomForestRegressor\n",
        "\n",
        "rfR = RandomForestRegressor(n_estimators=100, max_depth=3,\n",
        "                                  random_state=0)\n",
        "\n",
        "gbtR = GradientBoostingRegressor(n_estimators = 100, max_depth=3, random_state = 0)\n"
      ],
      "execution_count": 53,
      "outputs": []
    },
    {
      "cell_type": "code",
      "source": [
        "rfR.fit(xwt_train, ywt_train)"
      ],
      "metadata": {
        "colab": {
          "base_uri": "https://localhost:8080/",
          "height": 75
        },
        "id": "9F34s4jSjkYO",
        "outputId": "27632d8b-77e5-41d4-97d0-48921e020c70"
      },
      "execution_count": 54,
      "outputs": [
        {
          "output_type": "execute_result",
          "data": {
            "text/plain": [
              "RandomForestRegressor(max_depth=3, random_state=0)"
            ],
            "text/html": [
              "<style>#sk-container-id-4 {color: black;background-color: white;}#sk-container-id-4 pre{padding: 0;}#sk-container-id-4 div.sk-toggleable {background-color: white;}#sk-container-id-4 label.sk-toggleable__label {cursor: pointer;display: block;width: 100%;margin-bottom: 0;padding: 0.3em;box-sizing: border-box;text-align: center;}#sk-container-id-4 label.sk-toggleable__label-arrow:before {content: \"▸\";float: left;margin-right: 0.25em;color: #696969;}#sk-container-id-4 label.sk-toggleable__label-arrow:hover:before {color: black;}#sk-container-id-4 div.sk-estimator:hover label.sk-toggleable__label-arrow:before {color: black;}#sk-container-id-4 div.sk-toggleable__content {max-height: 0;max-width: 0;overflow: hidden;text-align: left;background-color: #f0f8ff;}#sk-container-id-4 div.sk-toggleable__content pre {margin: 0.2em;color: black;border-radius: 0.25em;background-color: #f0f8ff;}#sk-container-id-4 input.sk-toggleable__control:checked~div.sk-toggleable__content {max-height: 200px;max-width: 100%;overflow: auto;}#sk-container-id-4 input.sk-toggleable__control:checked~label.sk-toggleable__label-arrow:before {content: \"▾\";}#sk-container-id-4 div.sk-estimator input.sk-toggleable__control:checked~label.sk-toggleable__label {background-color: #d4ebff;}#sk-container-id-4 div.sk-label input.sk-toggleable__control:checked~label.sk-toggleable__label {background-color: #d4ebff;}#sk-container-id-4 input.sk-hidden--visually {border: 0;clip: rect(1px 1px 1px 1px);clip: rect(1px, 1px, 1px, 1px);height: 1px;margin: -1px;overflow: hidden;padding: 0;position: absolute;width: 1px;}#sk-container-id-4 div.sk-estimator {font-family: monospace;background-color: #f0f8ff;border: 1px dotted black;border-radius: 0.25em;box-sizing: border-box;margin-bottom: 0.5em;}#sk-container-id-4 div.sk-estimator:hover {background-color: #d4ebff;}#sk-container-id-4 div.sk-parallel-item::after {content: \"\";width: 100%;border-bottom: 1px solid gray;flex-grow: 1;}#sk-container-id-4 div.sk-label:hover label.sk-toggleable__label {background-color: #d4ebff;}#sk-container-id-4 div.sk-serial::before {content: \"\";position: absolute;border-left: 1px solid gray;box-sizing: border-box;top: 0;bottom: 0;left: 50%;z-index: 0;}#sk-container-id-4 div.sk-serial {display: flex;flex-direction: column;align-items: center;background-color: white;padding-right: 0.2em;padding-left: 0.2em;position: relative;}#sk-container-id-4 div.sk-item {position: relative;z-index: 1;}#sk-container-id-4 div.sk-parallel {display: flex;align-items: stretch;justify-content: center;background-color: white;position: relative;}#sk-container-id-4 div.sk-item::before, #sk-container-id-4 div.sk-parallel-item::before {content: \"\";position: absolute;border-left: 1px solid gray;box-sizing: border-box;top: 0;bottom: 0;left: 50%;z-index: -1;}#sk-container-id-4 div.sk-parallel-item {display: flex;flex-direction: column;z-index: 1;position: relative;background-color: white;}#sk-container-id-4 div.sk-parallel-item:first-child::after {align-self: flex-end;width: 50%;}#sk-container-id-4 div.sk-parallel-item:last-child::after {align-self: flex-start;width: 50%;}#sk-container-id-4 div.sk-parallel-item:only-child::after {width: 0;}#sk-container-id-4 div.sk-dashed-wrapped {border: 1px dashed gray;margin: 0 0.4em 0.5em 0.4em;box-sizing: border-box;padding-bottom: 0.4em;background-color: white;}#sk-container-id-4 div.sk-label label {font-family: monospace;font-weight: bold;display: inline-block;line-height: 1.2em;}#sk-container-id-4 div.sk-label-container {text-align: center;}#sk-container-id-4 div.sk-container {/* jupyter's `normalize.less` sets `[hidden] { display: none; }` but bootstrap.min.css set `[hidden] { display: none !important; }` so we also need the `!important` here to be able to override the default hidden behavior on the sphinx rendered scikit-learn.org. See: https://github.com/scikit-learn/scikit-learn/issues/21755 */display: inline-block !important;position: relative;}#sk-container-id-4 div.sk-text-repr-fallback {display: none;}</style><div id=\"sk-container-id-4\" class=\"sk-top-container\"><div class=\"sk-text-repr-fallback\"><pre>RandomForestRegressor(max_depth=3, random_state=0)</pre><b>In a Jupyter environment, please rerun this cell to show the HTML representation or trust the notebook. <br />On GitHub, the HTML representation is unable to render, please try loading this page with nbviewer.org.</b></div><div class=\"sk-container\" hidden><div class=\"sk-item\"><div class=\"sk-estimator sk-toggleable\"><input class=\"sk-toggleable__control sk-hidden--visually\" id=\"sk-estimator-id-4\" type=\"checkbox\" checked><label for=\"sk-estimator-id-4\" class=\"sk-toggleable__label sk-toggleable__label-arrow\">RandomForestRegressor</label><div class=\"sk-toggleable__content\"><pre>RandomForestRegressor(max_depth=3, random_state=0)</pre></div></div></div></div></div>"
            ]
          },
          "metadata": {},
          "execution_count": 54
        }
      ]
    },
    {
      "cell_type": "code",
      "source": [
        "gbtR.fit(xwt_train, ywt_train)"
      ],
      "metadata": {
        "colab": {
          "base_uri": "https://localhost:8080/",
          "height": 75
        },
        "id": "JWaErNvOjluI",
        "outputId": "30d29930-7a37-45ed-a247-082e71ba0760"
      },
      "execution_count": 55,
      "outputs": [
        {
          "output_type": "execute_result",
          "data": {
            "text/plain": [
              "GradientBoostingRegressor(random_state=0)"
            ],
            "text/html": [
              "<style>#sk-container-id-5 {color: black;background-color: white;}#sk-container-id-5 pre{padding: 0;}#sk-container-id-5 div.sk-toggleable {background-color: white;}#sk-container-id-5 label.sk-toggleable__label {cursor: pointer;display: block;width: 100%;margin-bottom: 0;padding: 0.3em;box-sizing: border-box;text-align: center;}#sk-container-id-5 label.sk-toggleable__label-arrow:before {content: \"▸\";float: left;margin-right: 0.25em;color: #696969;}#sk-container-id-5 label.sk-toggleable__label-arrow:hover:before {color: black;}#sk-container-id-5 div.sk-estimator:hover label.sk-toggleable__label-arrow:before {color: black;}#sk-container-id-5 div.sk-toggleable__content {max-height: 0;max-width: 0;overflow: hidden;text-align: left;background-color: #f0f8ff;}#sk-container-id-5 div.sk-toggleable__content pre {margin: 0.2em;color: black;border-radius: 0.25em;background-color: #f0f8ff;}#sk-container-id-5 input.sk-toggleable__control:checked~div.sk-toggleable__content {max-height: 200px;max-width: 100%;overflow: auto;}#sk-container-id-5 input.sk-toggleable__control:checked~label.sk-toggleable__label-arrow:before {content: \"▾\";}#sk-container-id-5 div.sk-estimator input.sk-toggleable__control:checked~label.sk-toggleable__label {background-color: #d4ebff;}#sk-container-id-5 div.sk-label input.sk-toggleable__control:checked~label.sk-toggleable__label {background-color: #d4ebff;}#sk-container-id-5 input.sk-hidden--visually {border: 0;clip: rect(1px 1px 1px 1px);clip: rect(1px, 1px, 1px, 1px);height: 1px;margin: -1px;overflow: hidden;padding: 0;position: absolute;width: 1px;}#sk-container-id-5 div.sk-estimator {font-family: monospace;background-color: #f0f8ff;border: 1px dotted black;border-radius: 0.25em;box-sizing: border-box;margin-bottom: 0.5em;}#sk-container-id-5 div.sk-estimator:hover {background-color: #d4ebff;}#sk-container-id-5 div.sk-parallel-item::after {content: \"\";width: 100%;border-bottom: 1px solid gray;flex-grow: 1;}#sk-container-id-5 div.sk-label:hover label.sk-toggleable__label {background-color: #d4ebff;}#sk-container-id-5 div.sk-serial::before {content: \"\";position: absolute;border-left: 1px solid gray;box-sizing: border-box;top: 0;bottom: 0;left: 50%;z-index: 0;}#sk-container-id-5 div.sk-serial {display: flex;flex-direction: column;align-items: center;background-color: white;padding-right: 0.2em;padding-left: 0.2em;position: relative;}#sk-container-id-5 div.sk-item {position: relative;z-index: 1;}#sk-container-id-5 div.sk-parallel {display: flex;align-items: stretch;justify-content: center;background-color: white;position: relative;}#sk-container-id-5 div.sk-item::before, #sk-container-id-5 div.sk-parallel-item::before {content: \"\";position: absolute;border-left: 1px solid gray;box-sizing: border-box;top: 0;bottom: 0;left: 50%;z-index: -1;}#sk-container-id-5 div.sk-parallel-item {display: flex;flex-direction: column;z-index: 1;position: relative;background-color: white;}#sk-container-id-5 div.sk-parallel-item:first-child::after {align-self: flex-end;width: 50%;}#sk-container-id-5 div.sk-parallel-item:last-child::after {align-self: flex-start;width: 50%;}#sk-container-id-5 div.sk-parallel-item:only-child::after {width: 0;}#sk-container-id-5 div.sk-dashed-wrapped {border: 1px dashed gray;margin: 0 0.4em 0.5em 0.4em;box-sizing: border-box;padding-bottom: 0.4em;background-color: white;}#sk-container-id-5 div.sk-label label {font-family: monospace;font-weight: bold;display: inline-block;line-height: 1.2em;}#sk-container-id-5 div.sk-label-container {text-align: center;}#sk-container-id-5 div.sk-container {/* jupyter's `normalize.less` sets `[hidden] { display: none; }` but bootstrap.min.css set `[hidden] { display: none !important; }` so we also need the `!important` here to be able to override the default hidden behavior on the sphinx rendered scikit-learn.org. See: https://github.com/scikit-learn/scikit-learn/issues/21755 */display: inline-block !important;position: relative;}#sk-container-id-5 div.sk-text-repr-fallback {display: none;}</style><div id=\"sk-container-id-5\" class=\"sk-top-container\"><div class=\"sk-text-repr-fallback\"><pre>GradientBoostingRegressor(random_state=0)</pre><b>In a Jupyter environment, please rerun this cell to show the HTML representation or trust the notebook. <br />On GitHub, the HTML representation is unable to render, please try loading this page with nbviewer.org.</b></div><div class=\"sk-container\" hidden><div class=\"sk-item\"><div class=\"sk-estimator sk-toggleable\"><input class=\"sk-toggleable__control sk-hidden--visually\" id=\"sk-estimator-id-5\" type=\"checkbox\" checked><label for=\"sk-estimator-id-5\" class=\"sk-toggleable__label sk-toggleable__label-arrow\">GradientBoostingRegressor</label><div class=\"sk-toggleable__content\"><pre>GradientBoostingRegressor(random_state=0)</pre></div></div></div></div></div>"
            ]
          },
          "metadata": {},
          "execution_count": 55
        }
      ]
    },
    {
      "cell_type": "markdown",
      "metadata": {
        "id": "CKvyqcFr3Z3d"
      },
      "source": [
        " Calculate the L2 and L1 loss functions for the fitted regression models (see slides for the definition) and discuss the results"
      ]
    },
    {
      "cell_type": "code",
      "metadata": {
        "id": "CAMTAgRTIeHq"
      },
      "source": [
        "L1_rfR = np.sum(np.abs(ywt_test-rfR.predict(xwt_test)))\n",
        "\n",
        "L2_rfR = np.sum((ywt_test-rfR.predict(xwt_test))**2)\n",
        "\n",
        "L1_gbtR = np.sum(np.abs(ywt_test-gbtR.predict(xwt_test)))\n",
        "\n",
        "L2_gbtR = np.sum((ywt_test-gbtR.predict(xwt_test))**2)\n"
      ],
      "execution_count": 61,
      "outputs": []
    },
    {
      "cell_type": "code",
      "source": [
        "L1_gbtR"
      ],
      "metadata": {
        "colab": {
          "base_uri": "https://localhost:8080/"
        },
        "id": "OJyzMA9Xkhue",
        "outputId": "8380e731-2c84-435f-a93b-05b0da83eb4e"
      },
      "execution_count": 63,
      "outputs": [
        {
          "output_type": "execute_result",
          "data": {
            "text/plain": [
              "4917.978821138217"
            ]
          },
          "metadata": {},
          "execution_count": 63
        }
      ]
    },
    {
      "cell_type": "markdown",
      "metadata": {
        "id": "c38At7ayYd_5"
      },
      "source": [
        "- For the Random Forest classifier, find the 4 most important features based on the simple unoptimized model you created earlier on. Use the documentation to find out what they are. We have not talked abotu the physics of this problem at all but the Kaggle challenge description should provide enogh information for you to comment on this result is somewhat superficially.\n",
        "\n",
        "You can use ```rf.feature_importance_``` on the trained model to extract the relative importance of each feature (a number from 0 to 1) and then choose the features that have the 4 highest numbers (the numpy function ```argsort()``` is helpful here!)\n",
        "\n",
        "Explore the parameter space with the sklearn module ```sklearn.model_selection.RandomizedSearchCV``` *fitting only those 4 features*\n",
        "\n",
        "Follow this example to set up the parameter search. Set the estimators to 10 and 100, (the number of trees) and the max depth to 3, and 10, and None (let it be unconstrained). Set bootstrap to both True and False. Set the number of features to consider at every split to both \"autp\" and \"sqrt\". Use ```pprint``` like I did earlier in this notebook to print the parameters set\n",
        "\n",
        "**this takes some computational time! so do not start this at the last minute!!**\n",
        "\n",
        " \n",
        "\n"
      ]
    },
    {
      "cell_type": "code",
      "metadata": {
        "id": "t-QQqGlp5ty3",
        "colab": {
          "base_uri": "https://localhost:8080/"
        },
        "outputId": "35beba49-7db5-486d-f62b-5b2e20aeb362"
      },
      "source": [
        "pprint(random_grid)\n"
      ],
      "execution_count": 70,
      "outputs": [
        {
          "output_type": "stream",
          "name": "stdout",
          "text": [
            "Pretty printing has been turned ON\n"
          ]
        }
      ]
    },
    {
      "cell_type": "markdown",
      "metadata": {
        "id": "SfdKk4Pk7tTz"
      },
      "source": [
        " mine and your best features do not necessarily have to be the same because our models may be different (different parameters, different random seed etc)"
      ]
    },
    {
      "cell_type": "code",
      "metadata": {
        "id": "Wgh8TOENZn6p",
        "colab": {
          "base_uri": "https://localhost:8080/",
          "height": 169
        },
        "outputId": "d581211b-4eb5-4836-a0a5-193efe65627d"
      },
      "source": [
        "higgsdata.iloc[:, best_features_index]"
      ],
      "execution_count": 68,
      "outputs": [
        {
          "output_type": "error",
          "ename": "NameError",
          "evalue": "ignored",
          "traceback": [
            "\u001b[0;31m---------------------------------------------------------------------------\u001b[0m",
            "\u001b[0;31mNameError\u001b[0m                                 Traceback (most recent call last)",
            "\u001b[0;32m<ipython-input-68-a2e56f06dff5>\u001b[0m in \u001b[0;36m<cell line: 1>\u001b[0;34m()\u001b[0m\n\u001b[0;32m----> 1\u001b[0;31m \u001b[0mhiggsdata\u001b[0m\u001b[0;34m.\u001b[0m\u001b[0miloc\u001b[0m\u001b[0;34m[\u001b[0m\u001b[0;34m:\u001b[0m\u001b[0;34m,\u001b[0m \u001b[0mbest_features_index\u001b[0m\u001b[0;34m]\u001b[0m\u001b[0;34m\u001b[0m\u001b[0;34m\u001b[0m\u001b[0m\n\u001b[0m",
            "\u001b[0;31mNameError\u001b[0m: name 'best_features_index' is not defined"
          ]
        }
      ]
    },
    {
      "cell_type": "code",
      "metadata": {
        "id": "1AJ70oqZPvL_",
        "colab": {
          "base_uri": "https://localhost:8080/",
          "height": 222
        },
        "outputId": "851dc5cf-3853-4c33-b79c-bfc7da14b6b8"
      },
      "source": [
        "# Use the random grid to search for best hyperparameters\n",
        "# First create the base model to tune\n",
        "# Random search of parameters, using 3 fold cross validation, \n",
        "# search across 18 different combinations\n",
        "from sklearn.model_selection import RandomizedSearchCV\n",
        "random_search = RandomizedSearchCV(estimator = rf, param_distributions=random_grid,\n",
        "                                   n_iter=1, cv=3, iid=False)\n"
      ],
      "execution_count": 67,
      "outputs": [
        {
          "output_type": "error",
          "ename": "NameError",
          "evalue": "ignored",
          "traceback": [
            "\u001b[0;31m---------------------------------------------------------------------------\u001b[0m",
            "\u001b[0;31mNameError\u001b[0m                                 Traceback (most recent call last)",
            "\u001b[0;32m<ipython-input-67-b6b0f1322519>\u001b[0m in \u001b[0;36m<cell line: 6>\u001b[0;34m()\u001b[0m\n\u001b[1;32m      4\u001b[0m \u001b[0;31m# search across 18 different combinations\u001b[0m\u001b[0;34m\u001b[0m\u001b[0;34m\u001b[0m\u001b[0m\n\u001b[1;32m      5\u001b[0m \u001b[0;32mfrom\u001b[0m \u001b[0msklearn\u001b[0m\u001b[0;34m.\u001b[0m\u001b[0mmodel_selection\u001b[0m \u001b[0;32mimport\u001b[0m \u001b[0mRandomizedSearchCV\u001b[0m\u001b[0;34m\u001b[0m\u001b[0;34m\u001b[0m\u001b[0m\n\u001b[0;32m----> 6\u001b[0;31m random_search = RandomizedSearchCV(estimator = rf, param_distributions=random_grid,\n\u001b[0m\u001b[1;32m      7\u001b[0m                                    n_iter=1, cv=3, iid=False)\n",
            "\u001b[0;31mNameError\u001b[0m: name 'random_grid' is not defined"
          ]
        }
      ]
    },
    {
      "cell_type": "markdown",
      "metadata": {
        "id": "T3W60KM1Jb5r"
      },
      "source": [
        "Note that this may take a long time! It took 1 hour for me to run this. Dont start at the last minute!!"
      ]
    },
    {
      "cell_type": "code",
      "metadata": {
        "id": "nCzypqyrtsEg"
      },
      "source": [
        "random_search.fit(...\n",
        "                  "
      ],
      "execution_count": null,
      "outputs": []
    },
    {
      "cell_type": "code",
      "metadata": {
        "id": "4GfLrtvPBVT7"
      },
      "source": [
        "print(\"Tuned RF  Parameters: {}\".format(...))\n",
        "print(\"Best score is {}\".format(...))\n"
      ],
      "execution_count": null,
      "outputs": []
    },
    {
      "cell_type": "code",
      "metadata": {
        "id": "WaHvlFa27EV4",
        "colab": {
          "base_uri": "https://localhost:8080/",
          "height": 169
        },
        "outputId": "357463c2-6962-47ca-bd38-2754ceaafdce"
      },
      "source": [
        "df = pd.DataFrame(random_search.cv_results_)\n"
      ],
      "execution_count": 69,
      "outputs": [
        {
          "output_type": "error",
          "ename": "NameError",
          "evalue": "ignored",
          "traceback": [
            "\u001b[0;31m---------------------------------------------------------------------------\u001b[0m",
            "\u001b[0;31mNameError\u001b[0m                                 Traceback (most recent call last)",
            "\u001b[0;32m<ipython-input-69-23169cd5af5b>\u001b[0m in \u001b[0;36m<cell line: 1>\u001b[0;34m()\u001b[0m\n\u001b[0;32m----> 1\u001b[0;31m \u001b[0mdf\u001b[0m \u001b[0;34m=\u001b[0m \u001b[0mpd\u001b[0m\u001b[0;34m.\u001b[0m\u001b[0mDataFrame\u001b[0m\u001b[0;34m(\u001b[0m\u001b[0mrandom_search\u001b[0m\u001b[0;34m.\u001b[0m\u001b[0mcv_results_\u001b[0m\u001b[0;34m)\u001b[0m\u001b[0;34m\u001b[0m\u001b[0;34m\u001b[0m\u001b[0m\n\u001b[0m",
            "\u001b[0;31mNameError\u001b[0m: name 'random_search' is not defined"
          ]
        }
      ]
    },
    {
      "cell_type": "code",
      "metadata": {
        "id": "6pcXfIzb7eEw"
      },
      "source": [
        "df"
      ],
      "execution_count": null,
      "outputs": []
    },
    {
      "cell_type": "markdown",
      "metadata": {
        "id": "e1r9zN9yI-at"
      },
      "source": [
        "# Plot a simple 3-point ROC curve for the model with the best parameters found in the previous step. Describe it. "
      ]
    },
    {
      "cell_type": "code",
      "metadata": {
        "id": "Wl2NKYAy9LYt"
      },
      "source": [
        "rf.fit(traindata, train_label.values.flatten()==\"s\", max_depth.....)"
      ],
      "execution_count": null,
      "outputs": []
    },
    {
      "cell_type": "code",
      "metadata": {
        "id": "Ap4ZcVFm7zyD"
      },
      "source": [
        "# The random forest model by itself\n",
        "from sklearn.metrics import roc_curve\n",
        "y_pred_grd_rfcat = rf.predict_proba(testdata)[:, 1]\n",
        "\n",
        "fpr_rf, tpr_rf, _ = roc_curve(test_label.values.flatten()==\"s\", rf.predict(y_pred_grd_rfcat))\n",
        "\n",
        "plt.figure(1)\n",
        "plt.plot([0, 1], [0, 1], 'k--')\n",
        "plt.plot(fpr_rf, tpr_rf, label='RF')\n",
        "plt.xlabel('False positive rate')\n",
        "plt.ylabel('True positive rate')\n",
        "plt.title('ROC curve')\n",
        "plt.legend(loc='best')\n",
        "plt.show()\n"
      ],
      "execution_count": null,
      "outputs": []
    },
    {
      "cell_type": "code",
      "metadata": {
        "id": "0jiROnM7-E0n"
      },
      "source": [],
      "execution_count": null,
      "outputs": []
    }
  ]
}