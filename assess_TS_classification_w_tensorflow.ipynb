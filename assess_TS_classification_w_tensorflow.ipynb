{
  "cells": [
    {
      "cell_type": "markdown",
      "metadata": {
        "id": "view-in-github",
        "colab_type": "text"
      },
      "source": [
        "<a href=\"https://colab.research.google.com/github/savimhl/MLPNS_MSavi/blob/main/assess_TS_classification_w_tensorflow.ipynb\" target=\"_parent\"><img src=\"https://colab.research.google.com/assets/colab-badge.svg\" alt=\"Open In Colab\"/></a>"
      ]
    },
    {
      "cell_type": "markdown",
      "source": [
        "# Timeseries classification with a Transformer model\n",
        "\n",
        "**Author:** [Theodoros Ntakouris](https://github.com/ntakouris)<br>\n",
        "**Date created:** 2021/06/25<br>\n",
        "**Last modified:** 2021/08/05<br>\n",
        "**Description:** This notebook demonstrates how to do timeseries classification using a Transformer model."
      ],
      "metadata": {
        "id": "ZQ-nRNLhognE"
      }
    },
    {
      "cell_type": "markdown",
      "source": [
        "THIS KERAS EXAMPLE OF APPLICATION OF TRANSFORMERS TO TIME SERIES ANALYSIS IS **WRONG**\n",
        "\n",
        "My student Willow Fox Fortino found that out... "
      ],
      "metadata": {
        "id": "X9L2K8IfPS5c"
      }
    },
    {
      "cell_type": "markdown",
      "source": [
        "## Introduction\n",
        "\n",
        "This is the Transformer architecture from\n",
        "[Attention Is All You Need](https://arxiv.org/abs/1706.03762),\n",
        "applied to timeseries instead of natural language.\n",
        "\n",
        "This example requires TensorFlow 2.4 or higher.\n",
        "\n",
        "## Load the dataset\n",
        "\n",
        "We are going to use the same dataset and preprocessing as the\n",
        "[TimeSeries Classification from Scratch](https://keras.io/examples/timeseries/timeseries_classification_from_scratch)\n",
        "example."
      ],
      "metadata": {
        "id": "2-8RslF7ognH"
      }
    },
    {
      "cell_type": "code",
      "source": [
        "from google.colab import drive\n",
        "drive.mount('/content/drive')"
      ],
      "metadata": {
        "colab": {
          "base_uri": "https://localhost:8080/"
        },
        "id": "Rf7pcMVatnVR",
        "outputId": "f209fec8-0b75-4bb4-ab24-ccd28b442c38"
      },
      "execution_count": 1,
      "outputs": [
        {
          "output_type": "stream",
          "name": "stdout",
          "text": [
            "Mounted at /content/drive\n"
          ]
        }
      ]
    },
    {
      "cell_type": "code",
      "source": [
        "cd /content/drive/MyDrive/MLPNS2023/"
      ],
      "metadata": {
        "colab": {
          "base_uri": "https://localhost:8080/"
        },
        "id": "qB7sWeyptvTZ",
        "outputId": "a9e7000c-7378-47bb-ba20-1f2ab3eac2a2"
      },
      "execution_count": 2,
      "outputs": [
        {
          "output_type": "stream",
          "name": "stdout",
          "text": [
            "/content/drive/MyDrive/MLPNS2023\n"
          ]
        }
      ]
    },
    {
      "cell_type": "code",
      "execution_count": 3,
      "source": [
        "import numpy as np\n",
        "\n",
        "\n",
        "def readucr(filename):\n",
        "    data = np.loadtxt(filename, delimiter=\"\\t\")\n",
        "    y = data[:, 0]\n",
        "    x = data[:, 1:]\n",
        "    return x, y.astype(int)\n",
        "\n",
        "\n",
        "root_url = \"https://raw.githubusercontent.com/hfawaz/cd-diagram/master/FordA/\"\n",
        "\n",
        "x_train, y_train = readucr(root_url + \"FordA_TRAIN.tsv\")\n",
        "x_test, y_test = readucr(root_url + \"FordA_TEST.tsv\")\n",
        "\n",
        "x_train = x_train.reshape((x_train.shape[0], x_train.shape[1], 1))\n",
        "x_test = x_test.reshape((x_test.shape[0], x_test.shape[1], 1))\n",
        "\n",
        "n_classes = len(np.unique(y_train))\n",
        "\n",
        "idx = np.random.permutation(len(x_train))\n",
        "x_train = x_train[idx]\n",
        "y_train = y_train[idx]\n",
        "\n",
        "y_train[y_train == -1] = 0\n",
        "y_test[y_test == -1] = 0"
      ],
      "outputs": [],
      "metadata": {
        "id": "XMBJszHaognI"
      }
    },
    {
      "cell_type": "markdown",
      "source": [
        "# TASK 1: \n",
        "\n",
        "the author provide no data exploration. That is not acceptable. Explore the data"
      ],
      "metadata": {
        "id": "Ddlb5cxOZ-xc"
      }
    },
    {
      "cell_type": "code",
      "source": [
        "import pylab as pl\n"
      ],
      "metadata": {
        "id": "SKubiQOgb-8T"
      },
      "execution_count": 4,
      "outputs": []
    },
    {
      "cell_type": "code",
      "source": [
        "x_train.shape"
      ],
      "metadata": {
        "id": "0i3YHI21aut9",
        "outputId": "988317c5-7d33-456a-c35a-6842525828b5",
        "colab": {
          "base_uri": "https://localhost:8080/"
        }
      },
      "execution_count": 5,
      "outputs": [
        {
          "output_type": "execute_result",
          "data": {
            "text/plain": [
              "(3601, 500, 1)"
            ]
          },
          "metadata": {},
          "execution_count": 5
        }
      ]
    },
    {
      "cell_type": "code",
      "source": [
        "y_train.shape"
      ],
      "metadata": {
        "id": "OkTXJv_MbbPt",
        "outputId": "8e272ba0-6bee-4a7b-9027-086abefa8bb7",
        "colab": {
          "base_uri": "https://localhost:8080/"
        }
      },
      "execution_count": 6,
      "outputs": [
        {
          "output_type": "execute_result",
          "data": {
            "text/plain": [
              "(3601,)"
            ]
          },
          "metadata": {},
          "execution_count": 6
        }
      ]
    },
    {
      "cell_type": "code",
      "source": [
        "x_test.shape"
      ],
      "metadata": {
        "id": "9KhnTJmTbx3C",
        "outputId": "f82ed96d-11c5-4381-975e-6c3de2df4349",
        "colab": {
          "base_uri": "https://localhost:8080/"
        }
      },
      "execution_count": 7,
      "outputs": [
        {
          "output_type": "execute_result",
          "data": {
            "text/plain": [
              "(1320, 500, 1)"
            ]
          },
          "metadata": {},
          "execution_count": 7
        }
      ]
    },
    {
      "cell_type": "code",
      "source": [
        "y_test.shape"
      ],
      "metadata": {
        "id": "eSkg-GBAbzNj",
        "outputId": "5c535aca-416c-40af-aabd-ae02d2669d06",
        "colab": {
          "base_uri": "https://localhost:8080/"
        }
      },
      "execution_count": 8,
      "outputs": [
        {
          "output_type": "execute_result",
          "data": {
            "text/plain": [
              "(1320,)"
            ]
          },
          "metadata": {},
          "execution_count": 8
        }
      ]
    },
    {
      "cell_type": "code",
      "source": [
        "x_train[:,0,0].shape"
      ],
      "metadata": {
        "id": "qOUF-gRicuiU",
        "outputId": "be536fcb-8b71-4328-b397-bbc9fc6a37bf",
        "colab": {
          "base_uri": "https://localhost:8080/"
        }
      },
      "execution_count": 9,
      "outputs": [
        {
          "output_type": "execute_result",
          "data": {
            "text/plain": [
              "(3601,)"
            ]
          },
          "metadata": {},
          "execution_count": 9
        }
      ]
    },
    {
      "cell_type": "code",
      "source": [
        "y_train"
      ],
      "metadata": {
        "id": "13ZDleTSd4ex",
        "outputId": "6d0ffd53-e5bd-4950-ba9c-97c503d0aadf",
        "colab": {
          "base_uri": "https://localhost:8080/"
        }
      },
      "execution_count": 10,
      "outputs": [
        {
          "output_type": "execute_result",
          "data": {
            "text/plain": [
              "array([0, 0, 1, ..., 0, 1, 1])"
            ]
          },
          "metadata": {},
          "execution_count": 10
        }
      ]
    },
    {
      "cell_type": "code",
      "source": [
        "\n",
        "pl.plot(x_train[:,0,0], y_train, \"o\")"
      ],
      "metadata": {
        "id": "1YuLwAzgb2d4",
        "outputId": "c25cf2cd-451c-4799-baca-704256d2e137",
        "colab": {
          "base_uri": "https://localhost:8080/",
          "height": 447
        }
      },
      "execution_count": 11,
      "outputs": [
        {
          "output_type": "execute_result",
          "data": {
            "text/plain": [
              "[<matplotlib.lines.Line2D at 0x7fafadc000d0>]"
            ]
          },
          "metadata": {},
          "execution_count": 11
        },
        {
          "output_type": "display_data",
          "data": {
            "text/plain": [
              "<Figure size 640x480 with 1 Axes>"
            ],
            "image/png": "[encoded data removed]"
          },
          "metadata": {}
        }
      ]
    },
    {
      "cell_type": "code",
      "source": [
        "x_train[0,0,:]"
      ],
      "metadata": {
        "id": "Xdik-J9Ne8YQ",
        "outputId": "f257c6ee-44c4-4a00-f1c5-79b639ca51cd",
        "colab": {
          "base_uri": "https://localhost:8080/"
        }
      },
      "execution_count": 12,
      "outputs": [
        {
          "output_type": "execute_result",
          "data": {
            "text/plain": [
              "array([-1.7318177])"
            ]
          },
          "metadata": {},
          "execution_count": 12
        }
      ]
    },
    {
      "cell_type": "code",
      "source": [
        "x_train.reshape(3601,500)"
      ],
      "metadata": {
        "id": "1YWRrb4chjB8",
        "outputId": "02903617-f9af-4dd6-9d7f-adee2ba5fb45",
        "colab": {
          "base_uri": "https://localhost:8080/"
        }
      },
      "execution_count": 13,
      "outputs": [
        {
          "output_type": "execute_result",
          "data": {
            "text/plain": [
              "array([[-1.7318177 , -1.9671547 , -2.0848232 , ..., -1.7841148 ,\n",
              "        -1.365738  , -0.87676011],\n",
              "       [ 0.32188338,  0.54127787,  0.65097511, ..., -0.01799078,\n",
              "         0.11292352,  0.32455893],\n",
              "       [ 1.6969573 ,  1.3223602 ,  0.79464377, ..., -0.43118226,\n",
              "        -0.25989818, -0.07695805],\n",
              "       ...,\n",
              "       [ 1.0447303 ,  1.2422232 ,  1.2054233 , ..., -1.1019314 ,\n",
              "        -0.15065363,  0.99321041],\n",
              "       [ 0.09851273,  0.26493666,  0.44534766, ..., -0.48315305,\n",
              "        -0.92026694, -1.2735211 ],\n",
              "       [-0.61422959, -0.87059136, -1.0892804 , ..., -0.42458124,\n",
              "        -0.26256821, -0.02022817]])"
            ]
          },
          "metadata": {},
          "execution_count": 13
        }
      ]
    },
    {
      "cell_type": "markdown",
      "source": [
        "## Build the model\n",
        "\n",
        "Our model processes a tensor of shape `(batch size, sequence length, features)`,\n",
        "where `sequence length` is the number of time steps and `features` is each input\n",
        "timeseries.\n",
        "\n",
        "You can replace your classification RNN layers with this one: the\n",
        "inputs are fully compatible!"
      ],
      "metadata": {
        "id": "8mHX4SxaognJ"
      }
    },
    {
      "cell_type": "code",
      "execution_count": 14,
      "source": [
        "from tensorflow import keras\n",
        "from tensorflow.keras import layers"
      ],
      "outputs": [],
      "metadata": {
        "id": "krGMC9mDognJ"
      }
    },
    {
      "cell_type": "markdown",
      "source": [
        "We include residual connections, layer normalization, and dropout.\n",
        "The resulting layer can be stacked multiple times.\n",
        "\n",
        "The projection layers are implemented through `keras.layers.Conv1D`."
      ],
      "metadata": {
        "id": "8vqf9PsfognJ"
      }
    },
    {
      "cell_type": "code",
      "execution_count": 15,
      "source": [
        "\n",
        "def transformer_encoder(inputs, head_size, num_heads, ff_dim, dropout=0):\n",
        "    # Normalization and Attention\n",
        "    x = layers.LayerNormalization(epsilon=1e-6)(inputs)\n",
        "    x = layers.MultiHeadAttention(\n",
        "        key_dim=head_size, num_heads=num_heads, dropout=dropout\n",
        "    )(x, x)\n",
        "    x = layers.Dropout(dropout)(x)\n",
        "    res = x + inputs\n",
        "\n",
        "    # Feed Forward Part\n",
        "    x = layers.LayerNormalization(epsilon=1e-6)(res)\n",
        "    x = layers.Conv1D(filters=ff_dim, kernel_size=1, activation=\"relu\")(x)\n",
        "    x = layers.Dropout(dropout)(x)\n",
        "    x = layers.Conv1D(filters=inputs.shape[-1], kernel_size=1)(x)\n",
        "    return x + res\n"
      ],
      "outputs": [],
      "metadata": {
        "id": "vZyK2X9PognJ"
      }
    },
    {
      "cell_type": "markdown",
      "source": [
        "The main part of our model is now complete. We can stack multiple of those\n",
        "`transformer_encoder` blocks and we can also proceed to add the final\n",
        "Multi-Layer Perceptron classification head. Apart from a stack of `Dense`\n",
        "layers, we need to reduce the output tensor of the `TransformerEncoder` part of\n",
        "our model down to a vector of features for each data point in the current\n",
        "batch. A common way to achieve this is to use a pooling layer. For\n",
        "this example, a `GlobalAveragePooling1D` layer is sufficient."
      ],
      "metadata": {
        "id": "rItYDH_LognK"
      }
    },
    {
      "cell_type": "code",
      "execution_count": 16,
      "source": [
        "\n",
        "def build_model(\n",
        "    input_shape,\n",
        "    head_size,\n",
        "    num_heads,\n",
        "    ff_dim,\n",
        "    num_transformer_blocks,\n",
        "    mlp_units,\n",
        "    dropout=0,\n",
        "    mlp_dropout=0,\n",
        "):\n",
        "    inputs = keras.Input(shape=input_shape)\n",
        "    x = inputs\n",
        "    for _ in range(num_transformer_blocks):\n",
        "        x = transformer_encoder(x, head_size, num_heads, ff_dim, dropout)\n",
        "\n",
        "    x = layers.GlobalAveragePooling1D(data_format=\"channels_first\")(x)\n",
        "    for dim in mlp_units:\n",
        "        x = layers.Dense(dim, activation=\"relu\")(x)\n",
        "        x = layers.Dropout(mlp_dropout)(x)\n",
        "    outputs = layers.Dense(n_classes, activation=\"softmax\")(x)\n",
        "    return keras.Model(inputs, outputs)\n"
      ],
      "outputs": [],
      "metadata": {
        "id": "XvxrXqWKognK"
      }
    },
    {
      "cell_type": "markdown",
      "source": [
        "## Train and evaluate"
      ],
      "metadata": {
        "id": "wXT9pqcuognL"
      }
    },
    {
      "cell_type": "code",
      "execution_count": 17,
      "source": [
        "input_shape = x_train.shape[1:]\n",
        "\n",
        "\"\"\"\n",
        "create a model with :\n",
        "4 multiattention heads each size 256, \n",
        "4 transformer blocks\n",
        "4 neurons in the convolutional layers\n",
        "128 neurons in the feed forward layers\n",
        "dropout 40% on the transformer layers\n",
        "dropout 25% on the feed forward layers\n",
        "\n",
        "compile it with a sparse_categorical_crossentropy,\n",
        "choose the kearas adam optimizer with a learning rate of 1e-4\n",
        "monitor the sparse_categorical_accuracy metric\n",
        "\"\"\"\n",
        "\n",
        "model = build_model(\n",
        "    input_shape,\n",
        "    head_size=256,\n",
        "    num_heads=4,\n",
        "    ff_dim=4,\n",
        "    num_transformer_blocks=4,\n",
        "    mlp_units=[128],\n",
        "    mlp_dropout=0.4,\n",
        "    dropout=0.25,\n",
        ")\n",
        "\n",
        "model.compile(\n",
        "    loss=\"sparse_categorical_crossentropy\",\n",
        "    optimizer=keras.optimizers.Adam(learning_rate=1e-4),\n",
        "    metrics=[\"sparse_categorical_accuracy\"],\n",
        ")\n",
        "\n",
        "model = keras.models.load_model('transformer_h4_model.h5')\n",
        "model.summary()\n",
        "\n",
        "callbacks = [keras.callbacks.EarlyStopping(patience=10, \n",
        "                                           restore_best_weights=True)]\n",
        "\n"
      ],
      "outputs": [
        {
          "output_type": "stream",
          "name": "stdout",
          "text": [
            "Model: \"model_3\"\n",
            "__________________________________________________________________________________________________\n",
            " Layer (type)                   Output Shape         Param #     Connected to                     \n",
            "==================================================================================================\n",
            " input_5 (InputLayer)           [(None, 500, 1)]     0           []                               \n",
            "                                                                                                  \n",
            " layer_normalization_32 (LayerN  (None, 500, 1)      2           ['input_5[0][0]']                \n",
            " ormalization)                                                                                    \n",
            "                                                                                                  \n",
            " multi_head_attention_16 (Multi  (None, 500, 1)      7169        ['layer_normalization_32[0][0]', \n",
            " HeadAttention)                                                   'layer_normalization_32[0][0]'] \n",
            "                                                                                                  \n",
            " dropout_34 (Dropout)           (None, 500, 1)       0           ['multi_head_attention_16[0][0]']\n",
            "                                                                                                  \n",
            " tf.__operators__.add_31 (TFOpL  (None, 500, 1)      0           ['dropout_34[0][0]',             \n",
            " ambda)                                                           'input_5[0][0]']                \n",
            "                                                                                                  \n",
            " layer_normalization_33 (LayerN  (None, 500, 1)      2           ['tf.__operators__.add_31[0][0]']\n",
            " ormalization)                                                                                    \n",
            "                                                                                                  \n",
            " conv1d_30 (Conv1D)             (None, 500, 4)       8           ['layer_normalization_33[0][0]'] \n",
            "                                                                                                  \n",
            " dropout_35 (Dropout)           (None, 500, 4)       0           ['conv1d_30[0][0]']              \n",
            "                                                                                                  \n",
            " conv1d_31 (Conv1D)             (None, 500, 1)       5           ['dropout_35[0][0]']             \n",
            "                                                                                                  \n",
            " tf.__operators__.add_32 (TFOpL  (None, 500, 1)      0           ['conv1d_31[0][0]',              \n",
            " ambda)                                                           'tf.__operators__.add_31[0][0]']\n",
            "                                                                                                  \n",
            " layer_normalization_34 (LayerN  (None, 500, 1)      2           ['tf.__operators__.add_32[0][0]']\n",
            " ormalization)                                                                                    \n",
            "                                                                                                  \n",
            " multi_head_attention_17 (Multi  (None, 500, 1)      7169        ['layer_normalization_34[0][0]', \n",
            " HeadAttention)                                                   'layer_normalization_34[0][0]'] \n",
            "                                                                                                  \n",
            " dropout_36 (Dropout)           (None, 500, 1)       0           ['multi_head_attention_17[0][0]']\n",
            "                                                                                                  \n",
            " tf.__operators__.add_33 (TFOpL  (None, 500, 1)      0           ['dropout_36[0][0]',             \n",
            " ambda)                                                           'tf.__operators__.add_32[0][0]']\n",
            "                                                                                                  \n",
            " layer_normalization_35 (LayerN  (None, 500, 1)      2           ['tf.__operators__.add_33[0][0]']\n",
            " ormalization)                                                                                    \n",
            "                                                                                                  \n",
            " conv1d_32 (Conv1D)             (None, 500, 4)       8           ['layer_normalization_35[0][0]'] \n",
            "                                                                                                  \n",
            " dropout_37 (Dropout)           (None, 500, 4)       0           ['conv1d_32[0][0]']              \n",
            "                                                                                                  \n",
            " conv1d_33 (Conv1D)             (None, 500, 1)       5           ['dropout_37[0][0]']             \n",
            "                                                                                                  \n",
            " tf.__operators__.add_34 (TFOpL  (None, 500, 1)      0           ['conv1d_33[0][0]',              \n",
            " ambda)                                                           'tf.__operators__.add_33[0][0]']\n",
            "                                                                                                  \n",
            " layer_normalization_36 (LayerN  (None, 500, 1)      2           ['tf.__operators__.add_34[0][0]']\n",
            " ormalization)                                                                                    \n",
            "                                                                                                  \n",
            " multi_head_attention_18 (Multi  (None, 500, 1)      7169        ['layer_normalization_36[0][0]', \n",
            " HeadAttention)                                                   'layer_normalization_36[0][0]'] \n",
            "                                                                                                  \n",
            " dropout_38 (Dropout)           (None, 500, 1)       0           ['multi_head_attention_18[0][0]']\n",
            "                                                                                                  \n",
            " tf.__operators__.add_35 (TFOpL  (None, 500, 1)      0           ['dropout_38[0][0]',             \n",
            " ambda)                                                           'tf.__operators__.add_34[0][0]']\n",
            "                                                                                                  \n",
            " layer_normalization_37 (LayerN  (None, 500, 1)      2           ['tf.__operators__.add_35[0][0]']\n",
            " ormalization)                                                                                    \n",
            "                                                                                                  \n",
            " conv1d_34 (Conv1D)             (None, 500, 4)       8           ['layer_normalization_37[0][0]'] \n",
            "                                                                                                  \n",
            " dropout_39 (Dropout)           (None, 500, 4)       0           ['conv1d_34[0][0]']              \n",
            "                                                                                                  \n",
            " conv1d_35 (Conv1D)             (None, 500, 1)       5           ['dropout_39[0][0]']             \n",
            "                                                                                                  \n",
            " tf.__operators__.add_36 (TFOpL  (None, 500, 1)      0           ['conv1d_35[0][0]',              \n",
            " ambda)                                                           'tf.__operators__.add_35[0][0]']\n",
            "                                                                                                  \n",
            " layer_normalization_38 (LayerN  (None, 500, 1)      2           ['tf.__operators__.add_36[0][0]']\n",
            " ormalization)                                                                                    \n",
            "                                                                                                  \n",
            " multi_head_attention_19 (Multi  (None, 500, 1)      7169        ['layer_normalization_38[0][0]', \n",
            " HeadAttention)                                                   'layer_normalization_38[0][0]'] \n",
            "                                                                                                  \n",
            " dropout_40 (Dropout)           (None, 500, 1)       0           ['multi_head_attention_19[0][0]']\n",
            "                                                                                                  \n",
            " tf.__operators__.add_37 (TFOpL  (None, 500, 1)      0           ['dropout_40[0][0]',             \n",
            " ambda)                                                           'tf.__operators__.add_36[0][0]']\n",
            "                                                                                                  \n",
            " layer_normalization_39 (LayerN  (None, 500, 1)      2           ['tf.__operators__.add_37[0][0]']\n",
            " ormalization)                                                                                    \n",
            "                                                                                                  \n",
            " conv1d_36 (Conv1D)             (None, 500, 4)       8           ['layer_normalization_39[0][0]'] \n",
            "                                                                                                  \n",
            " dropout_41 (Dropout)           (None, 500, 4)       0           ['conv1d_36[0][0]']              \n",
            "                                                                                                  \n",
            " conv1d_37 (Conv1D)             (None, 500, 1)       5           ['dropout_41[0][0]']             \n",
            "                                                                                                  \n",
            " tf.__operators__.add_38 (TFOpL  (None, 500, 1)      0           ['conv1d_37[0][0]',              \n",
            " ambda)                                                           'tf.__operators__.add_37[0][0]']\n",
            "                                                                                                  \n",
            " global_average_pooling1d_3 (Gl  (None, 500)         0           ['tf.__operators__.add_38[0][0]']\n",
            " obalAveragePooling1D)                                                                            \n",
            "                                                                                                  \n",
            " dense_6 (Dense)                (None, 128)          64128       ['global_average_pooling1d_3[0][0\n",
            "                                                                 ]']                              \n",
            "                                                                                                  \n",
            " dropout_42 (Dropout)           (None, 128)          0           ['dense_6[0][0]']                \n",
            "                                                                                                  \n",
            " dense_7 (Dense)                (None, 2)            258         ['dropout_42[0][0]']             \n",
            "                                                                                                  \n",
            "==================================================================================================\n",
            "Total params: 93,130\n",
            "Trainable params: 93,130\n",
            "Non-trainable params: 0\n",
            "__________________________________________________________________________________________________\n"
          ]
        }
      ],
      "metadata": {
        "id": "Zin3w41vognL",
        "outputId": "9b1f518d-8502-42c3-f356-61750bb4315a",
        "colab": {
          "base_uri": "https://localhost:8080/"
        }
      }
    },
    {
      "cell_type": "code",
      "source": [
        "with open('/transformer_h4_history', \"rb\") as file_pi:\n",
        "    history_4h = pickle.load(file_pi)\n",
        "   "
      ],
      "metadata": {
        "id": "DfYi3lZTWIHu",
        "colab": {
          "base_uri": "https://localhost:8080/",
          "height": 201
        },
        "outputId": "50a13d43-bfb2-4764-a03f-84a5256a3604"
      },
      "execution_count": 18,
      "outputs": [
        {
          "output_type": "error",
          "ename": "FileNotFoundError",
          "evalue": "ignored",
          "traceback": [
            "\u001b[0;31m---------------------------------------------------------------------------\u001b[0m",
            "\u001b[0;31mFileNotFoundError\u001b[0m                         Traceback (most recent call last)",
            "\u001b[0;32m<ipython-input-18-da7ea55838c1>\u001b[0m in \u001b[0;36m<cell line: 1>\u001b[0;34m()\u001b[0m\n\u001b[0;32m----> 1\u001b[0;31m \u001b[0;32mwith\u001b[0m \u001b[0mopen\u001b[0m\u001b[0;34m(\u001b[0m\u001b[0;34m'/transformer_h4_history'\u001b[0m\u001b[0;34m,\u001b[0m \u001b[0;34m\"rb\"\u001b[0m\u001b[0;34m)\u001b[0m \u001b[0;32mas\u001b[0m \u001b[0mfile_pi\u001b[0m\u001b[0;34m:\u001b[0m\u001b[0;34m\u001b[0m\u001b[0;34m\u001b[0m\u001b[0m\n\u001b[0m\u001b[1;32m      2\u001b[0m     \u001b[0mhistory_4h\u001b[0m \u001b[0;34m=\u001b[0m \u001b[0mpickle\u001b[0m\u001b[0;34m.\u001b[0m\u001b[0mload\u001b[0m\u001b[0;34m(\u001b[0m\u001b[0mfile_pi\u001b[0m\u001b[0;34m)\u001b[0m\u001b[0;34m\u001b[0m\u001b[0;34m\u001b[0m\u001b[0m\n\u001b[1;32m      3\u001b[0m \u001b[0;34m\u001b[0m\u001b[0m\n",
            "\u001b[0;31mFileNotFoundError\u001b[0m: [Errno 2] No such file or directory: '/transformer_h4_history'"
          ]
        }
      ]
    },
    {
      "cell_type": "code",
      "source": [
        "import pylab as plt\n",
        "print accuracy and loss\n",
        "\n",
        "plot the history .... what do you see?"
      ],
      "metadata": {
        "id": "u6Ibqh6wENkr"
      },
      "execution_count": null,
      "outputs": []
    },
    {
      "cell_type": "markdown",
      "source": [
        "## Conclusions\n",
        "\n",
        "Official version: In about 110-120 epochs (25s each on Colab), the model reaches a training\n",
        "accuracy of ~0.95, validation accuracy of ~84 and a testing\n",
        "accuracy of ~85, without hyperparameter tuning. And that is for a model\n",
        "with less than 100k parameters. Of course, parameter count and accuracy could be\n",
        "improved by a hyperparameter search and a more sophisticated learning rate\n",
        "schedule, or a different optimizer.\n",
        "\n",
        "You can use the trained model hosted on [Hugging Face Hub](https://huggingface.co/keras-io/timeseries_transformer_classification) and try the demo on [Hugging Face Spaces](https://huggingface.co/spaces/keras-io/timeseries_transformer_classification).\n",
        "\n",
        "**Reality** these transformer blocks are not doing anything! \n",
        "- there is no positional encoding\n",
        "- the time series are 1D and its not clear that the performance holds going from multivariate (tockenized) to univariate\n"
      ],
      "metadata": {
        "id": "HV47sNxGognL"
      }
    },
    {
      "cell_type": "code",
      "source": [
        "input_shape = x_train.shape[1:]\n",
        "\n",
        "\"\"\"\n",
        "create another model with :\n",
        "1 multiattention head size 256, \n",
        "0 transformer blocks\n",
        "4 neurons in the convolutional layers\n",
        "128 neurons in the feed forward layers\n",
        "dropout 40% on the transformer layers\n",
        "dropout 25% on the feed forward layers\n",
        "\n",
        "compile it with a sparse_categorical_crossentropy,\n",
        "choose the kearas adam optimizer with a learning rate of 1e-4\n",
        "monitor the sparse_categorical_accuracy metric\n",
        "\"\"\"\n",
        "\n",
        "model.summary()\n",
        "\n",
        "   "
      ],
      "metadata": {
        "id": "g6ReU0K01Mxq"
      },
      "execution_count": null,
      "outputs": []
    },
    {
      "cell_type": "markdown",
      "source": [
        "print accuracy and loss\n",
        "\n",
        "plot the history .... what do you see?"
      ],
      "metadata": {
        "id": "BcJd-Ql-1jAY"
      }
    }
  ],
  "metadata": {
    "accelerator": "GPU",
    "colab": {
      "provenance": [],
      "include_colab_link": true
    },
    "kernelspec": {
      "display_name": "Python 3",
      "language": "python",
      "name": "python3"
    },
    "language_info": {
      "codemirror_mode": {
        "name": "ipython",
        "version": 3
      },
      "file_extension": ".py",
      "mimetype": "text/x-python",
      "name": "python",
      "nbconvert_exporter": "python",
      "pygments_lexer": "ipython3",
      "version": "3.7.0"
    },
    "gpuClass": "standard"
  },
  "nbformat": 4,
  "nbformat_minor": 0
}