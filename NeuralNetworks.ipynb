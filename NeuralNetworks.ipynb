{
  "nbformat": 4,
  "nbformat_minor": 0,
  "metadata": {
    "colab": {
      "provenance": [],
      "authorship_tag": "ABX9TyNotzNR+jK8GkawWWiIqn0m",
      "include_colab_link": true
    },
    "kernelspec": {
      "name": "python3",
      "display_name": "Python 3"
    },
    "language_info": {
      "name": "python"
    }
  },
  "cells": [
    {
      "cell_type": "markdown",
      "metadata": {
        "id": "view-in-github",
        "colab_type": "text"
      },
      "source": [
        "<a href=\"https://colab.research.google.com/github/savimhl/MLPNS_MSavi/blob/main/NeuralNetworks.ipynb\" target=\"_parent\"><img src=\"https://colab.research.google.com/assets/colab-badge.svg\" alt=\"Open In Colab\"/></a>"
      ]
    },
    {
      "cell_type": "code",
      "execution_count": 1,
      "metadata": {
        "id": "6IxqlljcKSil"
      },
      "outputs": [],
      "source": [
        "import numpy as np\n",
        "import pylab as pl"
      ]
    },
    {
      "cell_type": "code",
      "source": [
        "X = np.array(\n",
        "    [[0,0,1],\n",
        "     [1,1,1],\n",
        "     [1,0,1],\n",
        "     [0,1,1]])"
      ],
      "metadata": {
        "id": "ouCO060QKws0"
      },
      "execution_count": 17,
      "outputs": []
    },
    {
      "cell_type": "code",
      "source": [
        "y = np.array([[0,1,1,0]]).T\n",
        "y"
      ],
      "metadata": {
        "colab": {
          "base_uri": "https://localhost:8080/"
        },
        "id": "9x1k46x2LBlQ",
        "outputId": "cc526c7b-c1f6-4489-c672-f6875cd8eade"
      },
      "execution_count": 3,
      "outputs": [
        {
          "output_type": "execute_result",
          "data": {
            "text/plain": [
              "array([[0],\n",
              "       [1],\n",
              "       [1],\n",
              "       [0]])"
            ]
          },
          "metadata": {},
          "execution_count": 3
        }
      ]
    },
    {
      "cell_type": "code",
      "source": [
        "y.shape"
      ],
      "metadata": {
        "colab": {
          "base_uri": "https://localhost:8080/"
        },
        "id": "-E8erEvMLZpq",
        "outputId": "35898bd9-e7f8-4f64-abfa-ece946e09898"
      },
      "execution_count": 4,
      "outputs": [
        {
          "output_type": "execute_result",
          "data": {
            "text/plain": [
              "(4, 1)"
            ]
          },
          "metadata": {},
          "execution_count": 4
        }
      ]
    },
    {
      "cell_type": "code",
      "source": [
        "\n",
        "pl.imshow(X);\n",
        "pl.axis('off');\n",
        "     "
      ],
      "metadata": {
        "colab": {
          "base_uri": "https://localhost:8080/",
          "height": 406
        },
        "id": "bipPnL5FKVFk",
        "outputId": "d68e0830-487b-4db3-eb51-d23e2e27f6c1"
      },
      "execution_count": 18,
      "outputs": [
        {
          "output_type": "display_data",
          "data": {
            "text/plain": [
              "<Figure size 640x480 with 1 Axes>"
            ],
            "image/png": "[encoded data removed]"
          },
          "metadata": {}
        }
      ]
    },
    {
      "cell_type": "code",
      "source": [
        "print(\"input\\n\", X)\n",
        "print(\"output\\n\", y)"
      ],
      "metadata": {
        "colab": {
          "base_uri": "https://localhost:8080/"
        },
        "id": "6ToL7vcHLafF",
        "outputId": "4c06c87f-7c49-47c7-a001-719551d17777"
      },
      "execution_count": 19,
      "outputs": [
        {
          "output_type": "stream",
          "name": "stdout",
          "text": [
            "input\n",
            " [[0 0 1]\n",
            " [1 1 1]\n",
            " [1 0 1]\n",
            " [0 1 1]]\n",
            "output\n",
            " [[0]\n",
            " [1]\n",
            " [1]\n",
            " [0]]\n"
          ]
        }
      ]
    },
    {
      "cell_type": "markdown",
      "source": [
        "#basic architecture: 1 layer\n",
        "\n",
        "4 osservazioni\n",
        "3 neuroni\n",
        "1 layer"
      ],
      "metadata": {
        "id": "LVhCi2y2Lf8K"
      }
    },
    {
      "cell_type": "code",
      "source": [
        "def sigmoid(x):\n",
        "  return 1./ (1. + np.exp(-x))"
      ],
      "metadata": {
        "id": "A3NLa-CCLj4E"
      },
      "execution_count": 20,
      "outputs": []
    },
    {
      "cell_type": "code",
      "source": [
        "pl.plot(sigmoid(np.arange(-10,10, 0.1)))"
      ],
      "metadata": {
        "colab": {
          "base_uri": "https://localhost:8080/",
          "height": 447
        },
        "id": "x3U6-flzMMCL",
        "outputId": "10a60fd3-3ec2-49ad-f661-8a66c56b38bd"
      },
      "execution_count": 21,
      "outputs": [
        {
          "output_type": "execute_result",
          "data": {
            "text/plain": [
              "[<matplotlib.lines.Line2D at 0x7fe048fc0640>]"
            ]
          },
          "metadata": {},
          "execution_count": 21
        },
        {
          "output_type": "display_data",
          "data": {
            "text/plain": [
              "<Figure size 640x480 with 1 Axes>"
            ],
            "image/png": "[encoded data removed]"
          },
          "metadata": {}
        }
      ]
    },
    {
      "cell_type": "code",
      "source": [
        "def loss(prediction, target):\n",
        "  return target - prediction"
      ],
      "metadata": {
        "id": "8XPCbL_DMax9"
      },
      "execution_count": 22,
      "outputs": []
    },
    {
      "cell_type": "code",
      "source": [
        "def dsigmoid(x):\n",
        "  return sigmoid(x) * (1. - sigmoid(x))"
      ],
      "metadata": {
        "id": "-jRndqL8NCZt"
      },
      "execution_count": 23,
      "outputs": []
    },
    {
      "cell_type": "markdown",
      "source": [
        "##Neural Network"
      ],
      "metadata": {
        "id": "S5Lfui59Mtua"
      }
    },
    {
      "cell_type": "code",
      "source": [
        "np.random.seed(302)\n",
        "\n",
        "training = 6000"
      ],
      "metadata": {
        "id": "yqmZWUpPM0R_"
      },
      "execution_count": 24,
      "outputs": []
    },
    {
      "cell_type": "code",
      "source": [
        "#layer of synopses / neurons\n",
        "#4x3"
      ],
      "metadata": {
        "id": "1aRhjuM_Na4w"
      },
      "execution_count": 25,
      "outputs": []
    },
    {
      "cell_type": "code",
      "source": [
        "syn0 = 2 * np.random.random((3,1)) - 1\n",
        "syn0\n",
        "loss_output=[]"
      ],
      "metadata": {
        "id": "tusjtcScN2xF"
      },
      "execution_count": 26,
      "outputs": []
    },
    {
      "cell_type": "code",
      "source": [
        "for iter in range(training):\n",
        "  inputLayer = X\n",
        " \n",
        "  #forward propagation\n",
        "  l1 = np.dot(inputLayer, syn0)\n",
        "  #linear regression\n",
        "  output= sigmoid(l1)\n",
        "  #activation\n",
        "  output_error = loss(output, y)\n",
        "  loss_output.append(np.abs(output_error).sum())\n",
        "\n",
        "  # backward propagation\n",
        "\n",
        "  #calculate correction\n",
        "  output_delta = output_error * dsigmoid(output)\n",
        "  #apply correction to weights\n",
        "  syn0 += np.dot(inputLayer.T, output_delta)\n",
        "\n",
        "\n",
        "print(\"output after training\\n\", output)\n",
        "print(\"output target\\n\", y)"
      ],
      "metadata": {
        "colab": {
          "base_uri": "https://localhost:8080/"
        },
        "id": "0E-AOcctOc63",
        "outputId": "e1d12193-ad8b-4fbd-c71f-63b8a9b42dc1"
      },
      "execution_count": 27,
      "outputs": [
        {
          "output_type": "stream",
          "name": "stdout",
          "text": [
            "output after training\n",
            " [[1.20403073e-03]\n",
            " [9.98979903e-01]\n",
            " [9.99320193e-01]\n",
            " [8.02432473e-04]]\n",
            "output target\n",
            " [[0]\n",
            " [1]\n",
            " [1]\n",
            " [0]]\n"
          ]
        }
      ]
    },
    {
      "cell_type": "code",
      "source": [
        "pl.plot(loss_output, label=\"Output\")\n",
        "pl.legend()\n",
        "pl.xlabel(\"iteration (epoch)\")\n",
        "pl.ylabel(\"global loss\")"
      ],
      "metadata": {
        "colab": {
          "base_uri": "https://localhost:8080/",
          "height": 466
        },
        "id": "5ayCWL7hQlF1",
        "outputId": "aca92d2e-e693-4d7b-c78d-9e528675a176"
      },
      "execution_count": 28,
      "outputs": [
        {
          "output_type": "execute_result",
          "data": {
            "text/plain": [
              "Text(0, 0.5, 'global loss')"
            ]
          },
          "metadata": {},
          "execution_count": 28
        },
        {
          "output_type": "display_data",
          "data": {
            "text/plain": [
              "<Figure size 640x480 with 1 Axes>"
            ],
            "image/png": "[encoded data removed]"
          },
          "metadata": {}
        }
      ]
    },
    {
      "cell_type": "markdown",
      "source": [],
      "metadata": {
        "id": "6ioqgxf_Qvae"
      }
    },
    {
      "cell_type": "code",
      "source": [],
      "metadata": {
        "id": "FC-3lycCKqYS"
      },
      "execution_count": null,
      "outputs": []
    }
  ]
}